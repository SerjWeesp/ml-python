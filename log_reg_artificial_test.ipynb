{
 "cells": [
  {
   "cell_type": "code",
   "execution_count": 76,
   "id": "d66809fa",
   "metadata": {
    "ExecuteTime": {
     "end_time": "2023-11-01T21:45:44.630447Z",
     "start_time": "2023-11-01T21:45:44.617983Z"
    }
   },
   "outputs": [],
   "source": [
    "import pandas as pd\n",
    "import numpy as np\n",
    "import matplotlib.pyplot as plt\n",
    "from sklearn.datasets import make_classification\n",
    "from sklearn.linear_model import LogisticRegression\n",
    "from sklearn.model_selection import train_test_split\n",
    "from sklearn.metrics import f1_score, accuracy_score\n",
    "from sklearn.preprocessing import StandardScaler\n",
    "SEED = 23"
   ]
  },
  {
   "cell_type": "code",
   "execution_count": 43,
   "id": "9c6e3096",
   "metadata": {
    "ExecuteTime": {
     "end_time": "2023-11-01T13:18:09.934315Z",
     "start_time": "2023-11-01T13:18:09.916220Z"
    }
   },
   "outputs": [],
   "source": [
    "def train_and_evaluate(clf, X_train, y_train, X_test, y_test, suffix=''):\n",
    "    # Fit the classifier\n",
    "    clf.fit(X_train, y_train)\n",
    "    \n",
    "    # Predict values\n",
    "    globals()[f'y_pred_train{suffix}'] = clf.predict(X_train)\n",
    "    globals()[f'y_pred{suffix}'] = clf.predict(X_test)\n",
    "    \n",
    "    # Predict probabilities\n",
    "    globals()[f'y_probs{suffix}'] = clf.predict_proba(X_test)[:, 1]\n",
    "\n",
    "    # Calculate metrics\n",
    "    globals()[f'train_score{suffix}'] = clf.score(X_train, y_train)\n",
    "    globals()[f'test_score{suffix}'] = clf.score(X_test, y_test)\n",
    "    globals()[f'f1_score{suffix}'] = f1_score(y_test, globals()[f'y_pred{suffix}'])\n",
    "    \n",
    "    # Print results\n",
    "    print(f'Train score{suffix}:', globals()[f'train_score{suffix}'])\n",
    "    print(f'Test score{suffix}:', globals()[f'test_score{suffix}'])\n",
    "    print(f'F1-score{suffix}:', globals()[f'f1_score{suffix}'])"
   ]
  },
  {
   "cell_type": "code",
   "execution_count": 44,
   "id": "af2ae9b6",
   "metadata": {
    "ExecuteTime": {
     "end_time": "2023-11-01T13:18:11.796649Z",
     "start_time": "2023-11-01T13:18:11.779402Z"
    }
   },
   "outputs": [],
   "source": [
    "def Standard_Outlier_Remover(df_source, num_cols, num_std=3): \n",
    "    \"\"\"\n",
    "    Remove outliers from specified numeric columns in a DataFrame.\n",
    "    \n",
    "    Parameters:\n",
    "    -----------\n",
    "    df_source : pandas DataFrame\n",
    "        The original DataFrame from which to remove outliers.\n",
    "    num_cols : list of str\n",
    "        List of column names in df_source that are numeric and should be checked for outliers.\n",
    "    num_std : int or float, optional\n",
    "        The number of standard deviations to use for defining outliers. Default is 3.\n",
    "        \n",
    "    Returns:\n",
    "    --------\n",
    "    df_win : pandas DataFrame\n",
    "        A new DataFrame with outliers removed.\n",
    "    ratio : float\n",
    "        The percentage of observations in the original DataFrame that were identified as outliers.\n",
    "    outliers : list of int\n",
    "        List of row indices in the original DataFrame that were identified as outliers.\n",
    "    \"\"\"\n",
    "    \n",
    "    df = df_source.copy()\n",
    "    \n",
    "    outliers = []\n",
    "    \n",
    "    for col in num_cols:\n",
    "        mean = df[col].mean()\n",
    "        std = df[col].std()\n",
    "        tol = num_std * std\n",
    "        upper = mean + tol\n",
    "        lower = mean - tol\n",
    "        \n",
    "        # Using vectorized operations to find outliers\n",
    "        outlier_mask = (df[col] > upper) | (df[col] < lower)\n",
    "        outliers.extend(df.index[outlier_mask])\n",
    "        \n",
    "    # Remove duplicates\n",
    "    outliers = list(set(outliers))\n",
    "    \n",
    "    # Calculate ratio of outliers\n",
    "    ratio = round(len(outliers) / len(df) * 100, 2)\n",
    "    \n",
    "    # Drop outliers\n",
    "    df_win = df.drop(index=outliers)\n",
    "    \n",
    "    return df_win, ratio, outliers"
   ]
  },
  {
   "cell_type": "code",
   "execution_count": 45,
   "id": "26328138",
   "metadata": {
    "ExecuteTime": {
     "end_time": "2023-11-01T13:18:12.097431Z",
     "start_time": "2023-11-01T13:18:12.073619Z"
    }
   },
   "outputs": [],
   "source": [
    "def high_corr(df_source, method='spearman', thsld=0.8, perc=0.95):\n",
    "    \"\"\"\n",
    "    Remove columns from a DataFrame that are highly correlated with other columns.\n",
    "\n",
    "    Parameters:\n",
    "    -----------\n",
    "    df_source : pandas.DataFrame\n",
    "        The original DataFrame for which to identify and remove highly correlated columns.\n",
    "\n",
    "    method : str, optional\n",
    "        The correlation method to be used. 'pearson', 'kendall', 'spearman' are supported. \n",
    "        Default is 'spearman'.\n",
    "\n",
    "    thsld : float, optional\n",
    "        The absolute correlation threshold. Pairs of columns with correlation higher than this value \n",
    "        will be considered for removal. Default is 0.8.\n",
    "\n",
    "    perc : float, optional\n",
    "        The percentile to use for deciding which variable to remove from a highly correlated pair.\n",
    "        Should be between 0 and 1. Default is 0.95.\n",
    "\n",
    "    Returns:\n",
    "    --------\n",
    "    df : pandas.DataFrame\n",
    "        A new DataFrame with highly correlated columns removed.\n",
    "\n",
    "    Notes:\n",
    "    ------\n",
    "    - For each pair of highly correlated columns, the function removes the one with the higher\n",
    "      percentile value of correlation, based on the 'perc' parameter.\n",
    "    - Prints out the columns that are removed and their percentile values.\n",
    "\n",
    "    Example:\n",
    "    --------\n",
    "    >>> high_corr(df)\n",
    "    Removing A with 0.95th percentile = 1.0\n",
    "    Remaining columns: Index(['B', 'C'], dtype='object')\n",
    "    \"\"\"\n",
    "    df =  df_source.copy()\n",
    "    corr = df.corr(method)\n",
    "    high_corr_vars = []\n",
    "    for i in range(len(corr.columns)):\n",
    "        for j in range(i):\n",
    "            if abs(corr.iloc[i, j]) > thsld:\n",
    "                colname_i = corr.columns[i]\n",
    "                colname_j = corr.columns[j]\n",
    "\n",
    "                # Calculate mean correlation for each variable\n",
    "                perc_i = np.percentile(corr[colname_i], perc)\n",
    "                perc_j = np.percentile(corr[colname_j], perc)\n",
    "\n",
    "                # Decide which variable to remove from each correlated pair based on its highest percentile value in the correlation matrix.\n",
    "                max_abs_value = max(abs(perc_i), abs(perc_j))\n",
    "                if max_abs_value >= thsld:\n",
    "                    if abs(perc_i) > abs(perc_j):\n",
    "                        high_corr_vars.append((colname_i, perc_i))\n",
    "                    else:\n",
    "                        high_corr_vars.append((colname_j, perc_j))\n",
    "                else:\n",
    "                    if abs(perc_i) <= abs(perc_j):\n",
    "                        high_corr_vars.append((colname_i, perc_i))\n",
    "                    else:\n",
    "                        high_corr_vars.append((colname_j, perc_j))\n",
    "\n",
    "                    \n",
    "\n",
    "    # Remove the variable with the highest mean correlation from each pair\n",
    "    for var, perc_val in high_corr_vars:\n",
    "        if var in df.columns:\n",
    "            print(f\"Removing {var} with {perc}th percentile = {perc_val}\")\n",
    "            del df[var]\n",
    "\n",
    "    print(\"Remaining columns:\", df.columns)\n",
    "    return df"
   ]
  },
  {
   "cell_type": "code",
   "execution_count": 57,
   "id": "2c41cd22",
   "metadata": {
    "ExecuteTime": {
     "end_time": "2023-11-01T21:19:42.343211Z",
     "start_time": "2023-11-01T21:19:42.319707Z"
    }
   },
   "outputs": [],
   "source": [
    "def feature_importance_logreg(logistic_model, cut_off=None):\n",
    "    \"\"\"\n",
    "    Plots feature importances for a logistic regression model using L1 regularisation.\n",
    "\n",
    "    Parameters:\n",
    "    ----------\n",
    "    logistic_model : sklearn.linear_model object\n",
    "        The logistic regression model.\n",
    "\n",
    "    cut_off : float, optional\n",
    "        The cut-off value to consider for feature importance.\n",
    "\n",
    "    Returns:\n",
    "    -------\n",
    "    feature_df : pandas DataFrame\n",
    "        A DataFrame containing the features sorted by their importance.\n",
    "        \n",
    "    omitted_df : pandas DataFrame\n",
    "        A DataFrame containing the features that were omitted based on the cut-off value.\n",
    "    \"\"\"\n",
    "    # Get feature importances\n",
    "    feature_importance_values = np.abs(logistic_model.coef_)\n",
    "    \n",
    "    # Sort feature importances\n",
    "    indices = np.argsort(feature_importance_values[0])[::-1]\n",
    "    \n",
    "    sorted_feature_names = [X_train.columns[i] for i in indices]\n",
    "    sorted_importance_values = [feature_importance_values[0][i] for i in indices]\n",
    "    \n",
    "    # Apply cutoff if specified\n",
    "    if cut_off is not None:\n",
    "        omitted_feature_names = [name for i, name in enumerate(sorted_feature_names) if sorted_importance_values[i] < cut_off]\n",
    "        omitted_importance_values = [value for value in sorted_importance_values if value < cut_off]\n",
    "        \n",
    "        sorted_feature_names = [name for name in sorted_feature_names if name not in omitted_feature_names]\n",
    "        sorted_importance_values = [value for value in sorted_importance_values if value >= cut_off]\n",
    "    \n",
    "    # Plot feature importances\n",
    "    plt.figure(figsize=(12, 6))\n",
    "    plt.title(\"Feature Importance (Logistic Regression)\")\n",
    "    plt.bar(range(len(sorted_importance_values)), sorted_importance_values, align=\"center\")\n",
    "    plt.xticks(range(len(sorted_importance_values)), sorted_feature_names, rotation=90)  # Add rotation for better visibility\n",
    "    plt.xlabel(\"Feature Name\")\n",
    "    plt.ylabel(\"Absolute Coefficient Value\")\n",
    "    plt.show()\n",
    "    \n",
    "    # Create a DataFrame for sorted feature importances\n",
    "    feature_df = pd.DataFrame({\n",
    "        'Feature': sorted_feature_names,\n",
    "        'Importance': sorted_importance_values\n",
    "    })\n",
    "    \n",
    "    # Create a DataFrame for omitted feature importances\n",
    "    omitted_df = pd.DataFrame({\n",
    "        'Omitted Feature': omitted_feature_names,\n",
    "        'Omitted Importance': omitted_importance_values\n",
    "    })\n",
    "    \n",
    "    return feature_df, omitted_df"
   ]
  },
  {
   "cell_type": "code",
   "execution_count": 60,
   "id": "2eddaaa7",
   "metadata": {
    "ExecuteTime": {
     "end_time": "2023-11-01T21:33:42.079154Z",
     "start_time": "2023-11-01T21:33:42.045824Z"
    }
   },
   "outputs": [],
   "source": [
    "def feature_importance_logreg(logistic_model, X_train, y_train, cut_off=None):\n",
    "    \"\"\"\n",
    "    Plots feature importances for a logistic regression model using L1 regularisation.\n",
    "\n",
    "    Parameters:\n",
    "    ----------\n",
    "    logistic_model : sklearn.linear_model object\n",
    "        The logistic regression model. \n",
    "    X_train : array-like or DataFrame\n",
    "        The features for the training set.\n",
    "    y_train : array-like or DataFrame\n",
    "        The target variable for the training set. \n",
    "    cut_off : float, optional\n",
    "        The cut-off value to consider for feature importance.\n",
    "\n",
    "    Returns:\n",
    "    -------\n",
    "    feature_df : pandas DataFrame\n",
    "        A DataFrame containing the features sorted by their importance.\n",
    "        \n",
    "    omitted_df : pandas DataFrame\n",
    "        A DataFrame containing the features that were omitted based on the cut-off value.\n",
    "    \"\"\"\n",
    "    # Create the model\n",
    "    logistic_model.fit(X_train, y_train)\n",
    "    \n",
    "    # Get feature importances\n",
    "    feature_importance_values = np.abs(logistic_model.coef_)\n",
    "    \n",
    "    # Sort feature importances\n",
    "    indices = np.argsort(feature_importance_values[0])[::-1]\n",
    "    \n",
    "    sorted_feature_names = [X_train.columns[i] for i in indices]\n",
    "    sorted_importance_values = [feature_importance_values[0][i] for i in indices]\n",
    "    \n",
    "    # Apply cutoff if specified\n",
    "    if cut_off is not None:\n",
    "        omitted_feature_names = [name for i, name in enumerate(sorted_feature_names) if sorted_importance_values[i] < cut_off]\n",
    "        omitted_importance_values = [value for value in sorted_importance_values if value < cut_off]\n",
    "        \n",
    "        sorted_feature_names = [name for name in sorted_feature_names if name not in omitted_feature_names]\n",
    "        sorted_importance_values = [value for value in sorted_importance_values if value >= cut_off]\n",
    "    \n",
    "    # Plot feature importances\n",
    "    plt.figure(figsize=(12, 6))\n",
    "    plt.title(\"Feature Importance\")\n",
    "    plt.bar(range(len(sorted_importance_values)), sorted_importance_values, align=\"center\")\n",
    "    plt.xticks(range(len(sorted_importance_values)), sorted_feature_names, rotation=90)  # Add rotation for better visibility\n",
    "    plt.xlabel(\"Feature Name\")\n",
    "    plt.ylabel(\"Absolute Coefficient Value\")\n",
    "    plt.show()\n",
    "    \n",
    "    # Create a DataFrame for sorted feature importances\n",
    "    feature_df = pd.DataFrame({\n",
    "        'Feature': sorted_feature_names,\n",
    "        'Importance': sorted_importance_values\n",
    "    })\n",
    "    \n",
    "    # Create a DataFrame for omitted feature importances\n",
    "    omitted_df = pd.DataFrame({\n",
    "        'Omitted Feature': omitted_feature_names,\n",
    "        'Omitted Importance': omitted_importance_values\n",
    "    })\n",
    "    \n",
    "    return feature_df, omitted_df"
   ]
  },
  {
   "cell_type": "code",
   "execution_count": 73,
   "id": "201f47b0",
   "metadata": {
    "ExecuteTime": {
     "end_time": "2023-11-01T21:38:37.668757Z",
     "start_time": "2023-11-01T21:38:37.641619Z"
    }
   },
   "outputs": [],
   "source": [
    "def plot_omitted_accuracy(X_train_smote, y_train_smote, X_test_final, y_test, high_pvalues, low_imp_df, SEED=42):\n",
    "    \"\"\"\n",
    "    Plots the train and test accuracy of a Logistic Regression model when omitting certain variables.\n",
    "    Performs this operation with and without replacement.\n",
    "\n",
    "    Parameters:\n",
    "    -----------\n",
    "    X_train_smote, y_train_smote : Training data and labels\n",
    "    X_test_final, y_test : Test data and labels\n",
    "    high_pvalues : list of features to be omitted based on high p-values\n",
    "    low_imp_df : DataFrame containing features to be omitted based on low importance\n",
    "    SEED : random state seed for reproducibility\n",
    "\n",
    "    Returns:\n",
    "    --------\n",
    "    acc_df : DataFrame containing train and test accuracies\n",
    "\n",
    "    \"\"\"\n",
    "    fig, axs = plt.subplots(1, 2, figsize=(24, 6))\n",
    "\n",
    "    # Omitting variables with replacement\n",
    "    to_delete = set(high_pvalues + low_imp_df['Omitted Feature'].to_list())\n",
    "    acc_dict = {}\n",
    "    for var in to_delete:\n",
    "        X_train_fe = X_train_smote.copy()\n",
    "        X_train_fe.drop(columns=var, inplace=True)\n",
    "        log = LogisticRegression(C=0.1, penalty='l2', solver='liblinear', max_iter=1000, random_state=SEED)\n",
    "        log.fit(X_train_fe, y_train_smote)\n",
    "        train_score = log.score(X_train_fe, y_train_smote)\n",
    "        y_pred_fe = log.predict(X_test_final[X_train_fe.columns])\n",
    "        test_score = accuracy_score(y_pred_fe, y_test)\n",
    "        acc_dict[var] = [train_score, test_score]\n",
    "    acc_df = pd.DataFrame(acc_dict).transpose()\n",
    "    acc_df.columns = ['train_acc', 'test_acc']\n",
    "    acc_df.plot(ax=axs[0], title='With Replacement')\n",
    "    axs[0].set_xticks(np.arange(len(acc_df.index)))\n",
    "    axs[0].set_xticklabels(acc_df.index, rotation=90)\n",
    "\n",
    "    # Omitting variables without replacement\n",
    "    to_delete = list(acc_df.sort_values('test_acc', ascending=False).index)\n",
    "    acc_dict = {}\n",
    "    X_train_fe = X_train_smote.copy()\n",
    "    for var in to_delete:\n",
    "        X_train_fe.drop(columns=var, inplace=True)\n",
    "        log = LogisticRegression(max_iter=1000, random_state=SEED)\n",
    "        log.fit(X_train_fe, y_train_smote)\n",
    "        train_score = log.score(X_train_fe, y_train_smote)\n",
    "        y_pred_fe = log.predict(X_test_final[X_train_fe.columns])\n",
    "        test_score = accuracy_score(y_pred_fe, y_test)\n",
    "        acc_dict[var] = [train_score, test_score]\n",
    "    acc_df = pd.DataFrame(acc_dict).transpose()\n",
    "    acc_df.columns = ['train_acc', 'test_acc']\n",
    "    acc_df.plot(ax=axs[1], title='Without Replacement')\n",
    "    axs[1].set_xticks(np.arange(len(acc_df.index)))\n",
    "    axs[1].set_xticklabels(acc_df.index, rotation=90)\n",
    "    plt.show()\n",
    "    \n",
    "    #Creating the list of omitted variables\n",
    "    acc_delete = []\n",
    "    for var in acc_df.index:\n",
    "        acc_delete.append(var)\n",
    "        if acc_df['test_acc'].idxmax() in acc_delete:\n",
    "            break\n",
    "\n",
    "    return acc_df, acc_delete"
   ]
  },
  {
   "cell_type": "markdown",
   "id": "14e4190e",
   "metadata": {},
   "source": [
    "# Data generation"
   ]
  },
  {
   "cell_type": "code",
   "execution_count": 46,
   "id": "73b07617",
   "metadata": {
    "ExecuteTime": {
     "end_time": "2023-11-01T13:18:12.466775Z",
     "start_time": "2023-11-01T13:18:12.375606Z"
    }
   },
   "outputs": [
    {
     "data": {
      "text/html": [
       "<div>\n",
       "<style scoped>\n",
       "    .dataframe tbody tr th:only-of-type {\n",
       "        vertical-align: middle;\n",
       "    }\n",
       "\n",
       "    .dataframe tbody tr th {\n",
       "        vertical-align: top;\n",
       "    }\n",
       "\n",
       "    .dataframe thead th {\n",
       "        text-align: right;\n",
       "    }\n",
       "</style>\n",
       "<table border=\"1\" class=\"dataframe\">\n",
       "  <thead>\n",
       "    <tr style=\"text-align: right;\">\n",
       "      <th></th>\n",
       "      <th>0</th>\n",
       "      <th>1</th>\n",
       "      <th>2</th>\n",
       "      <th>3</th>\n",
       "      <th>4</th>\n",
       "      <th>5</th>\n",
       "      <th>6</th>\n",
       "      <th>7</th>\n",
       "      <th>8</th>\n",
       "      <th>9</th>\n",
       "      <th>10</th>\n",
       "      <th>11</th>\n",
       "      <th>12</th>\n",
       "      <th>13</th>\n",
       "      <th>14</th>\n",
       "      <th>15</th>\n",
       "      <th>16</th>\n",
       "      <th>17</th>\n",
       "      <th>18</th>\n",
       "      <th>19</th>\n",
       "    </tr>\n",
       "  </thead>\n",
       "  <tbody>\n",
       "    <tr>\n",
       "      <th>count</th>\n",
       "      <td>10000.000000</td>\n",
       "      <td>10000.000000</td>\n",
       "      <td>10000.000000</td>\n",
       "      <td>10000.000000</td>\n",
       "      <td>10000.000000</td>\n",
       "      <td>10000.000000</td>\n",
       "      <td>10000.000000</td>\n",
       "      <td>10000.000000</td>\n",
       "      <td>10000.000000</td>\n",
       "      <td>10000.000000</td>\n",
       "      <td>10000.000000</td>\n",
       "      <td>10000.000000</td>\n",
       "      <td>10000.000000</td>\n",
       "      <td>10000.000000</td>\n",
       "      <td>10000.000000</td>\n",
       "      <td>10000.000000</td>\n",
       "      <td>10000.000000</td>\n",
       "      <td>10000.000000</td>\n",
       "      <td>10000.000000</td>\n",
       "      <td>10000.000000</td>\n",
       "    </tr>\n",
       "    <tr>\n",
       "      <th>mean</th>\n",
       "      <td>5155.901801</td>\n",
       "      <td>-4969.616471</td>\n",
       "      <td>-153.035379</td>\n",
       "      <td>4620.549097</td>\n",
       "      <td>5139.254619</td>\n",
       "      <td>-183.120881</td>\n",
       "      <td>110.830666</td>\n",
       "      <td>-5034.714979</td>\n",
       "      <td>3234.695074</td>\n",
       "      <td>5155.901801</td>\n",
       "      <td>-268.327464</td>\n",
       "      <td>-33.408081</td>\n",
       "      <td>-195.584992</td>\n",
       "      <td>-10631.788424</td>\n",
       "      <td>110.830666</td>\n",
       "      <td>-5104.748296</td>\n",
       "      <td>7269.983119</td>\n",
       "      <td>3234.695074</td>\n",
       "      <td>-195.584992</td>\n",
       "      <td>4620.549097</td>\n",
       "    </tr>\n",
       "    <tr>\n",
       "      <th>std</th>\n",
       "      <td>21654.867014</td>\n",
       "      <td>20155.071402</td>\n",
       "      <td>20352.301513</td>\n",
       "      <td>49515.069729</td>\n",
       "      <td>20504.204672</td>\n",
       "      <td>22484.909309</td>\n",
       "      <td>22537.807139</td>\n",
       "      <td>23800.213261</td>\n",
       "      <td>49579.119100</td>\n",
       "      <td>21654.867014</td>\n",
       "      <td>21663.119421</td>\n",
       "      <td>23900.597072</td>\n",
       "      <td>23232.494264</td>\n",
       "      <td>20276.274292</td>\n",
       "      <td>22537.807139</td>\n",
       "      <td>22868.217511</td>\n",
       "      <td>45642.460001</td>\n",
       "      <td>49579.119100</td>\n",
       "      <td>23232.494264</td>\n",
       "      <td>49515.069729</td>\n",
       "    </tr>\n",
       "    <tr>\n",
       "      <th>min</th>\n",
       "      <td>-71950.997455</td>\n",
       "      <td>-77878.476181</td>\n",
       "      <td>-84691.611676</td>\n",
       "      <td>-190870.531555</td>\n",
       "      <td>-76111.778303</td>\n",
       "      <td>-78930.329440</td>\n",
       "      <td>-90420.847256</td>\n",
       "      <td>-92746.559845</td>\n",
       "      <td>-191449.753858</td>\n",
       "      <td>-71950.997455</td>\n",
       "      <td>-82126.705182</td>\n",
       "      <td>-85096.643789</td>\n",
       "      <td>-98361.780171</td>\n",
       "      <td>-83891.135744</td>\n",
       "      <td>-90420.847256</td>\n",
       "      <td>-99366.197135</td>\n",
       "      <td>-173753.604283</td>\n",
       "      <td>-191449.753858</td>\n",
       "      <td>-98361.780171</td>\n",
       "      <td>-190870.531555</td>\n",
       "    </tr>\n",
       "    <tr>\n",
       "      <th>25%</th>\n",
       "      <td>-9532.697988</td>\n",
       "      <td>-18532.966084</td>\n",
       "      <td>-13322.211109</td>\n",
       "      <td>-28837.781818</td>\n",
       "      <td>-9274.215456</td>\n",
       "      <td>-15471.461139</td>\n",
       "      <td>-14064.098783</td>\n",
       "      <td>-20818.404649</td>\n",
       "      <td>-30329.509577</td>\n",
       "      <td>-9532.697988</td>\n",
       "      <td>-14838.849401</td>\n",
       "      <td>-16270.681370</td>\n",
       "      <td>-15635.211553</td>\n",
       "      <td>-24384.620024</td>\n",
       "      <td>-14064.098783</td>\n",
       "      <td>-20405.101616</td>\n",
       "      <td>-22400.542426</td>\n",
       "      <td>-30329.509577</td>\n",
       "      <td>-15635.211553</td>\n",
       "      <td>-28837.781818</td>\n",
       "    </tr>\n",
       "    <tr>\n",
       "      <th>50%</th>\n",
       "      <td>5379.429223</td>\n",
       "      <td>-6126.002335</td>\n",
       "      <td>1302.651433</td>\n",
       "      <td>6286.207153</td>\n",
       "      <td>4216.026377</td>\n",
       "      <td>-156.804357</td>\n",
       "      <td>1943.674010</td>\n",
       "      <td>-5501.985952</td>\n",
       "      <td>1961.969218</td>\n",
       "      <td>5379.429223</td>\n",
       "      <td>23.322457</td>\n",
       "      <td>-196.279435</td>\n",
       "      <td>319.836156</td>\n",
       "      <td>-10779.653535</td>\n",
       "      <td>1943.674010</td>\n",
       "      <td>-4751.190472</td>\n",
       "      <td>8420.971565</td>\n",
       "      <td>1961.969218</td>\n",
       "      <td>319.836156</td>\n",
       "      <td>6286.207153</td>\n",
       "    </tr>\n",
       "    <tr>\n",
       "      <th>75%</th>\n",
       "      <td>19780.080533</td>\n",
       "      <td>7120.328032</td>\n",
       "      <td>14234.711916</td>\n",
       "      <td>38564.258180</td>\n",
       "      <td>18474.547946</td>\n",
       "      <td>14995.843229</td>\n",
       "      <td>15714.702111</td>\n",
       "      <td>10580.813963</td>\n",
       "      <td>35822.594407</td>\n",
       "      <td>19780.080533</td>\n",
       "      <td>14594.873395</td>\n",
       "      <td>16023.255682</td>\n",
       "      <td>15627.108999</td>\n",
       "      <td>3225.550618</td>\n",
       "      <td>15714.702111</td>\n",
       "      <td>10564.633550</td>\n",
       "      <td>38061.152227</td>\n",
       "      <td>35822.594407</td>\n",
       "      <td>15627.108999</td>\n",
       "      <td>38564.258180</td>\n",
       "    </tr>\n",
       "    <tr>\n",
       "      <th>max</th>\n",
       "      <td>87260.189569</td>\n",
       "      <td>91867.643298</td>\n",
       "      <td>67943.271390</td>\n",
       "      <td>235489.809816</td>\n",
       "      <td>85832.459795</td>\n",
       "      <td>90378.383086</td>\n",
       "      <td>75217.101982</td>\n",
       "      <td>96037.418819</td>\n",
       "      <td>225077.640912</td>\n",
       "      <td>87260.189569</td>\n",
       "      <td>91699.430370</td>\n",
       "      <td>88049.039337</td>\n",
       "      <td>78658.074669</td>\n",
       "      <td>71826.388332</td>\n",
       "      <td>75217.101982</td>\n",
       "      <td>76270.909676</td>\n",
       "      <td>165796.105191</td>\n",
       "      <td>225077.640912</td>\n",
       "      <td>78658.074669</td>\n",
       "      <td>235489.809816</td>\n",
       "    </tr>\n",
       "  </tbody>\n",
       "</table>\n",
       "</div>"
      ],
      "text/plain": [
       "                  0             1             2              3             4  \\\n",
       "count  10000.000000  10000.000000  10000.000000   10000.000000  10000.000000   \n",
       "mean    5155.901801  -4969.616471   -153.035379    4620.549097   5139.254619   \n",
       "std    21654.867014  20155.071402  20352.301513   49515.069729  20504.204672   \n",
       "min   -71950.997455 -77878.476181 -84691.611676 -190870.531555 -76111.778303   \n",
       "25%    -9532.697988 -18532.966084 -13322.211109  -28837.781818  -9274.215456   \n",
       "50%     5379.429223  -6126.002335   1302.651433    6286.207153   4216.026377   \n",
       "75%    19780.080533   7120.328032  14234.711916   38564.258180  18474.547946   \n",
       "max    87260.189569  91867.643298  67943.271390  235489.809816  85832.459795   \n",
       "\n",
       "                  5             6             7              8             9  \\\n",
       "count  10000.000000  10000.000000  10000.000000   10000.000000  10000.000000   \n",
       "mean    -183.120881    110.830666  -5034.714979    3234.695074   5155.901801   \n",
       "std    22484.909309  22537.807139  23800.213261   49579.119100  21654.867014   \n",
       "min   -78930.329440 -90420.847256 -92746.559845 -191449.753858 -71950.997455   \n",
       "25%   -15471.461139 -14064.098783 -20818.404649  -30329.509577  -9532.697988   \n",
       "50%     -156.804357   1943.674010  -5501.985952    1961.969218   5379.429223   \n",
       "75%    14995.843229  15714.702111  10580.813963   35822.594407  19780.080533   \n",
       "max    90378.383086  75217.101982  96037.418819  225077.640912  87260.189569   \n",
       "\n",
       "                 10            11            12            13            14  \\\n",
       "count  10000.000000  10000.000000  10000.000000  10000.000000  10000.000000   \n",
       "mean    -268.327464    -33.408081   -195.584992 -10631.788424    110.830666   \n",
       "std    21663.119421  23900.597072  23232.494264  20276.274292  22537.807139   \n",
       "min   -82126.705182 -85096.643789 -98361.780171 -83891.135744 -90420.847256   \n",
       "25%   -14838.849401 -16270.681370 -15635.211553 -24384.620024 -14064.098783   \n",
       "50%       23.322457   -196.279435    319.836156 -10779.653535   1943.674010   \n",
       "75%    14594.873395  16023.255682  15627.108999   3225.550618  15714.702111   \n",
       "max    91699.430370  88049.039337  78658.074669  71826.388332  75217.101982   \n",
       "\n",
       "                 15             16             17            18             19  \n",
       "count  10000.000000   10000.000000   10000.000000  10000.000000   10000.000000  \n",
       "mean   -5104.748296    7269.983119    3234.695074   -195.584992    4620.549097  \n",
       "std    22868.217511   45642.460001   49579.119100  23232.494264   49515.069729  \n",
       "min   -99366.197135 -173753.604283 -191449.753858 -98361.780171 -190870.531555  \n",
       "25%   -20405.101616  -22400.542426  -30329.509577 -15635.211553  -28837.781818  \n",
       "50%    -4751.190472    8420.971565    1961.969218    319.836156    6286.207153  \n",
       "75%    10564.633550   38061.152227   35822.594407  15627.108999   38564.258180  \n",
       "max    76270.909676  165796.105191  225077.640912  78658.074669  235489.809816  "
      ]
     },
     "metadata": {},
     "output_type": "display_data"
    },
    {
     "data": {
      "text/plain": [
       "y\n",
       "1    0.5011\n",
       "0    0.4989\n",
       "Name: proportion, dtype: float64"
      ]
     },
     "metadata": {},
     "output_type": "display_data"
    }
   ],
   "source": [
    "# Create synthetic dataset\n",
    "X, y = make_classification(n_samples=10000, \n",
    "                           n_features=20,\n",
    "                           n_informative = 12,\n",
    "                           n_redundant = 3,\n",
    "                           n_repeated = 5,\n",
    "                           n_classes = 2,\n",
    "                           scale = 10000,\n",
    "                           random_state=SEED)\n",
    "df = pd.DataFrame(X) \n",
    "df['y'] = y\n",
    "\n",
    "display(df.drop(columns ='y').describe())\n",
    "display(df['y'].value_counts(normalize = True))"
   ]
  },
  {
   "cell_type": "code",
   "execution_count": 47,
   "id": "d21378ec",
   "metadata": {
    "ExecuteTime": {
     "end_time": "2023-11-01T13:18:12.751780Z",
     "start_time": "2023-11-01T13:18:12.737652Z"
    }
   },
   "outputs": [],
   "source": [
    "X_train, X_test, y_train, y_test = train_test_split(df.drop(columns ='y') ,df['y'], test_size=0.2, random_state=SEED)"
   ]
  },
  {
   "cell_type": "markdown",
   "id": "a3d7b43d",
   "metadata": {},
   "source": [
    "# Basic model"
   ]
  },
  {
   "cell_type": "code",
   "execution_count": 48,
   "id": "66ddc17b",
   "metadata": {
    "ExecuteTime": {
     "end_time": "2023-11-01T13:18:13.101386Z",
     "start_time": "2023-11-01T13:18:13.057661Z"
    },
    "scrolled": true
   },
   "outputs": [
    {
     "name": "stdout",
     "output_type": "stream",
     "text": [
      "Train score:  0.7745\n",
      "Test score:  0.7675\n"
     ]
    }
   ],
   "source": [
    "# Create and fit logistic regression model\n",
    "clf = LogisticRegression(random_state = SEED)\n",
    "clf.fit(X_train, y_train)\n",
    "\n",
    "# Predict values\n",
    "y_pred = clf.predict(X_test)\n",
    "\n",
    "# Predict probabilities\n",
    "y_probs = clf.predict_proba(X_test)[:, 1]\n",
    "\n",
    "train_score_base = clf.score(X_train, y_train)\n",
    "test_score_base = clf.score(X_test, y_test)\n",
    "\n",
    "print('Train score: ', train_score_base)\n",
    "print('Test score: ', test_score_base)"
   ]
  },
  {
   "cell_type": "code",
   "execution_count": 49,
   "id": "5693cd65",
   "metadata": {
    "ExecuteTime": {
     "end_time": "2023-11-01T13:18:13.454530Z",
     "start_time": "2023-11-01T13:18:13.404467Z"
    }
   },
   "outputs": [
    {
     "name": "stdout",
     "output_type": "stream",
     "text": [
      "Train score_base: 0.7745\n",
      "Test score_base: 0.7675\n",
      "F1-score_base: 0.7732813261823501\n"
     ]
    }
   ],
   "source": [
    "train_and_evaluate(clf, X_train, y_train, X_test, y_test, suffix='_base')"
   ]
  },
  {
   "cell_type": "markdown",
   "id": "d4726291",
   "metadata": {},
   "source": [
    "# Model without outliers"
   ]
  },
  {
   "cell_type": "code",
   "execution_count": 50,
   "id": "c32faebf",
   "metadata": {
    "ExecuteTime": {
     "end_time": "2023-11-01T13:18:13.836810Z",
     "start_time": "2023-11-01T13:18:13.754211Z"
    },
    "scrolled": true
   },
   "outputs": [
    {
     "name": "stdout",
     "output_type": "stream",
     "text": [
      "Train score_cut: 0.77614871056421\n",
      "Test score_cut: 0.768586387434555\n",
      "F1-score_cut: 0.7744897959183674\n"
     ]
    }
   ],
   "source": [
    "df_cut, ratio, outliers = Standard_Outlier_Remover(df, df.drop(columns ='y').columns, num_std=3)\n",
    "X_train_cut, X_test_cut, y_train_cut, y_test_cut = train_test_split(df_cut.drop(columns ='y') ,df_cut['y'], test_size=0.2, random_state=SEED)\n",
    "\n",
    "train_and_evaluate(clf, X_train_cut, y_train_cut, X_test_cut, y_test_cut, suffix='_cut')"
   ]
  },
  {
   "cell_type": "markdown",
   "id": "f260f364",
   "metadata": {},
   "source": [
    "# Model without multicollinearity"
   ]
  },
  {
   "cell_type": "code",
   "execution_count": 51,
   "id": "c0c992d2",
   "metadata": {
    "ExecuteTime": {
     "end_time": "2023-11-01T13:18:15.296212Z",
     "start_time": "2023-11-01T13:18:15.197408Z"
    }
   },
   "outputs": [
    {
     "name": "stdout",
     "output_type": "stream",
     "text": [
      "Removing 9 with 0.95th percentile = -0.21467404622202046\n",
      "Removing 14 with 0.95th percentile = -0.6405212192852122\n",
      "Removing 17 with 0.95th percentile = -0.5309541407495014\n",
      "Removing 18 with 0.95th percentile = -0.10731633362256333\n",
      "Removing 19 with 0.95th percentile = -0.6405212192852122\n",
      "Remaining columns: Index([0, 1, 2, 3, 4, 5, 6, 7, 8, 10, 11, 12, 13, 15, 16, 'y'], dtype='object')\n",
      "Train score_corr: 0.7745\n",
      "Test score_corr: 0.7675\n",
      "F1-score_corr: 0.7732813261823501\n"
     ]
    }
   ],
   "source": [
    "df_corr = high_corr(df, method='spearman', thsld=0.8, perc=0.95)\n",
    "X_train_corr, X_test_corr, y_train_corr, y_test_corr = train_test_split(df_corr.drop(columns ='y') ,df_corr['y'], test_size=0.2, random_state=SEED)\n",
    "\n",
    "train_and_evaluate(clf, X_train_corr, y_train_corr, X_test_corr, y_test_corr, suffix='_corr')"
   ]
  },
  {
   "cell_type": "markdown",
   "id": "3b8cd749",
   "metadata": {},
   "source": [
    "# Model with Scaling"
   ]
  },
  {
   "cell_type": "code",
   "execution_count": 52,
   "id": "c0366285",
   "metadata": {
    "ExecuteTime": {
     "end_time": "2023-11-01T13:18:15.928740Z",
     "start_time": "2023-11-01T13:18:15.878119Z"
    }
   },
   "outputs": [
    {
     "name": "stdout",
     "output_type": "stream",
     "text": [
      "Train score_std: 0.776\n",
      "Test score_std: 0.7685\n",
      "F1-score_std: 0.7709054923305294\n"
     ]
    }
   ],
   "source": [
    "scaler = StandardScaler()\n",
    "X_train_std = scaler.fit_transform(X_train)\n",
    "X_test_std = scaler.transform(X_test)\n",
    "\n",
    "train_and_evaluate(clf, X_train_std, y_train, X_test_std, y_test, suffix='_std')"
   ]
  },
  {
   "cell_type": "markdown",
   "id": "87dfd49f",
   "metadata": {},
   "source": [
    "# Model with Scaling and without multicollinearity"
   ]
  },
  {
   "cell_type": "code",
   "execution_count": 53,
   "id": "7a003aff",
   "metadata": {
    "ExecuteTime": {
     "end_time": "2023-11-01T13:18:16.527675Z",
     "start_time": "2023-11-01T13:18:16.480592Z"
    }
   },
   "outputs": [
    {
     "name": "stdout",
     "output_type": "stream",
     "text": [
      "Train score_std_corr: 0.776\n",
      "Test score_std_corr: 0.7685\n",
      "F1-score_std_corr: 0.7709054923305294\n"
     ]
    }
   ],
   "source": [
    "scaler = StandardScaler()\n",
    "X_train_std = scaler.fit_transform(X_train_corr)\n",
    "X_test_std = scaler.transform(X_test_corr)\n",
    "\n",
    "train_and_evaluate(clf, X_train_std, y_train, X_test_std, y_test, suffix='_std_corr')"
   ]
  },
  {
   "cell_type": "markdown",
   "id": "e70ad164",
   "metadata": {},
   "source": [
    "# Model with Scaling and without multicollinearity and outliers"
   ]
  },
  {
   "cell_type": "code",
   "execution_count": 54,
   "id": "898db2f2",
   "metadata": {
    "ExecuteTime": {
     "end_time": "2023-11-01T13:18:16.967554Z",
     "start_time": "2023-11-01T13:18:16.860133Z"
    }
   },
   "outputs": [
    {
     "name": "stdout",
     "output_type": "stream",
     "text": [
      "Removing 9 with 0.95th percentile = -0.21649248366621973\n",
      "Removing 14 with 0.95th percentile = -0.6396877972338405\n",
      "Removing 17 with 0.95th percentile = -0.53031644121697\n",
      "Removing 18 with 0.95th percentile = -0.11713223188237455\n",
      "Removing 19 with 0.95th percentile = -0.6396877972338405\n",
      "Remaining columns: Index([0, 1, 2, 3, 4, 5, 6, 7, 8, 10, 11, 12, 13, 15, 16, 'y'], dtype='object')\n",
      "Train score_all: 0.77614871056421\n",
      "Test score_all: 0.768586387434555\n",
      "F1-score_all: 0.7744897959183674\n"
     ]
    }
   ],
   "source": [
    "df_corr_cut = high_corr(df_cut, method='spearman', thsld=0.8, perc=0.95)\n",
    "X_train_all, X_test_all, y_train_all, y_test_all = train_test_split(df_corr_cut.drop(columns ='y') ,df_corr_cut['y'], test_size=0.2, random_state=SEED)\n",
    "\n",
    "train_and_evaluate(clf, X_train_all, y_train_all, X_test_all, y_test_all, suffix='_all')"
   ]
  },
  {
   "cell_type": "code",
   "execution_count": 55,
   "id": "df088008",
   "metadata": {
    "ExecuteTime": {
     "end_time": "2023-11-01T13:18:17.334969Z",
     "start_time": "2023-11-01T13:18:17.321699Z"
    }
   },
   "outputs": [],
   "source": [
    "train_score = [train_score_base, train_score_cut, train_score_corr, train_score_std, train_score_std_corr, train_score_all]"
   ]
  },
  {
   "cell_type": "code",
   "execution_count": 56,
   "id": "687aa75f",
   "metadata": {
    "ExecuteTime": {
     "end_time": "2023-11-01T13:18:22.431818Z",
     "start_time": "2023-11-01T13:18:22.410447Z"
    }
   },
   "outputs": [
    {
     "data": {
      "text/plain": [
       "[0.7745, 0.77614871056421, 0.7745, 0.776, 0.776, 0.77614871056421]"
      ]
     },
     "execution_count": 56,
     "metadata": {},
     "output_type": "execute_result"
    }
   ],
   "source": [
    "train_score"
   ]
  },
  {
   "cell_type": "code",
   "execution_count": 69,
   "id": "c3cc4e9e",
   "metadata": {
    "ExecuteTime": {
     "end_time": "2023-11-01T21:36:23.995732Z",
     "start_time": "2023-11-01T21:36:23.754746Z"
    },
    "scrolled": false
   },
   "outputs": [
    {
     "data": {
      "image/png": "[encoded data removed]",
      "text/plain": [
       "<Figure size 1200x600 with 1 Axes>"
      ]
     },
     "metadata": {},
     "output_type": "display_data"
    }
   ],
   "source": [
    "feature_df, low_imp_df = feature_importance_logreg(clf, X_train_all, y_train_all, cut_off = 0.00001)"
   ]
  },
  {
   "cell_type": "code",
   "execution_count": 72,
   "id": "6596996a",
   "metadata": {
    "ExecuteTime": {
     "end_time": "2023-11-01T21:37:17.379638Z",
     "start_time": "2023-11-01T21:37:17.357618Z"
    }
   },
   "outputs": [
    {
     "data": {
      "text/html": [
       "<div>\n",
       "<style scoped>\n",
       "    .dataframe tbody tr th:only-of-type {\n",
       "        vertical-align: middle;\n",
       "    }\n",
       "\n",
       "    .dataframe tbody tr th {\n",
       "        vertical-align: top;\n",
       "    }\n",
       "\n",
       "    .dataframe thead th {\n",
       "        text-align: right;\n",
       "    }\n",
       "</style>\n",
       "<table border=\"1\" class=\"dataframe\">\n",
       "  <thead>\n",
       "    <tr style=\"text-align: right;\">\n",
       "      <th></th>\n",
       "      <th>Omitted Feature</th>\n",
       "      <th>Omitted Importance</th>\n",
       "    </tr>\n",
       "  </thead>\n",
       "  <tbody>\n",
       "    <tr>\n",
       "      <th>0</th>\n",
       "      <td>12</td>\n",
       "      <td>9.035262e-06</td>\n",
       "    </tr>\n",
       "    <tr>\n",
       "      <th>1</th>\n",
       "      <td>10</td>\n",
       "      <td>4.311684e-06</td>\n",
       "    </tr>\n",
       "    <tr>\n",
       "      <th>2</th>\n",
       "      <td>3</td>\n",
       "      <td>4.081559e-06</td>\n",
       "    </tr>\n",
       "    <tr>\n",
       "      <th>3</th>\n",
       "      <td>6</td>\n",
       "      <td>3.663302e-06</td>\n",
       "    </tr>\n",
       "    <tr>\n",
       "      <th>4</th>\n",
       "      <td>16</td>\n",
       "      <td>1.560027e-06</td>\n",
       "    </tr>\n",
       "    <tr>\n",
       "      <th>5</th>\n",
       "      <td>2</td>\n",
       "      <td>1.000459e-06</td>\n",
       "    </tr>\n",
       "    <tr>\n",
       "      <th>6</th>\n",
       "      <td>13</td>\n",
       "      <td>7.741303e-07</td>\n",
       "    </tr>\n",
       "  </tbody>\n",
       "</table>\n",
       "</div>"
      ],
      "text/plain": [
       "   Omitted Feature  Omitted Importance\n",
       "0               12        9.035262e-06\n",
       "1               10        4.311684e-06\n",
       "2                3        4.081559e-06\n",
       "3                6        3.663302e-06\n",
       "4               16        1.560027e-06\n",
       "5                2        1.000459e-06\n",
       "6               13        7.741303e-07"
      ]
     },
     "execution_count": 72,
     "metadata": {},
     "output_type": "execute_result"
    }
   ],
   "source": [
    "low_imp_df"
   ]
  },
  {
   "cell_type": "code",
   "execution_count": 77,
   "id": "eabbb777",
   "metadata": {
    "ExecuteTime": {
     "end_time": "2023-11-01T21:45:51.041360Z",
     "start_time": "2023-11-01T21:45:50.285589Z"
    }
   },
   "outputs": [
    {
     "data": {
      "image/png": "[encoded data removed]",
      "text/plain": [
       "<Figure size 2400x600 with 2 Axes>"
      ]
     },
     "metadata": {},
     "output_type": "display_data"
    },
    {
     "data": {
      "text/plain": [
       "(    train_acc  test_acc\n",
       " 2    0.776149  0.768586\n",
       " 3    0.776149  0.768586\n",
       " 6    0.776149  0.768586\n",
       " 10   0.775887  0.769110\n",
       " 12   0.777327  0.768063\n",
       " 13   0.777327  0.765969\n",
       " 16   0.776411  0.768063,\n",
       " [2, 3, 6, 10])"
      ]
     },
     "execution_count": 77,
     "metadata": {},
     "output_type": "execute_result"
    }
   ],
   "source": [
    "plot_omitted_accuracy(X_train_all, y_train_all, X_test_all, y_test_all, [], low_imp_df, SEED=SEED)"
   ]
  }
 ],
 "metadata": {
  "kernelspec": {
   "display_name": "Python 3 (ipykernel)",
   "language": "python",
   "name": "python3"
  },
  "language_info": {
   "codemirror_mode": {
    "name": "ipython",
    "version": 3
   },
   "file_extension": ".py",
   "mimetype": "text/x-python",
   "name": "python",
   "nbconvert_exporter": "python",
   "pygments_lexer": "ipython3",
   "version": "3.8.18"
  },
  "toc": {
   "base_numbering": 1,
   "nav_menu": {},
   "number_sections": true,
   "sideBar": true,
   "skip_h1_title": false,
   "title_cell": "Table of Contents",
   "title_sidebar": "Contents",
   "toc_cell": false,
   "toc_position": {},
   "toc_section_display": true,
   "toc_window_display": false
  },
  "varInspector": {
   "cols": {
    "lenName": 16,
    "lenType": 16,
    "lenVar": 40
   },
   "kernels_config": {
    "python": {
     "delete_cmd_postfix": "",
     "delete_cmd_prefix": "del ",
     "library": "var_list.py",
     "varRefreshCmd": "print(var_dic_list())"
    },
    "r": {
     "delete_cmd_postfix": ") ",
     "delete_cmd_prefix": "rm(",
     "library": "var_list.r",
     "varRefreshCmd": "cat(var_dic_list()) "
    }
   },
   "types_to_exclude": [
    "module",
    "function",
    "builtin_function_or_method",
    "instance",
    "_Feature"
   ],
   "window_display": false
  }
 },
 "nbformat": 4,
 "nbformat_minor": 5
}
