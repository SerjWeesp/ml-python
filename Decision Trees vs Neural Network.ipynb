{
 "cells": [
  {
   "cell_type": "code",
   "execution_count": null,
   "metadata": {
    "ExecuteTime": {
     "end_time": "2023-11-20T20:59:52.198212Z",
     "start_time": "2023-11-20T20:59:30.823411Z"
    },
    "scrolled": true
   },
   "outputs": [],
   "source": [
    "import xgboost as xgb\n",
    "from sklearn.metrics import mean_squared_error\n",
    "import pandas as pd\n",
    "import numpy as np\n",
    "from sklearn.model_selection import train_test_split\n",
    "import matplotlib.pyplot as plt\n",
    "from sklearn.ensemble import RandomForestRegressor\n",
    "from sklearn.model_selection import train_test_split\n",
    "from pprint import pprint\n",
    "from sklearn.model_selection import GridSearchCV\n",
    "from sklearn.preprocessing import StandardScaler, MinMaxScaler\n",
    "import tensorflow\n",
    "from numpy.random import seed\n",
    "from keras.models import Sequential\n",
    "from keras.layers import Dense\n",
    "from sklearn.metrics import mean_squared_error as mse\n",
    "import seaborn as sns\n",
    "import math"
   ]
  },
  {
   "cell_type": "markdown",
   "metadata": {},
   "source": [
    "## Data scrapping"
   ]
  },
  {
   "cell_type": "code",
   "execution_count": null,
   "metadata": {},
   "outputs": [],
   "source": [
    "import requests \n",
    "from bs4 import BeautifulSoup \n",
    "from selenium import webdriver\n",
    "import time\n",
    "import yfinance as yf\n",
    "import missingno as mno\n",
    "\n",
    "\n",
    "#List of SP500 companies\n",
    "wikiurl=\"https://en.wikipedia.org/wiki/List_of_S%26P_500_companies\"\n",
    "response=requests.get(wikiurl)\n",
    "\n",
    "soup = BeautifulSoup(response.text, 'html.parser')\n",
    "sp500=soup.find('table',{'class':\"wikitable\"})\n",
    "sp500=pd.read_html(str(sp500))\n",
    "sp500=pd.DataFrame(sp500[0])\n",
    "names = sp500['Symbol']\n",
    "sp500.to_csv('D:/UW/Master/data/sp500.csv')\n",
    "\n",
    "#price, volume\n",
    "price = pd.DataFrame()\n",
    "count = 0\n",
    "\n",
    "for name in names.str.replace('.','-'):\n",
    "    tickerData = yf.Ticker(name)\n",
    "    tickerDf = tickerData.history(period='max')\n",
    "    tickerDf['COMPANY'] = name\n",
    "    tickerDf['SECTOR'] = sp500.loc[count, 'GICS Sector']\n",
    "    price = price.append(tickerDf)\n",
    "    count += 1\n",
    "    print(count, str(name)+' is done. Total number: ', len(price))\n",
    "    \n",
    "price_sum = price[['COMPANY', 'SECTOR', 'Close']]\n",
    "price_sum = price_sum.dropna()\n",
    "price_sum['QUARTER'] = pd.PeriodIndex(price_sum.index, freq='Q')\n",
    "price_sum = price_sum.groupby(['COMPANY','SECTOR','QUARTER'])['Close'].median()\n",
    "price_sum = price_sum.reset_index()\n",
    "\n",
    "#dividends\n",
    "divd = price[['COMPANY', 'SECTOR', 'Dividends', 'Volume']]\n",
    "divd = divd.dropna()\n",
    "divd['QUARTER'] = pd.PeriodIndex(divd.index, freq='Q')\n",
    "divd = divd.groupby(['COMPANY','SECTOR','QUARTER'])['Dividends', 'Volume'].sum()\n",
    "divd = divd.reset_index()\n",
    "\n",
    "result0 = pd.merge(divd, price_sum, on=[\"COMPANY\", \"QUARTER\", 'SECTOR'])\n",
    "result0 = result0.reset_index()\n",
    "result0.drop('index', axis = 1, inplace = True)\n",
    "\n",
    "\n",
    "#other variables\n",
    "df = pd.DataFrame()\n",
    "variables = ['revenue','shares-outstanding', 'net-income', 'total-assets', 'total-liabilities', 'cash-on-hand', 'total-share-holder-equity', 'number-of-employees']\n",
    "headers = {\n",
    "    'Accept-Encoding': 'gzip, deflate, sdch',\n",
    "    'Accept-Language': 'en-US,en;q=0.8',\n",
    "    'Upgrade-Insecure-Requests': '1',\n",
    "    'User-Agent': 'Mozilla/5.0 (X11; Linux x86_64) AppleWebKit/537.36 (KHTML, like Gecko) Chrome/56.0.2924.87 Safari/537.36',\n",
    "    'Accept': 'text/html,application/xhtml+xml,application/xml;q=0.9,image/webp,*/*;q=0.8',\n",
    "    'Cache-Control': 'max-age=0',\n",
    "    'Connection': 'keep-alive',\n",
    "}\n",
    "for var in variables:\n",
    "    count = 0\n",
    "    print(var)\n",
    "    for name in names.str.replace('-','.'):\n",
    "        url = \"https://www.macrotrends.net/stocks/charts/\"+str(name)+\"/apple/\"+str(var)\n",
    "        try:\n",
    "            response=requests.get(url, headers=headers)\n",
    "            soup = BeautifulSoup(response.text, 'html.parser')\n",
    "            value = soup.find_all('table',{'class':\"table\"})\n",
    "            value = pd.read_html(str(value))\n",
    "            value = pd.DataFrame(value[1])\n",
    "            value.columns = ['Date', 'Amount']\n",
    "            value['Variable'] = var\n",
    "            value['COMPANY'] = name\n",
    "            value['SECTOR'] = sp500.loc[count, 'GICS Sector']\n",
    "            df = df.append(value)\n",
    "            value = None\n",
    "        except:\n",
    "            pass\n",
    "        print(count, str(name)+' is done. Total number of records: ', len(df))\n",
    "        count += 1\n",
    "df.to_csv('D:/UW/Master/data/df.csv') \n",
    "\n",
    "\n",
    "\n",
    "df_wide = df.copy()\n",
    "df_wide['Amount'] = df_wide['Amount'].str.strip('$').str.replace(',', '')\n",
    "df_wide['Amount'] = df_wide['Amount'].astype('float')\n",
    "df_wide['Date'] = pd.to_datetime(df_wide['Date'], format = '%Y/%m/%d')\n",
    "df_wide['QUARTER'] = pd.PeriodIndex(df_wide['Date'], freq='Q')\n",
    "df_wide = df_wide.pivot_table(index=['Date', 'QUARTER', 'COMPANY', 'SECTOR'], columns='Variable', values=['Amount'], aggfunc='first')\n",
    "df_wide = df_wide.droplevel(0, axis = 1)\n",
    "\n",
    "result = pd.merge(df_wide, result0, on=[\"COMPANY\", \"QUARTER\", 'SECTOR'])\n",
    "mno.matrix(result, figsize = (20, 6))\n",
    "result.isna().sum()\n",
    "result = result.dropna()\n",
    "#result = result.reset_index()"
   ]
  },
  {
   "cell_type": "markdown",
   "metadata": {},
   "source": [
    "## Data preparation"
   ]
  },
  {
   "cell_type": "code",
   "execution_count": 543,
   "metadata": {
    "ExecuteTime": {
     "end_time": "2022-01-22T13:02:05.647639Z",
     "start_time": "2022-01-22T13:02:05.568937Z"
    }
   },
   "outputs": [
    {
     "data": {
      "text/plain": [
       "(5049, 13)"
      ]
     },
     "execution_count": 543,
     "metadata": {},
     "output_type": "execute_result"
    }
   ],
   "source": [
    "data = result.copy()\n",
    "#data.set_index('Unnamed: 0', inplace = True)\n",
    "data = data.loc[data['QUARTER'].isin(['2019Q1', '2019Q2', '2019Q3', '2019Q4',\n",
    "                                     '2020Q1', '2020Q2', '2020Q3', '2020Q4',\n",
    "                                     '2021Q1', '20121Q2','2021Q3', '2021Q4'])]\n",
    "data.shape"
   ]
  },
  {
   "cell_type": "code",
   "execution_count": 544,
   "metadata": {
    "ExecuteTime": {
     "end_time": "2022-01-22T13:02:06.529893Z",
     "start_time": "2022-01-22T13:02:06.498878Z"
    }
   },
   "outputs": [
    {
     "data": {
      "text/html": [
       "<div>\n",
       "<style scoped>\n",
       "    .dataframe tbody tr th:only-of-type {\n",
       "        vertical-align: middle;\n",
       "    }\n",
       "\n",
       "    .dataframe tbody tr th {\n",
       "        vertical-align: top;\n",
       "    }\n",
       "\n",
       "    .dataframe thead th {\n",
       "        text-align: right;\n",
       "    }\n",
       "</style>\n",
       "<table border=\"1\" class=\"dataframe\">\n",
       "  <thead>\n",
       "    <tr style=\"text-align: right;\">\n",
       "      <th></th>\n",
       "      <th>QUARTER</th>\n",
       "      <th>SECTOR</th>\n",
       "      <th>cash-on-hand</th>\n",
       "      <th>net-income</th>\n",
       "      <th>revenue</th>\n",
       "      <th>total-assets</th>\n",
       "      <th>total-liabilities</th>\n",
       "      <th>total-share-holder-equity</th>\n",
       "      <th>Volume</th>\n",
       "      <th>Dividends</th>\n",
       "      <th>Close</th>\n",
       "    </tr>\n",
       "  </thead>\n",
       "  <tbody>\n",
       "    <tr>\n",
       "      <th>25505</th>\n",
       "      <td>2019Q1</td>\n",
       "      <td>Health Care</td>\n",
       "      <td>2057.0</td>\n",
       "      <td>504.0</td>\n",
       "      <td>1284.0</td>\n",
       "      <td>8952.0</td>\n",
       "      <td>3916.0</td>\n",
       "      <td>5036.0</td>\n",
       "      <td>112942800.0</td>\n",
       "      <td>0.000</td>\n",
       "      <td>75.571022</td>\n",
       "    </tr>\n",
       "    <tr>\n",
       "      <th>25506</th>\n",
       "      <td>2019Q1</td>\n",
       "      <td>Information Technology</td>\n",
       "      <td>606.0</td>\n",
       "      <td>355.0</td>\n",
       "      <td>1541.0</td>\n",
       "      <td>21828.0</td>\n",
       "      <td>10243.0</td>\n",
       "      <td>11585.0</td>\n",
       "      <td>177668000.0</td>\n",
       "      <td>0.540</td>\n",
       "      <td>98.603348</td>\n",
       "    </tr>\n",
       "    <tr>\n",
       "      <th>25507</th>\n",
       "      <td>2019Q1</td>\n",
       "      <td>Information Technology</td>\n",
       "      <td>954.0</td>\n",
       "      <td>65.0</td>\n",
       "      <td>737.0</td>\n",
       "      <td>4729.0</td>\n",
       "      <td>4940.0</td>\n",
       "      <td>-211.0</td>\n",
       "      <td>110814300.0</td>\n",
       "      <td>0.000</td>\n",
       "      <td>153.149994</td>\n",
       "    </tr>\n",
       "    <tr>\n",
       "      <th>25508</th>\n",
       "      <td>2019Q1</td>\n",
       "      <td>Information Technology</td>\n",
       "      <td>3712.0</td>\n",
       "      <td>771.0</td>\n",
       "      <td>3753.0</td>\n",
       "      <td>18922.0</td>\n",
       "      <td>10713.0</td>\n",
       "      <td>8209.0</td>\n",
       "      <td>680149400.0</td>\n",
       "      <td>0.200</td>\n",
       "      <td>37.598633</td>\n",
       "    </tr>\n",
       "    <tr>\n",
       "      <th>25509</th>\n",
       "      <td>2019Q1</td>\n",
       "      <td>Information Technology</td>\n",
       "      <td>5093.0</td>\n",
       "      <td>471.0</td>\n",
       "      <td>5789.0</td>\n",
       "      <td>72110.0</td>\n",
       "      <td>48886.0</td>\n",
       "      <td>23224.0</td>\n",
       "      <td>189139700.0</td>\n",
       "      <td>2.650</td>\n",
       "      <td>242.695938</td>\n",
       "    </tr>\n",
       "    <tr>\n",
       "      <th>...</th>\n",
       "      <td>...</td>\n",
       "      <td>...</td>\n",
       "      <td>...</td>\n",
       "      <td>...</td>\n",
       "      <td>...</td>\n",
       "      <td>...</td>\n",
       "      <td>...</td>\n",
       "      <td>...</td>\n",
       "      <td>...</td>\n",
       "      <td>...</td>\n",
       "      <td>...</td>\n",
       "    </tr>\n",
       "    <tr>\n",
       "      <th>31051</th>\n",
       "      <td>2021Q4</td>\n",
       "      <td>Consumer Discretionary</td>\n",
       "      <td>15103.0</td>\n",
       "      <td>1337.0</td>\n",
       "      <td>11357.0</td>\n",
       "      <td>38917.0</td>\n",
       "      <td>23993.0</td>\n",
       "      <td>14924.0</td>\n",
       "      <td>374040200.0</td>\n",
       "      <td>0.305</td>\n",
       "      <td>166.670219</td>\n",
       "    </tr>\n",
       "    <tr>\n",
       "      <th>31052</th>\n",
       "      <td>2021Q4</td>\n",
       "      <td>Information Technology</td>\n",
       "      <td>22838.0</td>\n",
       "      <td>-1247.0</td>\n",
       "      <td>10360.0</td>\n",
       "      <td>106897.0</td>\n",
       "      <td>116555.0</td>\n",
       "      <td>-9658.0</td>\n",
       "      <td>604672000.0</td>\n",
       "      <td>0.320</td>\n",
       "      <td>94.035667</td>\n",
       "    </tr>\n",
       "    <tr>\n",
       "      <th>31053</th>\n",
       "      <td>2021Q4</td>\n",
       "      <td>Information Technology</td>\n",
       "      <td>1065.0</td>\n",
       "      <td>332.0</td>\n",
       "      <td>1109.0</td>\n",
       "      <td>9688.0</td>\n",
       "      <td>6568.0</td>\n",
       "      <td>3120.0</td>\n",
       "      <td>92122000.0</td>\n",
       "      <td>0.660</td>\n",
       "      <td>123.119999</td>\n",
       "    </tr>\n",
       "    <tr>\n",
       "      <th>31054</th>\n",
       "      <td>2021Q4</td>\n",
       "      <td>Consumer Staples</td>\n",
       "      <td>361.0</td>\n",
       "      <td>471.0</td>\n",
       "      <td>2321.0</td>\n",
       "      <td>25527.0</td>\n",
       "      <td>13981.0</td>\n",
       "      <td>11546.0</td>\n",
       "      <td>67386400.0</td>\n",
       "      <td>0.760</td>\n",
       "      <td>225.294998</td>\n",
       "    </tr>\n",
       "    <tr>\n",
       "      <th>31055</th>\n",
       "      <td>2021Q4</td>\n",
       "      <td>Consumer Staples</td>\n",
       "      <td>4135.0</td>\n",
       "      <td>3580.0</td>\n",
       "      <td>33901.0</td>\n",
       "      <td>96507.0</td>\n",
       "      <td>65928.0</td>\n",
       "      <td>30579.0</td>\n",
       "      <td>393393800.0</td>\n",
       "      <td>0.478</td>\n",
       "      <td>48.375879</td>\n",
       "    </tr>\n",
       "  </tbody>\n",
       "</table>\n",
       "<p>5049 rows × 11 columns</p>\n",
       "</div>"
      ],
      "text/plain": [
       "      QUARTER                  SECTOR  cash-on-hand  net-income  revenue  \\\n",
       "25505  2019Q1             Health Care        2057.0       504.0   1284.0   \n",
       "25506  2019Q1  Information Technology         606.0       355.0   1541.0   \n",
       "25507  2019Q1  Information Technology         954.0        65.0    737.0   \n",
       "25508  2019Q1  Information Technology        3712.0       771.0   3753.0   \n",
       "25509  2019Q1  Information Technology        5093.0       471.0   5789.0   \n",
       "...       ...                     ...           ...         ...      ...   \n",
       "31051  2021Q4  Consumer Discretionary       15103.0      1337.0  11357.0   \n",
       "31052  2021Q4  Information Technology       22838.0     -1247.0  10360.0   \n",
       "31053  2021Q4  Information Technology        1065.0       332.0   1109.0   \n",
       "31054  2021Q4        Consumer Staples         361.0       471.0   2321.0   \n",
       "31055  2021Q4        Consumer Staples        4135.0      3580.0  33901.0   \n",
       "\n",
       "       total-assets  total-liabilities  total-share-holder-equity  \\\n",
       "25505        8952.0             3916.0                     5036.0   \n",
       "25506       21828.0            10243.0                    11585.0   \n",
       "25507        4729.0             4940.0                     -211.0   \n",
       "25508       18922.0            10713.0                     8209.0   \n",
       "25509       72110.0            48886.0                    23224.0   \n",
       "...             ...                ...                        ...   \n",
       "31051       38917.0            23993.0                    14924.0   \n",
       "31052      106897.0           116555.0                    -9658.0   \n",
       "31053        9688.0             6568.0                     3120.0   \n",
       "31054       25527.0            13981.0                    11546.0   \n",
       "31055       96507.0            65928.0                    30579.0   \n",
       "\n",
       "            Volume  Dividends       Close  \n",
       "25505  112942800.0      0.000   75.571022  \n",
       "25506  177668000.0      0.540   98.603348  \n",
       "25507  110814300.0      0.000  153.149994  \n",
       "25508  680149400.0      0.200   37.598633  \n",
       "25509  189139700.0      2.650  242.695938  \n",
       "...            ...        ...         ...  \n",
       "31051  374040200.0      0.305  166.670219  \n",
       "31052  604672000.0      0.320   94.035667  \n",
       "31053   92122000.0      0.660  123.119999  \n",
       "31054   67386400.0      0.760  225.294998  \n",
       "31055  393393800.0      0.478   48.375879  \n",
       "\n",
       "[5049 rows x 11 columns]"
      ]
     },
     "execution_count": 544,
     "metadata": {},
     "output_type": "execute_result"
    }
   ],
   "source": [
    "cols = ['QUARTER', 'SECTOR', 'cash-on-hand', 'net-income', 'revenue',\n",
    "       'total-assets', 'total-liabilities', 'total-share-holder-equity',\n",
    "       'Volume', 'Dividends', 'Close']\n",
    "data = data[cols]\n",
    "#data = data.sample(frac=1)\n",
    "data"
   ]
  },
  {
   "cell_type": "code",
   "execution_count": 545,
   "metadata": {
    "ExecuteTime": {
     "end_time": "2022-01-22T13:02:16.929271Z",
     "start_time": "2022-01-22T13:02:16.922276Z"
    }
   },
   "outputs": [
    {
     "data": {
      "text/plain": [
       "QUARTER                       object\n",
       "SECTOR                        object\n",
       "cash-on-hand                 float64\n",
       "net-income                   float64\n",
       "revenue                      float64\n",
       "total-assets                 float64\n",
       "total-liabilities            float64\n",
       "total-share-holder-equity    float64\n",
       "Volume                       float64\n",
       "Dividends                    float64\n",
       "Close                        float64\n",
       "dtype: object"
      ]
     },
     "execution_count": 545,
     "metadata": {},
     "output_type": "execute_result"
    }
   ],
   "source": [
    "data.dtypes"
   ]
  },
  {
   "cell_type": "code",
   "execution_count": 546,
   "metadata": {
    "ExecuteTime": {
     "end_time": "2022-01-22T13:02:17.370073Z",
     "start_time": "2022-01-22T13:02:17.318394Z"
    }
   },
   "outputs": [
    {
     "data": {
      "text/html": [
       "<div>\n",
       "<style scoped>\n",
       "    .dataframe tbody tr th:only-of-type {\n",
       "        vertical-align: middle;\n",
       "    }\n",
       "\n",
       "    .dataframe tbody tr th {\n",
       "        vertical-align: top;\n",
       "    }\n",
       "\n",
       "    .dataframe thead th {\n",
       "        text-align: right;\n",
       "    }\n",
       "</style>\n",
       "<table border=\"1\" class=\"dataframe\">\n",
       "  <thead>\n",
       "    <tr style=\"text-align: right;\">\n",
       "      <th></th>\n",
       "      <th>cash-on-hand</th>\n",
       "      <th>net-income</th>\n",
       "      <th>revenue</th>\n",
       "      <th>total-assets</th>\n",
       "      <th>total-liabilities</th>\n",
       "      <th>total-share-holder-equity</th>\n",
       "      <th>Volume</th>\n",
       "      <th>Dividends</th>\n",
       "      <th>Close</th>\n",
       "    </tr>\n",
       "  </thead>\n",
       "  <tbody>\n",
       "    <tr>\n",
       "      <th>count</th>\n",
       "      <td>5.049000e+03</td>\n",
       "      <td>5049.000000</td>\n",
       "      <td>5049.00000</td>\n",
       "      <td>5.049000e+03</td>\n",
       "      <td>5.049000e+03</td>\n",
       "      <td>5049.000000</td>\n",
       "      <td>5.049000e+03</td>\n",
       "      <td>5049.000000</td>\n",
       "      <td>5049.000000</td>\n",
       "    </tr>\n",
       "    <tr>\n",
       "      <th>mean</th>\n",
       "      <td>1.352096e+04</td>\n",
       "      <td>593.666271</td>\n",
       "      <td>6275.27352</td>\n",
       "      <td>7.666020e+04</td>\n",
       "      <td>6.050696e+04</td>\n",
       "      <td>16153.146564</td>\n",
       "      <td>3.032566e+08</td>\n",
       "      <td>0.439545</td>\n",
       "      <td>144.996347</td>\n",
       "    </tr>\n",
       "    <tr>\n",
       "      <th>std</th>\n",
       "      <td>8.274400e+04</td>\n",
       "      <td>1744.149156</td>\n",
       "      <td>12247.75833</td>\n",
       "      <td>2.466993e+05</td>\n",
       "      <td>2.226240e+05</td>\n",
       "      <td>31666.547292</td>\n",
       "      <td>6.201470e+08</td>\n",
       "      <td>0.804420</td>\n",
       "      <td>266.370847</td>\n",
       "    </tr>\n",
       "    <tr>\n",
       "      <th>min</th>\n",
       "      <td>2.000000e+00</td>\n",
       "      <td>-20070.000000</td>\n",
       "      <td>-99.00000</td>\n",
       "      <td>3.190000e+02</td>\n",
       "      <td>1.170000e+02</td>\n",
       "      <td>-18075.000000</td>\n",
       "      <td>4.573000e+05</td>\n",
       "      <td>0.000000</td>\n",
       "      <td>5.180389</td>\n",
       "    </tr>\n",
       "    <tr>\n",
       "      <th>25%</th>\n",
       "      <td>5.110000e+02</td>\n",
       "      <td>101.000000</td>\n",
       "      <td>1138.00000</td>\n",
       "      <td>9.524000e+03</td>\n",
       "      <td>5.648000e+03</td>\n",
       "      <td>2919.000000</td>\n",
       "      <td>6.933670e+07</td>\n",
       "      <td>0.030000</td>\n",
       "      <td>48.244781</td>\n",
       "    </tr>\n",
       "    <tr>\n",
       "      <th>50%</th>\n",
       "      <td>1.394000e+03</td>\n",
       "      <td>243.000000</td>\n",
       "      <td>2486.00000</td>\n",
       "      <td>2.132300e+04</td>\n",
       "      <td>1.417000e+04</td>\n",
       "      <td>6753.000000</td>\n",
       "      <td>1.331153e+08</td>\n",
       "      <td>0.338000</td>\n",
       "      <td>87.395000</td>\n",
       "    </tr>\n",
       "    <tr>\n",
       "      <th>75%</th>\n",
       "      <td>4.000000e+03</td>\n",
       "      <td>615.000000</td>\n",
       "      <td>5381.00000</td>\n",
       "      <td>5.440800e+04</td>\n",
       "      <td>3.846700e+04</td>\n",
       "      <td>15037.000000</td>\n",
       "      <td>2.929759e+08</td>\n",
       "      <td>0.619000</td>\n",
       "      <td>156.653435</td>\n",
       "    </tr>\n",
       "    <tr>\n",
       "      <th>max</th>\n",
       "      <td>1.557931e+06</td>\n",
       "      <td>28755.000000</td>\n",
       "      <td>152079.00000</td>\n",
       "      <td>3.757576e+06</td>\n",
       "      <td>3.467535e+06</td>\n",
       "      <td>290041.000000</td>\n",
       "      <td>1.223372e+10</td>\n",
       "      <td>32.500000</td>\n",
       "      <td>5101.795166</td>\n",
       "    </tr>\n",
       "  </tbody>\n",
       "</table>\n",
       "</div>"
      ],
      "text/plain": [
       "       cash-on-hand    net-income       revenue  total-assets  \\\n",
       "count  5.049000e+03   5049.000000    5049.00000  5.049000e+03   \n",
       "mean   1.352096e+04    593.666271    6275.27352  7.666020e+04   \n",
       "std    8.274400e+04   1744.149156   12247.75833  2.466993e+05   \n",
       "min    2.000000e+00 -20070.000000     -99.00000  3.190000e+02   \n",
       "25%    5.110000e+02    101.000000    1138.00000  9.524000e+03   \n",
       "50%    1.394000e+03    243.000000    2486.00000  2.132300e+04   \n",
       "75%    4.000000e+03    615.000000    5381.00000  5.440800e+04   \n",
       "max    1.557931e+06  28755.000000  152079.00000  3.757576e+06   \n",
       "\n",
       "       total-liabilities  total-share-holder-equity        Volume  \\\n",
       "count       5.049000e+03                5049.000000  5.049000e+03   \n",
       "mean        6.050696e+04               16153.146564  3.032566e+08   \n",
       "std         2.226240e+05               31666.547292  6.201470e+08   \n",
       "min         1.170000e+02              -18075.000000  4.573000e+05   \n",
       "25%         5.648000e+03                2919.000000  6.933670e+07   \n",
       "50%         1.417000e+04                6753.000000  1.331153e+08   \n",
       "75%         3.846700e+04               15037.000000  2.929759e+08   \n",
       "max         3.467535e+06              290041.000000  1.223372e+10   \n",
       "\n",
       "         Dividends        Close  \n",
       "count  5049.000000  5049.000000  \n",
       "mean      0.439545   144.996347  \n",
       "std       0.804420   266.370847  \n",
       "min       0.000000     5.180389  \n",
       "25%       0.030000    48.244781  \n",
       "50%       0.338000    87.395000  \n",
       "75%       0.619000   156.653435  \n",
       "max      32.500000  5101.795166  "
      ]
     },
     "execution_count": 546,
     "metadata": {},
     "output_type": "execute_result"
    }
   ],
   "source": [
    "data.describe()"
   ]
  },
  {
   "cell_type": "code",
   "execution_count": 416,
   "metadata": {
    "ExecuteTime": {
     "end_time": "2022-01-22T01:12:40.512078Z",
     "start_time": "2022-01-22T01:12:40.338546Z"
    },
    "scrolled": false
   },
   "outputs": [
    {
     "data": {
      "image/png": "[encoded data removed]",
      "text/plain": [
       "<Figure size 576x576 with 1 Axes>"
      ]
     },
     "metadata": {
      "needs_background": "light"
     },
     "output_type": "display_data"
    }
   ],
   "source": [
    "plt.hist(data.Close[data.Close < 300], bins=30)\n",
    "plt.show()"
   ]
  },
  {
   "cell_type": "code",
   "execution_count": 417,
   "metadata": {
    "ExecuteTime": {
     "end_time": "2022-01-22T01:12:40.827998Z",
     "start_time": "2022-01-22T01:12:40.720990Z"
    }
   },
   "outputs": [
    {
     "data": {
      "text/plain": [
       "<matplotlib.axes._subplots.AxesSubplot at 0x1ae2f8fb6a0>"
      ]
     },
     "execution_count": 417,
     "metadata": {},
     "output_type": "execute_result"
    },
    {
     "data": {
      "image/png": "[encoded data removed]",
      "text/plain": [
       "<Figure size 576x576 with 1 Axes>"
      ]
     },
     "metadata": {
      "needs_background": "light"
     },
     "output_type": "display_data"
    }
   ],
   "source": [
    "sns.boxplot(data.Close[data.Close < 300])"
   ]
  },
  {
   "cell_type": "code",
   "execution_count": 418,
   "metadata": {
    "ExecuteTime": {
     "end_time": "2022-01-22T01:12:41.445745Z",
     "start_time": "2022-01-22T01:12:41.052990Z"
    }
   },
   "outputs": [
    {
     "data": {
      "image/png": "[encoded data removed]",
      "text/plain": [
       "<Figure size 576x576 with 2 Axes>"
      ]
     },
     "metadata": {
      "needs_background": "light"
     },
     "output_type": "display_data"
    }
   ],
   "source": [
    "corr_df = pd.DataFrame(data)\n",
    "corrMatrix = corr_df.corr()\n",
    "sns.heatmap(corrMatrix, annot=True)\n",
    "plt.show()"
   ]
  },
  {
   "cell_type": "code",
   "execution_count": 422,
   "metadata": {
    "ExecuteTime": {
     "end_time": "2022-01-22T01:12:42.349666Z",
     "start_time": "2022-01-22T01:12:42.319535Z"
    }
   },
   "outputs": [
    {
     "data": {
      "text/html": [
       "<div>\n",
       "<style scoped>\n",
       "    .dataframe tbody tr th:only-of-type {\n",
       "        vertical-align: middle;\n",
       "    }\n",
       "\n",
       "    .dataframe tbody tr th {\n",
       "        vertical-align: top;\n",
       "    }\n",
       "\n",
       "    .dataframe thead th {\n",
       "        text-align: right;\n",
       "    }\n",
       "</style>\n",
       "<table border=\"1\" class=\"dataframe\">\n",
       "  <thead>\n",
       "    <tr style=\"text-align: right;\">\n",
       "      <th></th>\n",
       "      <th>cash-on-hand</th>\n",
       "      <th>net-income</th>\n",
       "      <th>revenue</th>\n",
       "      <th>total-assets</th>\n",
       "      <th>total-liabilities</th>\n",
       "      <th>total-share-holder-equity</th>\n",
       "      <th>Volume</th>\n",
       "      <th>Dividends</th>\n",
       "      <th>Close</th>\n",
       "    </tr>\n",
       "  </thead>\n",
       "  <tbody>\n",
       "    <tr>\n",
       "      <th>5044</th>\n",
       "      <td>0.000477</td>\n",
       "      <td>0.418925</td>\n",
       "      <td>0.018439</td>\n",
       "      <td>0.008550</td>\n",
       "      <td>0.006353</td>\n",
       "      <td>0.092092</td>\n",
       "      <td>0.009536</td>\n",
       "      <td>0.000000</td>\n",
       "      <td>0.004069</td>\n",
       "    </tr>\n",
       "    <tr>\n",
       "      <th>5045</th>\n",
       "      <td>0.000262</td>\n",
       "      <td>0.402806</td>\n",
       "      <td>0.019326</td>\n",
       "      <td>0.007567</td>\n",
       "      <td>0.004392</td>\n",
       "      <td>0.102176</td>\n",
       "      <td>0.008552</td>\n",
       "      <td>0.017538</td>\n",
       "      <td>0.009155</td>\n",
       "    </tr>\n",
       "    <tr>\n",
       "      <th>5046</th>\n",
       "      <td>0.000306</td>\n",
       "      <td>0.419191</td>\n",
       "      <td>0.025023</td>\n",
       "      <td>0.021270</td>\n",
       "      <td>0.017574</td>\n",
       "      <td>0.120915</td>\n",
       "      <td>0.004612</td>\n",
       "      <td>0.001938</td>\n",
       "      <td>0.007250</td>\n",
       "    </tr>\n",
       "    <tr>\n",
       "      <th>5047</th>\n",
       "      <td>0.000972</td>\n",
       "      <td>0.402929</td>\n",
       "      <td>0.013287</td>\n",
       "      <td>0.003711</td>\n",
       "      <td>0.001660</td>\n",
       "      <td>0.085890</td>\n",
       "      <td>0.014440</td>\n",
       "      <td>0.000000</td>\n",
       "      <td>0.001096</td>\n",
       "    </tr>\n",
       "    <tr>\n",
       "      <th>5048</th>\n",
       "      <td>0.000499</td>\n",
       "      <td>0.412002</td>\n",
       "      <td>0.002083</td>\n",
       "      <td>0.001956</td>\n",
       "      <td>0.001427</td>\n",
       "      <td>0.067118</td>\n",
       "      <td>0.003941</td>\n",
       "      <td>0.032615</td>\n",
       "      <td>0.018030</td>\n",
       "    </tr>\n",
       "  </tbody>\n",
       "</table>\n",
       "</div>"
      ],
      "text/plain": [
       "      cash-on-hand  net-income   revenue  total-assets  total-liabilities  \\\n",
       "5044      0.000477    0.418925  0.018439      0.008550           0.006353   \n",
       "5045      0.000262    0.402806  0.019326      0.007567           0.004392   \n",
       "5046      0.000306    0.419191  0.025023      0.021270           0.017574   \n",
       "5047      0.000972    0.402929  0.013287      0.003711           0.001660   \n",
       "5048      0.000499    0.412002  0.002083      0.001956           0.001427   \n",
       "\n",
       "      total-share-holder-equity    Volume  Dividends     Close  \n",
       "5044                   0.092092  0.009536   0.000000  0.004069  \n",
       "5045                   0.102176  0.008552   0.017538  0.009155  \n",
       "5046                   0.120915  0.004612   0.001938  0.007250  \n",
       "5047                   0.085890  0.014440   0.000000  0.001096  \n",
       "5048                   0.067118  0.003941   0.032615  0.018030  "
      ]
     },
     "execution_count": 422,
     "metadata": {},
     "output_type": "execute_result"
    }
   ],
   "source": [
    "scaler = MinMaxScaler()\n",
    "scaler = scaler.fit(data.iloc[:,2:])\n",
    "data_scaled = scaler.transform(data.iloc[:,2:])\n",
    "data_scaled = pd.DataFrame(data_scaled)\n",
    "data_scaled.columns = cols[2:]\n",
    "data_scaled.tail()"
   ]
  },
  {
   "cell_type": "code",
   "execution_count": 423,
   "metadata": {
    "ExecuteTime": {
     "end_time": "2022-01-22T01:12:42.586676Z",
     "start_time": "2022-01-22T01:12:42.556635Z"
    }
   },
   "outputs": [
    {
     "data": {
      "text/html": [
       "<div>\n",
       "<style scoped>\n",
       "    .dataframe tbody tr th:only-of-type {\n",
       "        vertical-align: middle;\n",
       "    }\n",
       "\n",
       "    .dataframe tbody tr th {\n",
       "        vertical-align: top;\n",
       "    }\n",
       "\n",
       "    .dataframe thead th {\n",
       "        text-align: right;\n",
       "    }\n",
       "</style>\n",
       "<table border=\"1\" class=\"dataframe\">\n",
       "  <thead>\n",
       "    <tr style=\"text-align: right;\">\n",
       "      <th></th>\n",
       "      <th>QUARTER_2019Q1</th>\n",
       "      <th>QUARTER_2019Q2</th>\n",
       "      <th>QUARTER_2019Q3</th>\n",
       "      <th>QUARTER_2019Q4</th>\n",
       "      <th>QUARTER_2020Q1</th>\n",
       "      <th>QUARTER_2020Q2</th>\n",
       "      <th>QUARTER_2020Q3</th>\n",
       "      <th>QUARTER_2020Q4</th>\n",
       "      <th>QUARTER_2021Q1</th>\n",
       "      <th>QUARTER_2021Q3</th>\n",
       "      <th>...</th>\n",
       "      <th>SECTOR_Consumer Discretionary</th>\n",
       "      <th>SECTOR_Consumer Staples</th>\n",
       "      <th>SECTOR_Energy</th>\n",
       "      <th>SECTOR_Financials</th>\n",
       "      <th>SECTOR_Health Care</th>\n",
       "      <th>SECTOR_Industrials</th>\n",
       "      <th>SECTOR_Information Technology</th>\n",
       "      <th>SECTOR_Materials</th>\n",
       "      <th>SECTOR_Real Estate</th>\n",
       "      <th>SECTOR_Utilities</th>\n",
       "    </tr>\n",
       "  </thead>\n",
       "  <tbody>\n",
       "    <tr>\n",
       "      <th>0</th>\n",
       "      <td>0</td>\n",
       "      <td>0</td>\n",
       "      <td>0</td>\n",
       "      <td>0</td>\n",
       "      <td>1</td>\n",
       "      <td>0</td>\n",
       "      <td>0</td>\n",
       "      <td>0</td>\n",
       "      <td>0</td>\n",
       "      <td>0</td>\n",
       "      <td>...</td>\n",
       "      <td>1</td>\n",
       "      <td>0</td>\n",
       "      <td>0</td>\n",
       "      <td>0</td>\n",
       "      <td>0</td>\n",
       "      <td>0</td>\n",
       "      <td>0</td>\n",
       "      <td>0</td>\n",
       "      <td>0</td>\n",
       "      <td>0</td>\n",
       "    </tr>\n",
       "    <tr>\n",
       "      <th>1</th>\n",
       "      <td>0</td>\n",
       "      <td>0</td>\n",
       "      <td>0</td>\n",
       "      <td>1</td>\n",
       "      <td>0</td>\n",
       "      <td>0</td>\n",
       "      <td>0</td>\n",
       "      <td>0</td>\n",
       "      <td>0</td>\n",
       "      <td>0</td>\n",
       "      <td>...</td>\n",
       "      <td>1</td>\n",
       "      <td>0</td>\n",
       "      <td>0</td>\n",
       "      <td>0</td>\n",
       "      <td>0</td>\n",
       "      <td>0</td>\n",
       "      <td>0</td>\n",
       "      <td>0</td>\n",
       "      <td>0</td>\n",
       "      <td>0</td>\n",
       "    </tr>\n",
       "    <tr>\n",
       "      <th>2</th>\n",
       "      <td>0</td>\n",
       "      <td>0</td>\n",
       "      <td>0</td>\n",
       "      <td>1</td>\n",
       "      <td>0</td>\n",
       "      <td>0</td>\n",
       "      <td>0</td>\n",
       "      <td>0</td>\n",
       "      <td>0</td>\n",
       "      <td>0</td>\n",
       "      <td>...</td>\n",
       "      <td>0</td>\n",
       "      <td>0</td>\n",
       "      <td>1</td>\n",
       "      <td>0</td>\n",
       "      <td>0</td>\n",
       "      <td>0</td>\n",
       "      <td>0</td>\n",
       "      <td>0</td>\n",
       "      <td>0</td>\n",
       "      <td>0</td>\n",
       "    </tr>\n",
       "    <tr>\n",
       "      <th>3</th>\n",
       "      <td>0</td>\n",
       "      <td>0</td>\n",
       "      <td>0</td>\n",
       "      <td>0</td>\n",
       "      <td>0</td>\n",
       "      <td>0</td>\n",
       "      <td>0</td>\n",
       "      <td>0</td>\n",
       "      <td>1</td>\n",
       "      <td>0</td>\n",
       "      <td>...</td>\n",
       "      <td>0</td>\n",
       "      <td>0</td>\n",
       "      <td>0</td>\n",
       "      <td>1</td>\n",
       "      <td>0</td>\n",
       "      <td>0</td>\n",
       "      <td>0</td>\n",
       "      <td>0</td>\n",
       "      <td>0</td>\n",
       "      <td>0</td>\n",
       "    </tr>\n",
       "    <tr>\n",
       "      <th>4</th>\n",
       "      <td>0</td>\n",
       "      <td>0</td>\n",
       "      <td>0</td>\n",
       "      <td>1</td>\n",
       "      <td>0</td>\n",
       "      <td>0</td>\n",
       "      <td>0</td>\n",
       "      <td>0</td>\n",
       "      <td>0</td>\n",
       "      <td>0</td>\n",
       "      <td>...</td>\n",
       "      <td>0</td>\n",
       "      <td>0</td>\n",
       "      <td>0</td>\n",
       "      <td>0</td>\n",
       "      <td>0</td>\n",
       "      <td>1</td>\n",
       "      <td>0</td>\n",
       "      <td>0</td>\n",
       "      <td>0</td>\n",
       "      <td>0</td>\n",
       "    </tr>\n",
       "  </tbody>\n",
       "</table>\n",
       "<p>5 rows × 22 columns</p>\n",
       "</div>"
      ],
      "text/plain": [
       "   QUARTER_2019Q1  QUARTER_2019Q2  QUARTER_2019Q3  QUARTER_2019Q4  \\\n",
       "0               0               0               0               0   \n",
       "1               0               0               0               1   \n",
       "2               0               0               0               1   \n",
       "3               0               0               0               0   \n",
       "4               0               0               0               1   \n",
       "\n",
       "   QUARTER_2020Q1  QUARTER_2020Q2  QUARTER_2020Q3  QUARTER_2020Q4  \\\n",
       "0               1               0               0               0   \n",
       "1               0               0               0               0   \n",
       "2               0               0               0               0   \n",
       "3               0               0               0               0   \n",
       "4               0               0               0               0   \n",
       "\n",
       "   QUARTER_2021Q1  QUARTER_2021Q3  ...  SECTOR_Consumer Discretionary  \\\n",
       "0               0               0  ...                              1   \n",
       "1               0               0  ...                              1   \n",
       "2               0               0  ...                              0   \n",
       "3               1               0  ...                              0   \n",
       "4               0               0  ...                              0   \n",
       "\n",
       "   SECTOR_Consumer Staples  SECTOR_Energy  SECTOR_Financials  \\\n",
       "0                        0              0                  0   \n",
       "1                        0              0                  0   \n",
       "2                        0              1                  0   \n",
       "3                        0              0                  1   \n",
       "4                        0              0                  0   \n",
       "\n",
       "   SECTOR_Health Care  SECTOR_Industrials  SECTOR_Information Technology  \\\n",
       "0                   0                   0                              0   \n",
       "1                   0                   0                              0   \n",
       "2                   0                   0                              0   \n",
       "3                   0                   0                              0   \n",
       "4                   0                   1                              0   \n",
       "\n",
       "   SECTOR_Materials  SECTOR_Real Estate  SECTOR_Utilities  \n",
       "0                 0                   0                 0  \n",
       "1                 0                   0                 0  \n",
       "2                 0                   0                 0  \n",
       "3                 0                   0                 0  \n",
       "4                 0                   0                 0  \n",
       "\n",
       "[5 rows x 22 columns]"
      ]
     },
     "execution_count": 423,
     "metadata": {},
     "output_type": "execute_result"
    }
   ],
   "source": [
    "# Get one hot encoding of columns B\n",
    "one_hot = pd.get_dummies(data[['QUARTER', 'SECTOR']])\n",
    "one_hot.reset_index(inplace = True)\n",
    "one_hot.drop('index', axis =1, inplace = True)\n",
    "one_hot.head()"
   ]
  },
  {
   "cell_type": "code",
   "execution_count": 424,
   "metadata": {
    "ExecuteTime": {
     "end_time": "2022-01-22T01:12:42.824165Z",
     "start_time": "2022-01-22T01:12:42.811684Z"
    }
   },
   "outputs": [
    {
     "data": {
      "text/plain": [
       "Index(['QUARTER_2019Q1', 'QUARTER_2019Q2', 'QUARTER_2019Q3', 'QUARTER_2019Q4',\n",
       "       'QUARTER_2020Q1', 'QUARTER_2020Q2', 'QUARTER_2020Q3', 'QUARTER_2020Q4',\n",
       "       'QUARTER_2021Q1', 'QUARTER_2021Q3', 'QUARTER_2021Q4',\n",
       "       'SECTOR_Communication Services', 'SECTOR_Consumer Discretionary',\n",
       "       'SECTOR_Consumer Staples', 'SECTOR_Energy', 'SECTOR_Financials',\n",
       "       'SECTOR_Health Care', 'SECTOR_Industrials',\n",
       "       'SECTOR_Information Technology', 'SECTOR_Materials',\n",
       "       'SECTOR_Real Estate', 'SECTOR_Utilities'],\n",
       "      dtype='object')"
      ]
     },
     "execution_count": 424,
     "metadata": {},
     "output_type": "execute_result"
    }
   ],
   "source": [
    "one_hot.columns"
   ]
  },
  {
   "cell_type": "code",
   "execution_count": 425,
   "metadata": {
    "ExecuteTime": {
     "end_time": "2022-01-22T01:12:43.075353Z",
     "start_time": "2022-01-22T01:12:43.047162Z"
    },
    "scrolled": true
   },
   "outputs": [
    {
     "data": {
      "text/html": [
       "<div>\n",
       "<style scoped>\n",
       "    .dataframe tbody tr th:only-of-type {\n",
       "        vertical-align: middle;\n",
       "    }\n",
       "\n",
       "    .dataframe tbody tr th {\n",
       "        vertical-align: top;\n",
       "    }\n",
       "\n",
       "    .dataframe thead th {\n",
       "        text-align: right;\n",
       "    }\n",
       "</style>\n",
       "<table border=\"1\" class=\"dataframe\">\n",
       "  <thead>\n",
       "    <tr style=\"text-align: right;\">\n",
       "      <th></th>\n",
       "      <th>cash-on-hand</th>\n",
       "      <th>net-income</th>\n",
       "      <th>revenue</th>\n",
       "      <th>total-assets</th>\n",
       "      <th>total-liabilities</th>\n",
       "      <th>total-share-holder-equity</th>\n",
       "      <th>Volume</th>\n",
       "      <th>Dividends</th>\n",
       "      <th>QUARTER_2019Q1</th>\n",
       "      <th>QUARTER_2019Q2</th>\n",
       "      <th>...</th>\n",
       "      <th>SECTOR_Consumer Staples</th>\n",
       "      <th>SECTOR_Energy</th>\n",
       "      <th>SECTOR_Financials</th>\n",
       "      <th>SECTOR_Health Care</th>\n",
       "      <th>SECTOR_Industrials</th>\n",
       "      <th>SECTOR_Information Technology</th>\n",
       "      <th>SECTOR_Materials</th>\n",
       "      <th>SECTOR_Real Estate</th>\n",
       "      <th>SECTOR_Utilities</th>\n",
       "      <th>Close</th>\n",
       "    </tr>\n",
       "  </thead>\n",
       "  <tbody>\n",
       "    <tr>\n",
       "      <th>0</th>\n",
       "      <td>0.029763</td>\n",
       "      <td>0.370241</td>\n",
       "      <td>0.226176</td>\n",
       "      <td>0.070219</td>\n",
       "      <td>0.067582</td>\n",
       "      <td>0.155049</td>\n",
       "      <td>0.437430</td>\n",
       "      <td>0.004615</td>\n",
       "      <td>0</td>\n",
       "      <td>0</td>\n",
       "      <td>...</td>\n",
       "      <td>0</td>\n",
       "      <td>0</td>\n",
       "      <td>0</td>\n",
       "      <td>0</td>\n",
       "      <td>0</td>\n",
       "      <td>0</td>\n",
       "      <td>0</td>\n",
       "      <td>0</td>\n",
       "      <td>0</td>\n",
       "      <td>0.000557</td>\n",
       "    </tr>\n",
       "    <tr>\n",
       "      <th>1</th>\n",
       "      <td>0.000732</td>\n",
       "      <td>0.418658</td>\n",
       "      <td>0.025943</td>\n",
       "      <td>0.002421</td>\n",
       "      <td>0.001737</td>\n",
       "      <td>0.069299</td>\n",
       "      <td>0.008871</td>\n",
       "      <td>0.007846</td>\n",
       "      <td>0</td>\n",
       "      <td>0</td>\n",
       "      <td>...</td>\n",
       "      <td>0</td>\n",
       "      <td>0</td>\n",
       "      <td>0</td>\n",
       "      <td>0</td>\n",
       "      <td>0</td>\n",
       "      <td>0</td>\n",
       "      <td>0</td>\n",
       "      <td>0</td>\n",
       "      <td>0</td>\n",
       "      <td>0.020696</td>\n",
       "    </tr>\n",
       "    <tr>\n",
       "      <th>2</th>\n",
       "      <td>0.006563</td>\n",
       "      <td>0.425806</td>\n",
       "      <td>0.054141</td>\n",
       "      <td>0.018683</td>\n",
       "      <td>0.010194</td>\n",
       "      <td>0.172419</td>\n",
       "      <td>0.031322</td>\n",
       "      <td>0.012923</td>\n",
       "      <td>0</td>\n",
       "      <td>0</td>\n",
       "      <td>...</td>\n",
       "      <td>0</td>\n",
       "      <td>1</td>\n",
       "      <td>0</td>\n",
       "      <td>0</td>\n",
       "      <td>0</td>\n",
       "      <td>0</td>\n",
       "      <td>0</td>\n",
       "      <td>0</td>\n",
       "      <td>0</td>\n",
       "      <td>0.009636</td>\n",
       "    </tr>\n",
       "    <tr>\n",
       "      <th>3</th>\n",
       "      <td>0.002156</td>\n",
       "      <td>0.418884</td>\n",
       "      <td>0.014877</td>\n",
       "      <td>0.006413</td>\n",
       "      <td>0.005052</td>\n",
       "      <td>0.080668</td>\n",
       "      <td>0.004451</td>\n",
       "      <td>0.014769</td>\n",
       "      <td>0</td>\n",
       "      <td>0</td>\n",
       "      <td>...</td>\n",
       "      <td>0</td>\n",
       "      <td>0</td>\n",
       "      <td>1</td>\n",
       "      <td>0</td>\n",
       "      <td>0</td>\n",
       "      <td>0</td>\n",
       "      <td>0</td>\n",
       "      <td>0</td>\n",
       "      <td>0</td>\n",
       "      <td>0.022259</td>\n",
       "    </tr>\n",
       "    <tr>\n",
       "      <th>4</th>\n",
       "      <td>0.000117</td>\n",
       "      <td>0.413763</td>\n",
       "      <td>0.005099</td>\n",
       "      <td>0.001793</td>\n",
       "      <td>0.001349</td>\n",
       "      <td>0.066001</td>\n",
       "      <td>0.004417</td>\n",
       "      <td>0.007692</td>\n",
       "      <td>0</td>\n",
       "      <td>0</td>\n",
       "      <td>...</td>\n",
       "      <td>0</td>\n",
       "      <td>0</td>\n",
       "      <td>0</td>\n",
       "      <td>0</td>\n",
       "      <td>1</td>\n",
       "      <td>0</td>\n",
       "      <td>0</td>\n",
       "      <td>0</td>\n",
       "      <td>0</td>\n",
       "      <td>0.027709</td>\n",
       "    </tr>\n",
       "  </tbody>\n",
       "</table>\n",
       "<p>5 rows × 31 columns</p>\n",
       "</div>"
      ],
      "text/plain": [
       "   cash-on-hand  net-income   revenue  total-assets  total-liabilities  \\\n",
       "0      0.029763    0.370241  0.226176      0.070219           0.067582   \n",
       "1      0.000732    0.418658  0.025943      0.002421           0.001737   \n",
       "2      0.006563    0.425806  0.054141      0.018683           0.010194   \n",
       "3      0.002156    0.418884  0.014877      0.006413           0.005052   \n",
       "4      0.000117    0.413763  0.005099      0.001793           0.001349   \n",
       "\n",
       "   total-share-holder-equity    Volume  Dividends  QUARTER_2019Q1  \\\n",
       "0                   0.155049  0.437430   0.004615               0   \n",
       "1                   0.069299  0.008871   0.007846               0   \n",
       "2                   0.172419  0.031322   0.012923               0   \n",
       "3                   0.080668  0.004451   0.014769               0   \n",
       "4                   0.066001  0.004417   0.007692               0   \n",
       "\n",
       "   QUARTER_2019Q2  ...  SECTOR_Consumer Staples  SECTOR_Energy  \\\n",
       "0               0  ...                        0              0   \n",
       "1               0  ...                        0              0   \n",
       "2               0  ...                        0              1   \n",
       "3               0  ...                        0              0   \n",
       "4               0  ...                        0              0   \n",
       "\n",
       "   SECTOR_Financials  SECTOR_Health Care  SECTOR_Industrials  \\\n",
       "0                  0                   0                   0   \n",
       "1                  0                   0                   0   \n",
       "2                  0                   0                   0   \n",
       "3                  1                   0                   0   \n",
       "4                  0                   0                   1   \n",
       "\n",
       "   SECTOR_Information Technology  SECTOR_Materials  SECTOR_Real Estate  \\\n",
       "0                              0                 0                   0   \n",
       "1                              0                 0                   0   \n",
       "2                              0                 0                   0   \n",
       "3                              0                 0                   0   \n",
       "4                              0                 0                   0   \n",
       "\n",
       "   SECTOR_Utilities     Close  \n",
       "0                 0  0.000557  \n",
       "1                 0  0.020696  \n",
       "2                 0  0.009636  \n",
       "3                 0  0.022259  \n",
       "4                 0  0.027709  \n",
       "\n",
       "[5 rows x 31 columns]"
      ]
     },
     "execution_count": 425,
     "metadata": {},
     "output_type": "execute_result"
    }
   ],
   "source": [
    "# Join the encoded df\n",
    "data_scaled = data_scaled.join(one_hot)\n",
    "cols = ['cash-on-hand', 'net-income', 'revenue', 'total-assets', 'total-liabilities', 'total-share-holder-equity',\n",
    "       'Volume', 'Dividends', 'QUARTER_2019Q1', 'QUARTER_2019Q2', 'QUARTER_2019Q3', 'QUARTER_2019Q4',\n",
    "       'QUARTER_2020Q1', 'QUARTER_2020Q2', 'QUARTER_2020Q3', 'QUARTER_2020Q4',\n",
    "       'QUARTER_2021Q1', 'QUARTER_2021Q3', 'QUARTER_2021Q4',\n",
    "       'SECTOR_Communication Services', 'SECTOR_Consumer Discretionary',\n",
    "       'SECTOR_Consumer Staples', 'SECTOR_Energy', 'SECTOR_Financials',\n",
    "       'SECTOR_Health Care', 'SECTOR_Industrials',\n",
    "       'SECTOR_Information Technology', 'SECTOR_Materials',\n",
    "       'SECTOR_Real Estate', 'SECTOR_Utilities', 'Close']\n",
    "data_scaled = data_scaled[cols]\n",
    "data_scaled.head()"
   ]
  },
  {
   "cell_type": "code",
   "execution_count": 426,
   "metadata": {
    "ExecuteTime": {
     "end_time": "2022-01-22T01:12:43.295907Z",
     "start_time": "2022-01-22T01:12:43.283336Z"
    }
   },
   "outputs": [],
   "source": [
    "X, y = data_scaled.iloc[:,:-1],data_scaled.iloc[:,-1]\n",
    "X_train, X_test, y_train, y_test = train_test_split(X, y, test_size=0.2, shuffle = False)"
   ]
  },
  {
   "cell_type": "code",
   "execution_count": 427,
   "metadata": {
    "ExecuteTime": {
     "end_time": "2022-01-22T01:12:43.535871Z",
     "start_time": "2022-01-22T01:12:43.522865Z"
    }
   },
   "outputs": [
    {
     "data": {
      "text/plain": [
       "(1010, 30)"
      ]
     },
     "execution_count": 427,
     "metadata": {},
     "output_type": "execute_result"
    }
   ],
   "source": [
    "X_test.shape"
   ]
  },
  {
   "cell_type": "markdown",
   "metadata": {},
   "source": [
    "## XGBoost"
   ]
  },
  {
   "cell_type": "code",
   "execution_count": 428,
   "metadata": {
    "ExecuteTime": {
     "end_time": "2022-01-22T01:12:43.757133Z",
     "start_time": "2022-01-22T01:12:43.744862Z"
    }
   },
   "outputs": [],
   "source": [
    "# Create the parameter grid based on the results of random search \n",
    "param_grid = {\n",
    "    'objective': [\"reg:linear\"],\n",
    "    'colsample_bytree': [i/10.0 for i in range(6,10)],\n",
    "    'learning_rate': [i/10.0 for i in range(1,11, 2)],\n",
    "    'max_depth': [i for i in range(4,10,2)],\n",
    "    'n_estimators': [100, 300, 600, 1000],\n",
    "    'alpha': [i for i in range(0,10,2)]\n",
    "}\n",
    "# Create a based model\n",
    "xg_reg = xgb.XGBRegressor(verbosity = 0)\n",
    "# Instantiate the grid search model\n",
    "grid_search = GridSearchCV(estimator = xg_reg, param_grid = param_grid, \n",
    "                          cv = 3, n_jobs = -1, verbose = 2)"
   ]
  },
  {
   "cell_type": "code",
   "execution_count": 429,
   "metadata": {
    "ExecuteTime": {
     "end_time": "2022-01-22T01:30:16.611817Z",
     "start_time": "2022-01-22T01:12:43.964013Z"
    },
    "scrolled": true
   },
   "outputs": [
    {
     "name": "stdout",
     "output_type": "stream",
     "text": [
      "Fitting 3 folds for each of 1200 candidates, totalling 3600 fits\n"
     ]
    },
    {
     "name": "stderr",
     "output_type": "stream",
     "text": [
      "[Parallel(n_jobs=-1)]: Using backend LokyBackend with 8 concurrent workers.\n",
      "[Parallel(n_jobs=-1)]: Done  25 tasks      | elapsed:   15.2s\n",
      "[Parallel(n_jobs=-1)]: Done 146 tasks      | elapsed:  1.0min\n",
      "[Parallel(n_jobs=-1)]: Done 349 tasks      | elapsed:  2.4min\n",
      "[Parallel(n_jobs=-1)]: Done 632 tasks      | elapsed:  4.7min\n",
      "[Parallel(n_jobs=-1)]: Done 997 tasks      | elapsed:  6.4min\n",
      "[Parallel(n_jobs=-1)]: Done 1442 tasks      | elapsed:  8.5min\n",
      "[Parallel(n_jobs=-1)]: Done 1969 tasks      | elapsed: 10.7min\n",
      "[Parallel(n_jobs=-1)]: Done 2576 tasks      | elapsed: 13.3min\n",
      "[Parallel(n_jobs=-1)]: Done 3265 tasks      | elapsed: 16.1min\n",
      "[Parallel(n_jobs=-1)]: Done 3600 out of 3600 | elapsed: 17.5min finished\n"
     ]
    },
    {
     "data": {
      "text/plain": [
       "{'alpha': 0,\n",
       " 'colsample_bytree': 0.9,\n",
       " 'learning_rate': 0.3,\n",
       " 'max_depth': 4,\n",
       " 'n_estimators': 600,\n",
       " 'objective': 'reg:linear'}"
      ]
     },
     "execution_count": 429,
     "metadata": {},
     "output_type": "execute_result"
    }
   ],
   "source": [
    "grid_search.fit(X_train, y_train)\n",
    "grid_search.best_params_"
   ]
  },
  {
   "cell_type": "code",
   "execution_count": 521,
   "metadata": {
    "ExecuteTime": {
     "end_time": "2022-01-22T12:58:03.229975Z",
     "start_time": "2022-01-22T12:58:02.154324Z"
    }
   },
   "outputs": [
    {
     "name": "stdout",
     "output_type": "stream",
     "text": [
      "RMSE XGBoost: 0.017937\n"
     ]
    }
   ],
   "source": [
    "xg_reg = xgb.XGBRegressor(alpha = 0,colsample_bytree = 0.9, learning_rate = 0.3,max_depth = 4, n_estimators = 600,\n",
    "                          objective = 'reg:linear', verbosity = 0)\n",
    "xg_reg.fit(X_train,y_train)\n",
    "preds = xg_reg.predict(X_test)\n",
    "rmse = np.sqrt(mean_squared_error(y_test, preds))\n",
    "print(\"RMSE XGBoost: %f\" % (rmse))"
   ]
  },
  {
   "cell_type": "code",
   "execution_count": 431,
   "metadata": {
    "ExecuteTime": {
     "end_time": "2022-01-22T01:30:17.659817Z",
     "start_time": "2022-01-22T01:30:17.312819Z"
    },
    "scrolled": true
   },
   "outputs": [
    {
     "data": {
      "text/html": [
       "<div>\n",
       "<style scoped>\n",
       "    .dataframe tbody tr th:only-of-type {\n",
       "        vertical-align: middle;\n",
       "    }\n",
       "\n",
       "    .dataframe tbody tr th {\n",
       "        vertical-align: top;\n",
       "    }\n",
       "\n",
       "    .dataframe thead th {\n",
       "        text-align: right;\n",
       "    }\n",
       "</style>\n",
       "<table border=\"1\" class=\"dataframe\">\n",
       "  <thead>\n",
       "    <tr style=\"text-align: right;\">\n",
       "      <th></th>\n",
       "      <th>train-rmse-mean</th>\n",
       "      <th>train-rmse-std</th>\n",
       "      <th>test-rmse-mean</th>\n",
       "      <th>test-rmse-std</th>\n",
       "    </tr>\n",
       "  </thead>\n",
       "  <tbody>\n",
       "    <tr>\n",
       "      <th>0</th>\n",
       "      <td>0.241344</td>\n",
       "      <td>0.000128</td>\n",
       "      <td>0.241547</td>\n",
       "      <td>0.000756</td>\n",
       "    </tr>\n",
       "    <tr>\n",
       "      <th>1</th>\n",
       "      <td>0.126665</td>\n",
       "      <td>0.000431</td>\n",
       "      <td>0.127286</td>\n",
       "      <td>0.001064</td>\n",
       "    </tr>\n",
       "    <tr>\n",
       "      <th>2</th>\n",
       "      <td>0.072118</td>\n",
       "      <td>0.000451</td>\n",
       "      <td>0.073554</td>\n",
       "      <td>0.001997</td>\n",
       "    </tr>\n",
       "    <tr>\n",
       "      <th>3</th>\n",
       "      <td>0.048373</td>\n",
       "      <td>0.001106</td>\n",
       "      <td>0.050265</td>\n",
       "      <td>0.002839</td>\n",
       "    </tr>\n",
       "    <tr>\n",
       "      <th>4</th>\n",
       "      <td>0.038336</td>\n",
       "      <td>0.001465</td>\n",
       "      <td>0.040935</td>\n",
       "      <td>0.003046</td>\n",
       "    </tr>\n",
       "    <tr>\n",
       "      <th>5</th>\n",
       "      <td>0.034412</td>\n",
       "      <td>0.001344</td>\n",
       "      <td>0.037272</td>\n",
       "      <td>0.002937</td>\n",
       "    </tr>\n",
       "    <tr>\n",
       "      <th>6</th>\n",
       "      <td>0.032788</td>\n",
       "      <td>0.001318</td>\n",
       "      <td>0.035780</td>\n",
       "      <td>0.003291</td>\n",
       "    </tr>\n",
       "    <tr>\n",
       "      <th>7</th>\n",
       "      <td>0.031731</td>\n",
       "      <td>0.001212</td>\n",
       "      <td>0.034855</td>\n",
       "      <td>0.003400</td>\n",
       "    </tr>\n",
       "    <tr>\n",
       "      <th>8</th>\n",
       "      <td>0.031136</td>\n",
       "      <td>0.001114</td>\n",
       "      <td>0.034384</td>\n",
       "      <td>0.003445</td>\n",
       "    </tr>\n",
       "    <tr>\n",
       "      <th>9</th>\n",
       "      <td>0.030560</td>\n",
       "      <td>0.001061</td>\n",
       "      <td>0.033953</td>\n",
       "      <td>0.003278</td>\n",
       "    </tr>\n",
       "    <tr>\n",
       "      <th>10</th>\n",
       "      <td>0.030204</td>\n",
       "      <td>0.000937</td>\n",
       "      <td>0.033649</td>\n",
       "      <td>0.003367</td>\n",
       "    </tr>\n",
       "    <tr>\n",
       "      <th>11</th>\n",
       "      <td>0.029816</td>\n",
       "      <td>0.000932</td>\n",
       "      <td>0.033276</td>\n",
       "      <td>0.003401</td>\n",
       "    </tr>\n",
       "    <tr>\n",
       "      <th>12</th>\n",
       "      <td>0.029354</td>\n",
       "      <td>0.000836</td>\n",
       "      <td>0.032890</td>\n",
       "      <td>0.003451</td>\n",
       "    </tr>\n",
       "    <tr>\n",
       "      <th>13</th>\n",
       "      <td>0.029206</td>\n",
       "      <td>0.000812</td>\n",
       "      <td>0.032750</td>\n",
       "      <td>0.003519</td>\n",
       "    </tr>\n",
       "    <tr>\n",
       "      <th>14</th>\n",
       "      <td>0.029067</td>\n",
       "      <td>0.000913</td>\n",
       "      <td>0.032662</td>\n",
       "      <td>0.003462</td>\n",
       "    </tr>\n",
       "    <tr>\n",
       "      <th>15</th>\n",
       "      <td>0.028880</td>\n",
       "      <td>0.000952</td>\n",
       "      <td>0.032486</td>\n",
       "      <td>0.003515</td>\n",
       "    </tr>\n",
       "    <tr>\n",
       "      <th>16</th>\n",
       "      <td>0.028799</td>\n",
       "      <td>0.000946</td>\n",
       "      <td>0.032413</td>\n",
       "      <td>0.003565</td>\n",
       "    </tr>\n",
       "    <tr>\n",
       "      <th>17</th>\n",
       "      <td>0.028782</td>\n",
       "      <td>0.000934</td>\n",
       "      <td>0.032397</td>\n",
       "      <td>0.003582</td>\n",
       "    </tr>\n",
       "    <tr>\n",
       "      <th>18</th>\n",
       "      <td>0.028782</td>\n",
       "      <td>0.000934</td>\n",
       "      <td>0.032397</td>\n",
       "      <td>0.003582</td>\n",
       "    </tr>\n",
       "    <tr>\n",
       "      <th>19</th>\n",
       "      <td>0.028763</td>\n",
       "      <td>0.000926</td>\n",
       "      <td>0.032375</td>\n",
       "      <td>0.003609</td>\n",
       "    </tr>\n",
       "  </tbody>\n",
       "</table>\n",
       "</div>"
      ],
      "text/plain": [
       "    train-rmse-mean  train-rmse-std  test-rmse-mean  test-rmse-std\n",
       "0          0.241344        0.000128        0.241547       0.000756\n",
       "1          0.126665        0.000431        0.127286       0.001064\n",
       "2          0.072118        0.000451        0.073554       0.001997\n",
       "3          0.048373        0.001106        0.050265       0.002839\n",
       "4          0.038336        0.001465        0.040935       0.003046\n",
       "5          0.034412        0.001344        0.037272       0.002937\n",
       "6          0.032788        0.001318        0.035780       0.003291\n",
       "7          0.031731        0.001212        0.034855       0.003400\n",
       "8          0.031136        0.001114        0.034384       0.003445\n",
       "9          0.030560        0.001061        0.033953       0.003278\n",
       "10         0.030204        0.000937        0.033649       0.003367\n",
       "11         0.029816        0.000932        0.033276       0.003401\n",
       "12         0.029354        0.000836        0.032890       0.003451\n",
       "13         0.029206        0.000812        0.032750       0.003519\n",
       "14         0.029067        0.000913        0.032662       0.003462\n",
       "15         0.028880        0.000952        0.032486       0.003515\n",
       "16         0.028799        0.000946        0.032413       0.003565\n",
       "17         0.028782        0.000934        0.032397       0.003582\n",
       "18         0.028782        0.000934        0.032397       0.003582\n",
       "19         0.028763        0.000926        0.032375       0.003609"
      ]
     },
     "execution_count": 431,
     "metadata": {},
     "output_type": "execute_result"
    }
   ],
   "source": [
    "params = {\"objective\":\"reg:linear\",'colsample_bytree': 0.7,'learning_rate': 0.5,\n",
    "                'max_depth': 4, 'alpha': 4}\n",
    "data_dmatrix = xgb.DMatrix(data=X,label=y, enable_categorical = True)\n",
    "\n",
    "cv_results = xgb.cv(dtrain=data_dmatrix, params=params, nfold=5,\n",
    "                    num_boost_round=50,early_stopping_rounds=3,metrics=\"rmse\", as_pandas=True, seed=123)\n",
    "\n",
    "cv_results"
   ]
  },
  {
   "cell_type": "code",
   "execution_count": 432,
   "metadata": {
    "ExecuteTime": {
     "end_time": "2022-01-22T01:30:18.164817Z",
     "start_time": "2022-01-22T01:30:17.944821Z"
    }
   },
   "outputs": [
    {
     "data": {
      "image/png": "[encoded data removed]",
      "text/plain": [
       "<Figure size 576x576 with 1 Axes>"
      ]
     },
     "metadata": {
      "needs_background": "light"
     },
     "output_type": "display_data"
    }
   ],
   "source": [
    "xgb.plot_importance(xg_reg)\n",
    "plt.rcParams['figure.figsize'] = [8,8]\n",
    "plt.show()"
   ]
  },
  {
   "cell_type": "markdown",
   "metadata": {},
   "source": [
    "## Random forest"
   ]
  },
  {
   "cell_type": "code",
   "execution_count": 433,
   "metadata": {
    "ExecuteTime": {
     "end_time": "2022-01-22T01:30:18.461894Z",
     "start_time": "2022-01-22T01:30:18.353819Z"
    }
   },
   "outputs": [],
   "source": [
    "# Create the parameter grid based on the results of random search \n",
    "param_grid = {\n",
    "    'bootstrap': [True],\n",
    "    'max_depth': [None, 10, 30, 50],\n",
    "    'max_features': [None, 2, 3, 4],\n",
    "    'min_samples_leaf': [None, 2, 4, 6],\n",
    "    'n_estimators': [100, 300, 600, 1000]\n",
    "}\n",
    "# Create a based model\n",
    "rf = RandomForestRegressor(random_state = 42)\n",
    "# Instantiate the grid search model\n",
    "grid_search = GridSearchCV(estimator = rf, param_grid = param_grid, \n",
    "                          cv = 3, n_jobs = -1, verbose = 2)"
   ]
  },
  {
   "cell_type": "code",
   "execution_count": 434,
   "metadata": {
    "ExecuteTime": {
     "end_time": "2022-01-22T01:39:33.337144Z",
     "start_time": "2022-01-22T01:30:18.672883Z"
    }
   },
   "outputs": [
    {
     "name": "stdout",
     "output_type": "stream",
     "text": [
      "Fitting 3 folds for each of 256 candidates, totalling 768 fits\n"
     ]
    },
    {
     "name": "stderr",
     "output_type": "stream",
     "text": [
      "[Parallel(n_jobs=-1)]: Using backend LokyBackend with 8 concurrent workers.\n",
      "[Parallel(n_jobs=-1)]: Done  25 tasks      | elapsed:   28.7s\n",
      "[Parallel(n_jobs=-1)]: Done 146 tasks      | elapsed:  2.0min\n",
      "[Parallel(n_jobs=-1)]: Done 349 tasks      | elapsed:  3.9min\n",
      "[Parallel(n_jobs=-1)]: Done 632 tasks      | elapsed:  7.7min\n",
      "[Parallel(n_jobs=-1)]: Done 768 out of 768 | elapsed:  8.8min finished\n"
     ]
    },
    {
     "data": {
      "text/plain": [
       "{'bootstrap': True,\n",
       " 'max_depth': 30,\n",
       " 'max_features': None,\n",
       " 'min_samples_leaf': 2,\n",
       " 'n_estimators': 1000}"
      ]
     },
     "execution_count": 434,
     "metadata": {},
     "output_type": "execute_result"
    }
   ],
   "source": [
    "# Fit the grid search to the data\n",
    "grid_search.fit(X_train, y_train)\n",
    "grid_search.best_params_"
   ]
  },
  {
   "cell_type": "code",
   "execution_count": 455,
   "metadata": {
    "ExecuteTime": {
     "end_time": "2022-01-22T10:03:35.291037Z",
     "start_time": "2022-01-22T10:03:06.469652Z"
    }
   },
   "outputs": [
    {
     "name": "stdout",
     "output_type": "stream",
     "text": [
      "RMSE for RandomForest: 0.021977\n"
     ]
    }
   ],
   "source": [
    "rf = RandomForestRegressor(bootstrap = True, n_estimators = 1000, min_samples_leaf = 2, max_depth = 30,\n",
    "                           random_state = 42)\n",
    "rf.fit(X_train,y_train)\n",
    "predictions = rf.predict(X_test)\n",
    "rmse2 = np.sqrt(mean_squared_error(y_test, predictions))\n",
    "print(\"RMSE for RandomForest: %f\" % (rmse2))"
   ]
  },
  {
   "cell_type": "code",
   "execution_count": 436,
   "metadata": {
    "ExecuteTime": {
     "end_time": "2022-01-22T01:40:03.428296Z",
     "start_time": "2022-01-22T01:40:03.080207Z"
    }
   },
   "outputs": [
    {
     "data": {
      "image/png": "[encoded data removed]",
      "text/plain": [
       "<Figure size 504x504 with 1 Axes>"
      ]
     },
     "metadata": {
      "needs_background": "light"
     },
     "output_type": "display_data"
    }
   ],
   "source": [
    "fea_imp = pd.DataFrame({'imp': rf.feature_importances_, 'col': X.columns})\n",
    "fea_imp = fea_imp.sort_values(['imp', 'col'], ascending=[True, False]).iloc[:]\n",
    "fea_imp.plot(kind='barh', x='col', y='imp', figsize=(7, 7), legend=None)\n",
    "plt.title('Random Forest - Feature Importance')\n",
    "plt.ylabel('Features')\n",
    "plt.xlabel('Importance');"
   ]
  },
  {
   "cell_type": "markdown",
   "metadata": {},
   "source": [
    "## Neural network"
   ]
  },
  {
   "cell_type": "code",
   "execution_count": 437,
   "metadata": {
    "ExecuteTime": {
     "end_time": "2022-01-22T01:40:03.668201Z",
     "start_time": "2022-01-22T01:40:03.657203Z"
    }
   },
   "outputs": [],
   "source": [
    "n_col = X_train.shape[1]"
   ]
  },
  {
   "cell_type": "code",
   "execution_count": null,
   "metadata": {
    "ExecuteTime": {
     "end_time": "2022-01-22T01:59:35.021785Z",
     "start_time": "2022-01-22T01:40:03.858256Z"
    }
   },
   "outputs": [],
   "source": [
    "rmse_list = []\n",
    "for n1 in [n_col, n_col*2, n_col*4]:\n",
    "    for n2 in [n_col, n_col*2, n_col*4]:\n",
    "        for batch in [4, 8, 16, 32, 64]:\n",
    "            seed(321)\n",
    "            tensorflow.random.set_seed(123)\n",
    "            model = Sequential()\n",
    "            model.add(Dense(n1, input_dim=n_col,  activation='relu'))\n",
    "            model.add(Dense(n2,  activation='relu'))\n",
    "            model.add(Dense(1))\n",
    "            model.compile(loss='mean_squared_error', optimizer='adam', \n",
    "                          metrics=[tensorflow.keras.metrics.RootMeanSquaredError(name='rmse')])\n",
    "            print(n1,n2,batch)\n",
    "            callback = tensorflow.keras.callbacks.EarlyStopping(monitor='val_rmse', patience=10)\n",
    "            history = model.fit(X_train, y_train, epochs=100, batch_size=batch, verbose=0, validation_data=(X_test, y_test), \n",
    "                                callbacks=[callback])\n",
    "            rmse_list.append([n1, n2, batch, np.mean(history.history['val_rmse'])])"
   ]
  },
  {
   "cell_type": "code",
   "execution_count": 459,
   "metadata": {
    "ExecuteTime": {
     "end_time": "2022-01-22T10:05:17.343776Z",
     "start_time": "2022-01-22T10:05:17.320779Z"
    }
   },
   "outputs": [
    {
     "data": {
      "text/html": [
       "<div>\n",
       "<style scoped>\n",
       "    .dataframe tbody tr th:only-of-type {\n",
       "        vertical-align: middle;\n",
       "    }\n",
       "\n",
       "    .dataframe tbody tr th {\n",
       "        vertical-align: top;\n",
       "    }\n",
       "\n",
       "    .dataframe thead th {\n",
       "        text-align: right;\n",
       "    }\n",
       "</style>\n",
       "<table border=\"1\" class=\"dataframe\">\n",
       "  <thead>\n",
       "    <tr style=\"text-align: right;\">\n",
       "      <th></th>\n",
       "      <th>n1</th>\n",
       "      <th>n2</th>\n",
       "      <th>batch</th>\n",
       "      <th>rmse</th>\n",
       "    </tr>\n",
       "  </thead>\n",
       "  <tbody>\n",
       "    <tr>\n",
       "      <th>17</th>\n",
       "      <td>60</td>\n",
       "      <td>30</td>\n",
       "      <td>16</td>\n",
       "      <td>0.032262</td>\n",
       "    </tr>\n",
       "    <tr>\n",
       "      <th>42</th>\n",
       "      <td>120</td>\n",
       "      <td>120</td>\n",
       "      <td>16</td>\n",
       "      <td>0.032812</td>\n",
       "    </tr>\n",
       "    <tr>\n",
       "      <th>40</th>\n",
       "      <td>120</td>\n",
       "      <td>120</td>\n",
       "      <td>4</td>\n",
       "      <td>0.033086</td>\n",
       "    </tr>\n",
       "    <tr>\n",
       "      <th>22</th>\n",
       "      <td>60</td>\n",
       "      <td>60</td>\n",
       "      <td>16</td>\n",
       "      <td>0.033101</td>\n",
       "    </tr>\n",
       "    <tr>\n",
       "      <th>1</th>\n",
       "      <td>30</td>\n",
       "      <td>30</td>\n",
       "      <td>8</td>\n",
       "      <td>0.033135</td>\n",
       "    </tr>\n",
       "  </tbody>\n",
       "</table>\n",
       "</div>"
      ],
      "text/plain": [
       "     n1   n2  batch      rmse\n",
       "17   60   30     16  0.032262\n",
       "42  120  120     16  0.032812\n",
       "40  120  120      4  0.033086\n",
       "22   60   60     16  0.033101\n",
       "1    30   30      8  0.033135"
      ]
     },
     "execution_count": 459,
     "metadata": {},
     "output_type": "execute_result"
    }
   ],
   "source": [
    "grid = pd.DataFrame(rmse_list, columns = ['n1', 'n2',  'batch', 'rmse'])\n",
    "grid.sort_values('rmse').head()"
   ]
  },
  {
   "cell_type": "code",
   "execution_count": 469,
   "metadata": {
    "ExecuteTime": {
     "end_time": "2022-01-22T10:07:37.492301Z",
     "start_time": "2022-01-22T10:07:37.147512Z"
    }
   },
   "outputs": [],
   "source": [
    "seed(321)\n",
    "tensorflow.random.set_seed(321)\n",
    "# create model\n",
    "model = Sequential()\n",
    "model.add(Dense(60, input_dim=n_col,  activation='relu'))\n",
    "model.add(Dense(30,  activation='relu'))\n",
    "model.add(Dense(1))\n",
    "# Compile model\n",
    "model.compile(loss='mean_squared_error', optimizer='adam', metrics=[tensorflow.keras.metrics.RootMeanSquaredError(name='rmse')])"
   ]
  },
  {
   "cell_type": "code",
   "execution_count": null,
   "metadata": {
    "ExecuteTime": {
     "end_time": "2022-01-22T14:28:45.686348Z",
     "start_time": "2022-01-22T14:28:09.050193Z"
    },
    "scrolled": false
   },
   "outputs": [],
   "source": [
    "seed(321)\n",
    "tensorflow.random.set_seed(321)\n",
    "callback = tensorflow.keras.callbacks.EarlyStopping(monitor='val_rmse', patience=20)\n",
    "history = model.fit(X_train, y_train, epochs=100, batch_size=16, verbose=0, validation_data=(X_test, y_test), \n",
    "                    callbacks=[callback])"
   ]
  },
  {
   "cell_type": "code",
   "execution_count": 471,
   "metadata": {
    "ExecuteTime": {
     "end_time": "2022-01-22T10:08:05.485999Z",
     "start_time": "2022-01-22T10:08:05.316960Z"
    }
   },
   "outputs": [
    {
     "data": {
      "text/plain": [
       "<matplotlib.legend.Legend at 0x1ae310ac820>"
      ]
     },
     "execution_count": 471,
     "metadata": {},
     "output_type": "execute_result"
    },
    {
     "data": {
      "image/png": "[encoded data removed]",
      "text/plain": [
       "<Figure size 576x576 with 1 Axes>"
      ]
     },
     "metadata": {
      "needs_background": "light"
     },
     "output_type": "display_data"
    }
   ],
   "source": [
    "plt.plot(history.history['rmse'], label='Training loss')\n",
    "plt.plot(history.history['val_rmse'], label='Validation loss')\n",
    "plt.legend()"
   ]
  },
  {
   "cell_type": "code",
   "execution_count": 472,
   "metadata": {
    "ExecuteTime": {
     "end_time": "2022-01-22T10:08:05.725036Z",
     "start_time": "2022-01-22T10:08:05.711959Z"
    }
   },
   "outputs": [
    {
     "data": {
      "text/plain": [
       "0.033692672128478686"
      ]
     },
     "execution_count": 472,
     "metadata": {},
     "output_type": "execute_result"
    }
   ],
   "source": [
    "rmse3 = np.mean(history.history['val_rmse'])\n",
    "rmse3"
   ]
  },
  {
   "cell_type": "markdown",
   "metadata": {},
   "source": [
    "## Combined Neural Network"
   ]
  },
  {
   "cell_type": "code",
   "execution_count": 549,
   "metadata": {
    "ExecuteTime": {
     "end_time": "2022-01-22T14:16:22.334696Z",
     "start_time": "2022-01-22T14:16:22.317657Z"
    }
   },
   "outputs": [],
   "source": [
    "combined = pd.DataFrame({'xgb': preds, 'rf':predictions, 'true': y_test})"
   ]
  },
  {
   "cell_type": "code",
   "execution_count": 550,
   "metadata": {
    "ExecuteTime": {
     "end_time": "2022-01-22T14:16:22.923483Z",
     "start_time": "2022-01-22T14:16:22.906487Z"
    }
   },
   "outputs": [
    {
     "data": {
      "text/html": [
       "<div>\n",
       "<style scoped>\n",
       "    .dataframe tbody tr th:only-of-type {\n",
       "        vertical-align: middle;\n",
       "    }\n",
       "\n",
       "    .dataframe tbody tr th {\n",
       "        vertical-align: top;\n",
       "    }\n",
       "\n",
       "    .dataframe thead th {\n",
       "        text-align: right;\n",
       "    }\n",
       "</style>\n",
       "<table border=\"1\" class=\"dataframe\">\n",
       "  <thead>\n",
       "    <tr style=\"text-align: right;\">\n",
       "      <th></th>\n",
       "      <th>xgb</th>\n",
       "      <th>rf</th>\n",
       "      <th>true</th>\n",
       "    </tr>\n",
       "  </thead>\n",
       "  <tbody>\n",
       "    <tr>\n",
       "      <th>4039</th>\n",
       "      <td>0.011835</td>\n",
       "      <td>0.018757</td>\n",
       "      <td>0.009607</td>\n",
       "    </tr>\n",
       "    <tr>\n",
       "      <th>4040</th>\n",
       "      <td>-0.000726</td>\n",
       "      <td>0.001590</td>\n",
       "      <td>0.000671</td>\n",
       "    </tr>\n",
       "    <tr>\n",
       "      <th>4041</th>\n",
       "      <td>0.012736</td>\n",
       "      <td>0.014631</td>\n",
       "      <td>0.018597</td>\n",
       "    </tr>\n",
       "    <tr>\n",
       "      <th>4042</th>\n",
       "      <td>0.033476</td>\n",
       "      <td>0.027058</td>\n",
       "      <td>0.027554</td>\n",
       "    </tr>\n",
       "    <tr>\n",
       "      <th>4043</th>\n",
       "      <td>0.034123</td>\n",
       "      <td>0.034212</td>\n",
       "      <td>0.039463</td>\n",
       "    </tr>\n",
       "    <tr>\n",
       "      <th>...</th>\n",
       "      <td>...</td>\n",
       "      <td>...</td>\n",
       "      <td>...</td>\n",
       "    </tr>\n",
       "    <tr>\n",
       "      <th>5044</th>\n",
       "      <td>0.006442</td>\n",
       "      <td>0.012936</td>\n",
       "      <td>0.004069</td>\n",
       "    </tr>\n",
       "    <tr>\n",
       "      <th>5045</th>\n",
       "      <td>0.017546</td>\n",
       "      <td>0.015357</td>\n",
       "      <td>0.009155</td>\n",
       "    </tr>\n",
       "    <tr>\n",
       "      <th>5046</th>\n",
       "      <td>0.014940</td>\n",
       "      <td>0.021223</td>\n",
       "      <td>0.007250</td>\n",
       "    </tr>\n",
       "    <tr>\n",
       "      <th>5047</th>\n",
       "      <td>0.009185</td>\n",
       "      <td>0.006225</td>\n",
       "      <td>0.001096</td>\n",
       "    </tr>\n",
       "    <tr>\n",
       "      <th>5048</th>\n",
       "      <td>0.020116</td>\n",
       "      <td>0.023437</td>\n",
       "      <td>0.018030</td>\n",
       "    </tr>\n",
       "  </tbody>\n",
       "</table>\n",
       "<p>1010 rows × 3 columns</p>\n",
       "</div>"
      ],
      "text/plain": [
       "           xgb        rf      true\n",
       "4039  0.011835  0.018757  0.009607\n",
       "4040 -0.000726  0.001590  0.000671\n",
       "4041  0.012736  0.014631  0.018597\n",
       "4042  0.033476  0.027058  0.027554\n",
       "4043  0.034123  0.034212  0.039463\n",
       "...        ...       ...       ...\n",
       "5044  0.006442  0.012936  0.004069\n",
       "5045  0.017546  0.015357  0.009155\n",
       "5046  0.014940  0.021223  0.007250\n",
       "5047  0.009185  0.006225  0.001096\n",
       "5048  0.020116  0.023437  0.018030\n",
       "\n",
       "[1010 rows x 3 columns]"
      ]
     },
     "execution_count": 550,
     "metadata": {},
     "output_type": "execute_result"
    }
   ],
   "source": [
    "combined"
   ]
  },
  {
   "cell_type": "code",
   "execution_count": null,
   "metadata": {},
   "outputs": [],
   "source": []
  },
  {
   "cell_type": "code",
   "execution_count": 445,
   "metadata": {
    "ExecuteTime": {
     "end_time": "2022-01-22T01:59:46.695994Z",
     "start_time": "2022-01-22T01:59:46.681926Z"
    }
   },
   "outputs": [],
   "source": [
    "n_col2 = combined.shape[1]"
   ]
  },
  {
   "cell_type": "code",
   "execution_count": null,
   "metadata": {
    "ExecuteTime": {
     "end_time": "2022-01-22T02:04:32.912405Z",
     "start_time": "2022-01-22T01:59:46.900961Z"
    },
    "scrolled": true
   },
   "outputs": [],
   "source": [
    "rmse_list2 = []\n",
    "for n1 in [n_col2, n_col2*2, n_col2*4]:\n",
    "    for n2 in [n_col2, n_col2*2, n_col2*4]:\n",
    "        for batch in [4, 8, 16, 32, 64]:\n",
    "            seed(321)\n",
    "            tensorflow.random.set_seed(123)\n",
    "            print(n1,n2,batch)\n",
    "            model2 = Sequential()\n",
    "            model2.add(Dense(n1, input_dim=n_col2,  activation='relu'))\n",
    "            model2.add(Dense(n2, input_dim=n_col2,  activation='relu'))\n",
    "            model2.add(Dense(1))\n",
    "            model2.compile(loss='mean_squared_error', optimizer='adam', \n",
    "                           metrics=[tensorflow.keras.metrics.RootMeanSquaredError(name='rmse')])\n",
    "            callback = tensorflow.keras.callbacks.EarlyStopping(monitor='val_rmse', patience=10)\n",
    "            history2 = model2.fit(combined, y_test, epochs=100, batch_size=batch, verbose=0, validation_split=0.3, \n",
    "                                  callbacks=[callback])\n",
    "            rmse_list2.append([n1, n2, batch, np.mean(history2.history['val_rmse'])])"
   ]
  },
  {
   "cell_type": "code",
   "execution_count": 475,
   "metadata": {
    "ExecuteTime": {
     "end_time": "2022-01-22T10:09:43.248438Z",
     "start_time": "2022-01-22T10:09:43.234344Z"
    }
   },
   "outputs": [
    {
     "data": {
      "text/html": [
       "<div>\n",
       "<style scoped>\n",
       "    .dataframe tbody tr th:only-of-type {\n",
       "        vertical-align: middle;\n",
       "    }\n",
       "\n",
       "    .dataframe tbody tr th {\n",
       "        vertical-align: top;\n",
       "    }\n",
       "\n",
       "    .dataframe thead th {\n",
       "        text-align: right;\n",
       "    }\n",
       "</style>\n",
       "<table border=\"1\" class=\"dataframe\">\n",
       "  <thead>\n",
       "    <tr style=\"text-align: right;\">\n",
       "      <th></th>\n",
       "      <th>n1</th>\n",
       "      <th>n2</th>\n",
       "      <th>batch</th>\n",
       "      <th>rmse</th>\n",
       "    </tr>\n",
       "  </thead>\n",
       "  <tbody>\n",
       "    <tr>\n",
       "      <th>26</th>\n",
       "      <td>4</td>\n",
       "      <td>8</td>\n",
       "      <td>8</td>\n",
       "      <td>0.021302</td>\n",
       "    </tr>\n",
       "    <tr>\n",
       "      <th>25</th>\n",
       "      <td>4</td>\n",
       "      <td>8</td>\n",
       "      <td>4</td>\n",
       "      <td>0.021325</td>\n",
       "    </tr>\n",
       "    <tr>\n",
       "      <th>28</th>\n",
       "      <td>4</td>\n",
       "      <td>8</td>\n",
       "      <td>32</td>\n",
       "      <td>0.021915</td>\n",
       "    </tr>\n",
       "    <tr>\n",
       "      <th>27</th>\n",
       "      <td>4</td>\n",
       "      <td>8</td>\n",
       "      <td>16</td>\n",
       "      <td>0.022096</td>\n",
       "    </tr>\n",
       "    <tr>\n",
       "      <th>30</th>\n",
       "      <td>8</td>\n",
       "      <td>2</td>\n",
       "      <td>4</td>\n",
       "      <td>0.023231</td>\n",
       "    </tr>\n",
       "  </tbody>\n",
       "</table>\n",
       "</div>"
      ],
      "text/plain": [
       "    n1  n2  batch      rmse\n",
       "26   4   8      8  0.021302\n",
       "25   4   8      4  0.021325\n",
       "28   4   8     32  0.021915\n",
       "27   4   8     16  0.022096\n",
       "30   8   2      4  0.023231"
      ]
     },
     "execution_count": 475,
     "metadata": {},
     "output_type": "execute_result"
    }
   ],
   "source": [
    "grid2 = pd.DataFrame(rmse_list2, columns = ['n1', 'n2',  'batch', 'rmse'])\n",
    "grid2.sort_values('rmse').head()"
   ]
  },
  {
   "cell_type": "code",
   "execution_count": 536,
   "metadata": {
    "ExecuteTime": {
     "end_time": "2022-01-22T13:00:19.045816Z",
     "start_time": "2022-01-22T13:00:18.992770Z"
    }
   },
   "outputs": [],
   "source": [
    "seed(321)\n",
    "model2 = Sequential()\n",
    "model2.add(Dense(4, input_dim=n_col2,  activation='tanh'))\n",
    "model2.add(Dense(8, input_dim=n_col2,  activation='tanh'))\n",
    "model2.add(Dense(1))\n",
    "# Compile model\n",
    "model2.compile(loss='mean_squared_error', optimizer='adam', metrics=[tensorflow.keras.metrics.RootMeanSquaredError(name='rmse')])"
   ]
  },
  {
   "cell_type": "code",
   "execution_count": null,
   "metadata": {
    "ExecuteTime": {
     "end_time": "2022-01-22T13:00:25.979737Z",
     "start_time": "2022-01-22T13:00:19.315244Z"
    },
    "scrolled": true
   },
   "outputs": [],
   "source": [
    "seed(321)\n",
    "history2 = model2.fit(combined, y_test, epochs=100, batch_size=16, verbose=0, validation_split=0.3, callbacks=[callback])"
   ]
  },
  {
   "cell_type": "code",
   "execution_count": 538,
   "metadata": {
    "ExecuteTime": {
     "end_time": "2022-01-22T13:00:26.419308Z",
     "start_time": "2022-01-22T13:00:26.250739Z"
    }
   },
   "outputs": [
    {
     "data": {
      "text/plain": [
       "<matplotlib.legend.Legend at 0x1ae2b606700>"
      ]
     },
     "execution_count": 538,
     "metadata": {},
     "output_type": "execute_result"
    },
    {
     "data": {
      "image/png": "[encoded data removed]",
      "text/plain": [
       "<Figure size 576x576 with 1 Axes>"
      ]
     },
     "metadata": {
      "needs_background": "light"
     },
     "output_type": "display_data"
    }
   ],
   "source": [
    "plt.plot(history2.history['rmse'], label='Training loss')\n",
    "plt.plot(history2.history['val_rmse'], label='Validation loss')\n",
    "plt.legend()"
   ]
  },
  {
   "cell_type": "code",
   "execution_count": 539,
   "metadata": {
    "ExecuteTime": {
     "end_time": "2022-01-22T13:00:26.699305Z",
     "start_time": "2022-01-22T13:00:26.686298Z"
    }
   },
   "outputs": [
    {
     "data": {
      "text/plain": [
       "0.019765711275109073"
      ]
     },
     "execution_count": 539,
     "metadata": {},
     "output_type": "execute_result"
    }
   ],
   "source": [
    "rmse4 = np.mean(history2.history['val_rmse'])\n",
    "rmse4"
   ]
  },
  {
   "cell_type": "code",
   "execution_count": 540,
   "metadata": {
    "ExecuteTime": {
     "end_time": "2022-01-22T13:00:35.173099Z",
     "start_time": "2022-01-22T13:00:35.166104Z"
    }
   },
   "outputs": [],
   "source": [
    "total_score = []\n",
    "total_score.append(rmse)\n",
    "total_score.append(rmse2)\n",
    "total_score.append(rmse3)\n",
    "total_score.append(rmse4)"
   ]
  },
  {
   "cell_type": "code",
   "execution_count": 541,
   "metadata": {
    "ExecuteTime": {
     "end_time": "2022-01-22T13:00:35.647075Z",
     "start_time": "2022-01-22T13:00:35.623948Z"
    }
   },
   "outputs": [
    {
     "data": {
      "text/html": [
       "<div>\n",
       "<style scoped>\n",
       "    .dataframe tbody tr th:only-of-type {\n",
       "        vertical-align: middle;\n",
       "    }\n",
       "\n",
       "    .dataframe tbody tr th {\n",
       "        vertical-align: top;\n",
       "    }\n",
       "\n",
       "    .dataframe thead th {\n",
       "        text-align: right;\n",
       "    }\n",
       "</style>\n",
       "<table border=\"1\" class=\"dataframe\">\n",
       "  <thead>\n",
       "    <tr style=\"text-align: right;\">\n",
       "      <th></th>\n",
       "      <th>RMSE</th>\n",
       "    </tr>\n",
       "  </thead>\n",
       "  <tbody>\n",
       "    <tr>\n",
       "      <th>XGBoost</th>\n",
       "      <td>0.017937</td>\n",
       "    </tr>\n",
       "    <tr>\n",
       "      <th>Combined MLP</th>\n",
       "      <td>0.019766</td>\n",
       "    </tr>\n",
       "    <tr>\n",
       "      <th>Random Forest</th>\n",
       "      <td>0.021977</td>\n",
       "    </tr>\n",
       "    <tr>\n",
       "      <th>MLP</th>\n",
       "      <td>0.033693</td>\n",
       "    </tr>\n",
       "  </tbody>\n",
       "</table>\n",
       "</div>"
      ],
      "text/plain": [
       "                   RMSE\n",
       "XGBoost        0.017937\n",
       "Combined MLP   0.019766\n",
       "Random Forest  0.021977\n",
       "MLP            0.033693"
      ]
     },
     "execution_count": 541,
     "metadata": {},
     "output_type": "execute_result"
    }
   ],
   "source": [
    "df_total = pd.DataFrame(total_score, ['XGBoost', 'Random Forest',  'MLP', 'Combined MLP'], columns = ['RMSE'])\n",
    "df_total.sort_values('RMSE')"
   ]
  },
  {
   "cell_type": "code",
   "execution_count": 542,
   "metadata": {
    "ExecuteTime": {
     "end_time": "2022-01-22T13:00:36.303907Z",
     "start_time": "2022-01-22T13:00:36.144671Z"
    }
   },
   "outputs": [
    {
     "data": {
      "text/plain": [
       "Text(0.5, 1.0, 'Root mean squarred error for different algorithms')"
      ]
     },
     "execution_count": 542,
     "metadata": {},
     "output_type": "execute_result"
    },
    {
     "data": {
      "image/png": "[encoded data removed]",
      "text/plain": [
       "<Figure size 576x576 with 1 Axes>"
      ]
     },
     "metadata": {
      "needs_background": "light"
     },
     "output_type": "display_data"
    }
   ],
   "source": [
    "plt.bar(df_total.index, df_total.RMSE)\n",
    "plt.title('Root mean squarred error for different algorithms')"
   ]
  },
  {
   "cell_type": "markdown",
   "metadata": {},
   "source": [
    "## Summary"
   ]
  },
  {
   "cell_type": "markdown",
   "metadata": {},
   "source": [
    "During analysis folowing models was used to predict Closing stock price of SP500 companies:\n",
    "* XGboost\n",
    "* Random Forest\n",
    "* MLP neural network\n",
    "* MLP neurlal network with input from XGBoost and Random Forest\n",
    "\n",
    "\n",
    "With data and parameters mentioned in current project the best choise is XGboost. MLP neurlal network with input from XGBoost and Random Forest seems to suffer from little bias from Random Forest model - which RMSE is slightly higher. Common MLP model was the worst in my case. As an futher improvement some additional work can be done, for example, working with outliers and data pre-processing and better work with models tuning. "
   ]
  },
  {
   "cell_type": "code",
   "execution_count": null,
   "metadata": {},
   "outputs": [],
   "source": []
  }
 ],
 "metadata": {
  "kernelspec": {
   "display_name": "Python 3 (ipykernel)",
   "language": "python",
   "name": "python3"
  },
  "language_info": {
   "codemirror_mode": {
    "name": "ipython",
    "version": 3
   },
   "file_extension": ".py",
   "mimetype": "text/x-python",
   "name": "python",
   "nbconvert_exporter": "python",
   "pygments_lexer": "ipython3",
   "version": "3.8.18"
  },
  "toc": {
   "base_numbering": 1,
   "nav_menu": {},
   "number_sections": true,
   "sideBar": true,
   "skip_h1_title": false,
   "title_cell": "Table of Contents",
   "title_sidebar": "Contents",
   "toc_cell": false,
   "toc_position": {},
   "toc_section_display": true,
   "toc_window_display": false
  },
  "varInspector": {
   "cols": {
    "lenName": 16,
    "lenType": 16,
    "lenVar": 40
   },
   "kernels_config": {
    "python": {
     "delete_cmd_postfix": "",
     "delete_cmd_prefix": "del ",
     "library": "var_list.py",
     "varRefreshCmd": "print(var_dic_list())"
    },
    "r": {
     "delete_cmd_postfix": ") ",
     "delete_cmd_prefix": "rm(",
     "library": "var_list.r",
     "varRefreshCmd": "cat(var_dic_list()) "
    }
   },
   "types_to_exclude": [
    "module",
    "function",
    "builtin_function_or_method",
    "instance",
    "_Feature"
   ],
   "window_display": false
  }
 },
 "nbformat": 4,
 "nbformat_minor": 4
}
