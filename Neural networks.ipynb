{
 "cells": [
  {
   "cell_type": "code",
   "execution_count": 1,
   "metadata": {
    "ExecuteTime": {
     "end_time": "2021-12-14T17:18:28.036284Z",
     "start_time": "2021-12-14T17:18:24.036927Z"
    }
   },
   "outputs": [],
   "source": [
    "import numpy as np\n",
    "from tensorflow.keras.models import Sequential\n",
    "from tensorflow.keras.layers import Dense, Dropout, LSTM, Bidirectional\n",
    "import pandas as pd\n",
    "from matplotlib import pyplot as plt\n",
    "from sklearn.preprocessing import StandardScaler, LabelEncoder, MinMaxScaler\n",
    "import seaborn as sns\n",
    "from datetime import datetime\n",
    "import tensorflow\n",
    "from numpy.random import seed\n",
    "import math\n",
    "from sklearn.metrics import mean_squared_error"
   ]
  },
  {
   "cell_type": "markdown",
   "metadata": {},
   "source": [
    "## Data loading, preprocessing and graphical analysis"
   ]
  },
  {
   "cell_type": "code",
   "execution_count": 2,
   "metadata": {
    "ExecuteTime": {
     "end_time": "2021-12-14T17:18:28.084342Z",
     "start_time": "2021-12-14T17:18:28.070266Z"
    }
   },
   "outputs": [],
   "source": [
    "df = pd.read_csv('D:/UW/3rd semester/ML2/Project/Time-Series Analysis Dataset.csv',parse_dates=True)"
   ]
  },
  {
   "cell_type": "code",
   "execution_count": 3,
   "metadata": {
    "ExecuteTime": {
     "end_time": "2021-12-14T17:18:29.225322Z",
     "start_time": "2021-12-14T17:18:29.194309Z"
    }
   },
   "outputs": [
    {
     "data": {
      "text/html": [
       "<div>\n",
       "<style scoped>\n",
       "    .dataframe tbody tr th:only-of-type {\n",
       "        vertical-align: middle;\n",
       "    }\n",
       "\n",
       "    .dataframe tbody tr th {\n",
       "        vertical-align: top;\n",
       "    }\n",
       "\n",
       "    .dataframe thead th {\n",
       "        text-align: right;\n",
       "    }\n",
       "</style>\n",
       "<table border=\"1\" class=\"dataframe\">\n",
       "  <thead>\n",
       "    <tr style=\"text-align: right;\">\n",
       "      <th></th>\n",
       "      <th>datetime_local</th>\n",
       "      <th>temperature</th>\n",
       "      <th>humidity</th>\n",
       "      <th>dew_point</th>\n",
       "      <th>wind_bearing</th>\n",
       "      <th>wind_speed</th>\n",
       "      <th>wind_gust</th>\n",
       "      <th>pressure</th>\n",
       "      <th>uv_index</th>\n",
       "      <th>ozone</th>\n",
       "      <th>precip_intensity</th>\n",
       "      <th>icon</th>\n",
       "    </tr>\n",
       "  </thead>\n",
       "  <tbody>\n",
       "    <tr>\n",
       "      <th>0</th>\n",
       "      <td>01/10/2019 00:00</td>\n",
       "      <td>26</td>\n",
       "      <td>1</td>\n",
       "      <td>22.01</td>\n",
       "      <td>101</td>\n",
       "      <td>3.08</td>\n",
       "      <td>6.42</td>\n",
       "      <td>1008.45</td>\n",
       "      <td>0</td>\n",
       "      <td>268.6</td>\n",
       "      <td>0.0</td>\n",
       "      <td>partly-cloudy-night</td>\n",
       "    </tr>\n",
       "    <tr>\n",
       "      <th>1</th>\n",
       "      <td>01/10/2019 01:00</td>\n",
       "      <td>25</td>\n",
       "      <td>1</td>\n",
       "      <td>22.06</td>\n",
       "      <td>105</td>\n",
       "      <td>2.94</td>\n",
       "      <td>6.28</td>\n",
       "      <td>1008.24</td>\n",
       "      <td>0</td>\n",
       "      <td>269.1</td>\n",
       "      <td>0.0</td>\n",
       "      <td>partly-cloudy-night</td>\n",
       "    </tr>\n",
       "    <tr>\n",
       "      <th>2</th>\n",
       "      <td>01/10/2019 02:00</td>\n",
       "      <td>25</td>\n",
       "      <td>1</td>\n",
       "      <td>22.06</td>\n",
       "      <td>106</td>\n",
       "      <td>2.82</td>\n",
       "      <td>6.08</td>\n",
       "      <td>1007.90</td>\n",
       "      <td>0</td>\n",
       "      <td>269.7</td>\n",
       "      <td>0.0</td>\n",
       "      <td>partly-cloudy-night</td>\n",
       "    </tr>\n",
       "    <tr>\n",
       "      <th>3</th>\n",
       "      <td>01/10/2019 03:00</td>\n",
       "      <td>24</td>\n",
       "      <td>1</td>\n",
       "      <td>21.87</td>\n",
       "      <td>106</td>\n",
       "      <td>2.63</td>\n",
       "      <td>5.74</td>\n",
       "      <td>1007.61</td>\n",
       "      <td>0</td>\n",
       "      <td>270.4</td>\n",
       "      <td>0.0</td>\n",
       "      <td>partly-cloudy-night</td>\n",
       "    </tr>\n",
       "    <tr>\n",
       "      <th>4</th>\n",
       "      <td>01/10/2019 04:00</td>\n",
       "      <td>23</td>\n",
       "      <td>1</td>\n",
       "      <td>21.53</td>\n",
       "      <td>100</td>\n",
       "      <td>2.39</td>\n",
       "      <td>5.30</td>\n",
       "      <td>1007.51</td>\n",
       "      <td>0</td>\n",
       "      <td>271.3</td>\n",
       "      <td>0.0</td>\n",
       "      <td>partly-cloudy-night</td>\n",
       "    </tr>\n",
       "  </tbody>\n",
       "</table>\n",
       "</div>"
      ],
      "text/plain": [
       "     datetime_local  temperature  humidity  dew_point  wind_bearing  \\\n",
       "0  01/10/2019 00:00           26         1      22.01           101   \n",
       "1  01/10/2019 01:00           25         1      22.06           105   \n",
       "2  01/10/2019 02:00           25         1      22.06           106   \n",
       "3  01/10/2019 03:00           24         1      21.87           106   \n",
       "4  01/10/2019 04:00           23         1      21.53           100   \n",
       "\n",
       "   wind_speed  wind_gust  pressure  uv_index  ozone  precip_intensity  \\\n",
       "0        3.08       6.42   1008.45         0  268.6               0.0   \n",
       "1        2.94       6.28   1008.24         0  269.1               0.0   \n",
       "2        2.82       6.08   1007.90         0  269.7               0.0   \n",
       "3        2.63       5.74   1007.61         0  270.4               0.0   \n",
       "4        2.39       5.30   1007.51         0  271.3               0.0   \n",
       "\n",
       "                  icon  \n",
       "0  partly-cloudy-night  \n",
       "1  partly-cloudy-night  \n",
       "2  partly-cloudy-night  \n",
       "3  partly-cloudy-night  \n",
       "4  partly-cloudy-night  "
      ]
     },
     "execution_count": 3,
     "metadata": {},
     "output_type": "execute_result"
    }
   ],
   "source": [
    "df.head()"
   ]
  },
  {
   "cell_type": "code",
   "execution_count": 4,
   "metadata": {
    "ExecuteTime": {
     "end_time": "2021-12-14T17:18:29.948873Z",
     "start_time": "2021-12-14T17:18:29.901618Z"
    }
   },
   "outputs": [
    {
     "data": {
      "text/html": [
       "<div>\n",
       "<style scoped>\n",
       "    .dataframe tbody tr th:only-of-type {\n",
       "        vertical-align: middle;\n",
       "    }\n",
       "\n",
       "    .dataframe tbody tr th {\n",
       "        vertical-align: top;\n",
       "    }\n",
       "\n",
       "    .dataframe thead th {\n",
       "        text-align: right;\n",
       "    }\n",
       "</style>\n",
       "<table border=\"1\" class=\"dataframe\">\n",
       "  <thead>\n",
       "    <tr style=\"text-align: right;\">\n",
       "      <th></th>\n",
       "      <th>temperature</th>\n",
       "      <th>humidity</th>\n",
       "      <th>dew_point</th>\n",
       "      <th>wind_bearing</th>\n",
       "      <th>wind_speed</th>\n",
       "      <th>wind_gust</th>\n",
       "      <th>pressure</th>\n",
       "      <th>uv_index</th>\n",
       "      <th>ozone</th>\n",
       "      <th>precip_intensity</th>\n",
       "    </tr>\n",
       "  </thead>\n",
       "  <tbody>\n",
       "    <tr>\n",
       "      <th>count</th>\n",
       "      <td>499.000000</td>\n",
       "      <td>499.000000</td>\n",
       "      <td>499.000000</td>\n",
       "      <td>499.000000</td>\n",
       "      <td>499.000000</td>\n",
       "      <td>499.000000</td>\n",
       "      <td>499.000000</td>\n",
       "      <td>499.000000</td>\n",
       "      <td>499.000000</td>\n",
       "      <td>499.000000</td>\n",
       "    </tr>\n",
       "    <tr>\n",
       "      <th>mean</th>\n",
       "      <td>27.797595</td>\n",
       "      <td>0.541082</td>\n",
       "      <td>15.871303</td>\n",
       "      <td>139.523046</td>\n",
       "      <td>2.267114</td>\n",
       "      <td>3.616974</td>\n",
       "      <td>1011.535411</td>\n",
       "      <td>1.641283</td>\n",
       "      <td>276.195792</td>\n",
       "      <td>0.009820</td>\n",
       "    </tr>\n",
       "    <tr>\n",
       "      <th>std</th>\n",
       "      <td>4.305725</td>\n",
       "      <td>0.498809</td>\n",
       "      <td>3.065238</td>\n",
       "      <td>118.438353</td>\n",
       "      <td>0.755191</td>\n",
       "      <td>1.608687</td>\n",
       "      <td>1.932765</td>\n",
       "      <td>2.493683</td>\n",
       "      <td>2.788063</td>\n",
       "      <td>0.036247</td>\n",
       "    </tr>\n",
       "    <tr>\n",
       "      <th>min</th>\n",
       "      <td>19.000000</td>\n",
       "      <td>0.000000</td>\n",
       "      <td>5.740000</td>\n",
       "      <td>0.000000</td>\n",
       "      <td>0.600000</td>\n",
       "      <td>0.840000</td>\n",
       "      <td>1005.970000</td>\n",
       "      <td>0.000000</td>\n",
       "      <td>268.600000</td>\n",
       "      <td>0.000000</td>\n",
       "    </tr>\n",
       "    <tr>\n",
       "      <th>25%</th>\n",
       "      <td>24.000000</td>\n",
       "      <td>0.000000</td>\n",
       "      <td>14.025000</td>\n",
       "      <td>44.000000</td>\n",
       "      <td>1.780000</td>\n",
       "      <td>2.460000</td>\n",
       "      <td>1010.235000</td>\n",
       "      <td>0.000000</td>\n",
       "      <td>274.600000</td>\n",
       "      <td>0.000000</td>\n",
       "    </tr>\n",
       "    <tr>\n",
       "      <th>50%</th>\n",
       "      <td>27.000000</td>\n",
       "      <td>1.000000</td>\n",
       "      <td>15.710000</td>\n",
       "      <td>105.000000</td>\n",
       "      <td>2.200000</td>\n",
       "      <td>3.220000</td>\n",
       "      <td>1011.430000</td>\n",
       "      <td>0.000000</td>\n",
       "      <td>276.100000</td>\n",
       "      <td>0.000000</td>\n",
       "    </tr>\n",
       "    <tr>\n",
       "      <th>75%</th>\n",
       "      <td>32.000000</td>\n",
       "      <td>1.000000</td>\n",
       "      <td>17.990000</td>\n",
       "      <td>217.500000</td>\n",
       "      <td>2.780000</td>\n",
       "      <td>4.345000</td>\n",
       "      <td>1012.675000</td>\n",
       "      <td>3.000000</td>\n",
       "      <td>277.800000</td>\n",
       "      <td>0.000000</td>\n",
       "    </tr>\n",
       "    <tr>\n",
       "      <th>max</th>\n",
       "      <td>36.000000</td>\n",
       "      <td>1.000000</td>\n",
       "      <td>22.350000</td>\n",
       "      <td>359.000000</td>\n",
       "      <td>4.180000</td>\n",
       "      <td>10.540000</td>\n",
       "      <td>1016.900000</td>\n",
       "      <td>8.000000</td>\n",
       "      <td>284.900000</td>\n",
       "      <td>0.420000</td>\n",
       "    </tr>\n",
       "  </tbody>\n",
       "</table>\n",
       "</div>"
      ],
      "text/plain": [
       "       temperature    humidity   dew_point  wind_bearing  wind_speed  \\\n",
       "count   499.000000  499.000000  499.000000    499.000000  499.000000   \n",
       "mean     27.797595    0.541082   15.871303    139.523046    2.267114   \n",
       "std       4.305725    0.498809    3.065238    118.438353    0.755191   \n",
       "min      19.000000    0.000000    5.740000      0.000000    0.600000   \n",
       "25%      24.000000    0.000000   14.025000     44.000000    1.780000   \n",
       "50%      27.000000    1.000000   15.710000    105.000000    2.200000   \n",
       "75%      32.000000    1.000000   17.990000    217.500000    2.780000   \n",
       "max      36.000000    1.000000   22.350000    359.000000    4.180000   \n",
       "\n",
       "        wind_gust     pressure    uv_index       ozone  precip_intensity  \n",
       "count  499.000000   499.000000  499.000000  499.000000        499.000000  \n",
       "mean     3.616974  1011.535411    1.641283  276.195792          0.009820  \n",
       "std      1.608687     1.932765    2.493683    2.788063          0.036247  \n",
       "min      0.840000  1005.970000    0.000000  268.600000          0.000000  \n",
       "25%      2.460000  1010.235000    0.000000  274.600000          0.000000  \n",
       "50%      3.220000  1011.430000    0.000000  276.100000          0.000000  \n",
       "75%      4.345000  1012.675000    3.000000  277.800000          0.000000  \n",
       "max     10.540000  1016.900000    8.000000  284.900000          0.420000  "
      ]
     },
     "execution_count": 4,
     "metadata": {},
     "output_type": "execute_result"
    }
   ],
   "source": [
    "df.describe()"
   ]
  },
  {
   "cell_type": "code",
   "execution_count": 5,
   "metadata": {
    "ExecuteTime": {
     "end_time": "2021-12-14T17:18:30.281887Z",
     "start_time": "2021-12-14T17:18:30.268923Z"
    }
   },
   "outputs": [
    {
     "data": {
      "text/plain": [
       "datetime_local      False\n",
       "temperature         False\n",
       "humidity            False\n",
       "dew_point           False\n",
       "wind_bearing        False\n",
       "wind_speed          False\n",
       "wind_gust           False\n",
       "pressure            False\n",
       "uv_index            False\n",
       "ozone               False\n",
       "precip_intensity    False\n",
       "icon                False\n",
       "dtype: bool"
      ]
     },
     "execution_count": 5,
     "metadata": {},
     "output_type": "execute_result"
    }
   ],
   "source": [
    "#NA check\n",
    "df.isnull().any()"
   ]
  },
  {
   "cell_type": "markdown",
   "metadata": {},
   "source": [
    "Let's check for a correlation between various measurements, such as temperature, pressure, wind speed and dew point."
   ]
  },
  {
   "cell_type": "code",
   "execution_count": 6,
   "metadata": {
    "ExecuteTime": {
     "end_time": "2021-12-14T17:18:31.497861Z",
     "start_time": "2021-12-14T17:18:30.729863Z"
    }
   },
   "outputs": [
    {
     "data": {
      "text/plain": [
       "(-0.3230129920679137, 1.3965037596913926e-13)"
      ]
     },
     "execution_count": 6,
     "metadata": {},
     "output_type": "execute_result"
    },
    {
     "data": {
      "image/png": "[encoded data removed]",
      "text/plain": [
       "<Figure size 432x288 with 1 Axes>"
      ]
     },
     "metadata": {
      "needs_background": "light"
     },
     "output_type": "display_data"
    },
    {
     "data": {
      "image/png": "[encoded data removed]",
      "text/plain": [
       "<Figure size 432x288 with 1 Axes>"
      ]
     },
     "metadata": {
      "needs_background": "light"
     },
     "output_type": "display_data"
    },
    {
     "data": {
      "image/png": "[encoded data removed]",
      "text/plain": [
       "<Figure size 432x288 with 1 Axes>"
      ]
     },
     "metadata": {
      "needs_background": "light"
     },
     "output_type": "display_data"
    },
    {
     "data": {
      "image/png": "[encoded data removed]",
      "text/plain": [
       "<Figure size 432x288 with 1 Axes>"
      ]
     },
     "metadata": {
      "needs_background": "light"
     },
     "output_type": "display_data"
    },
    {
     "data": {
      "image/png": "[encoded data removed]",
      "text/plain": [
       "<Figure size 432x288 with 1 Axes>"
      ]
     },
     "metadata": {
      "needs_background": "light"
     },
     "output_type": "display_data"
    }
   ],
   "source": [
    "#Checking for correlation between random variables\n",
    "import scipy.stats\n",
    "df.plot(x=\"temperature\", y=\"pressure\", kind=\"scatter\")\n",
    "scipy.stats.pearsonr(df[\"temperature\"], df[\"pressure\"])\n",
    "df.plot(x=\"dew_point\", y=\"pressure\", kind=\"scatter\")\n",
    "scipy.stats.pearsonr(df[\"dew_point\"], df[\"pressure\"])\n",
    "df.plot(x=\"dew_point\", y=\"wind_speed\", kind=\"scatter\")\n",
    "scipy.stats.pearsonr(df[\"dew_point\"], df[\"wind_speed\"])\n",
    "df.plot(x=\"pressure\", y=\"precip_intensity\", kind=\"scatter\")\n",
    "scipy.stats.pearsonr(df[\"pressure\"], df[\"precip_intensity\"])\n",
    "df.plot(x=\"temperature\", y=\"dew_point\", kind=\"scatter\")\n",
    "scipy.stats.pearsonr(df[\"temperature\"], df[\"dew_point\"])"
   ]
  },
  {
   "cell_type": "markdown",
   "metadata": {},
   "source": [
    "There is no significant correlation between the variables"
   ]
  },
  {
   "cell_type": "code",
   "execution_count": 7,
   "metadata": {
    "ExecuteTime": {
     "end_time": "2021-12-14T17:18:31.545379Z",
     "start_time": "2021-12-14T17:18:31.531864Z"
    }
   },
   "outputs": [],
   "source": [
    "df.loc[:,'datetime_local'] =  pd.to_datetime(df['datetime_local'], format='%d/%m/%Y %H:%M')"
   ]
  },
  {
   "cell_type": "code",
   "execution_count": 8,
   "metadata": {
    "ExecuteTime": {
     "end_time": "2021-12-14T17:18:31.609455Z",
     "start_time": "2021-12-14T17:18:31.596380Z"
    }
   },
   "outputs": [
    {
     "name": "stdout",
     "output_type": "stream",
     "text": [
      "0   2019-10-01 00:00:00\n",
      "1   2019-10-01 01:00:00\n",
      "2   2019-10-01 02:00:00\n",
      "3   2019-10-01 03:00:00\n",
      "4   2019-10-01 04:00:00\n",
      "Name: datetime_local, dtype: datetime64[ns]\n",
      "494   2019-10-21 14:00:00\n",
      "495   2019-10-21 15:00:00\n",
      "496   2019-10-21 16:00:00\n",
      "497   2019-10-21 17:00:00\n",
      "498   2019-10-21 18:00:00\n",
      "Name: datetime_local, dtype: datetime64[ns]\n"
     ]
    }
   ],
   "source": [
    "#Separate dates for future plotting\n",
    "train_dates = pd.to_datetime(df['datetime_local'])\n",
    "print(train_dates.head(5))\n",
    "print(train_dates.tail(5))"
   ]
  },
  {
   "cell_type": "code",
   "execution_count": 9,
   "metadata": {
    "ExecuteTime": {
     "end_time": "2021-12-14T17:18:31.689377Z",
     "start_time": "2021-12-14T17:18:31.675377Z"
    }
   },
   "outputs": [],
   "source": [
    "#convert categorical to number\n",
    "for i in df.select_dtypes('object').columns:\n",
    "    le = LabelEncoder().fit(df[i])\n",
    "    df[i] = le.transform(df[i]) "
   ]
  },
  {
   "cell_type": "markdown",
   "metadata": {},
   "source": [
    "Let's prepare the training data"
   ]
  },
  {
   "cell_type": "code",
   "execution_count": 10,
   "metadata": {
    "ExecuteTime": {
     "end_time": "2021-12-14T17:18:32.038422Z",
     "start_time": "2021-12-14T17:18:32.019377Z"
    }
   },
   "outputs": [
    {
     "name": "stdout",
     "output_type": "stream",
     "text": [
      "['temperature', 'humidity', 'dew_point', 'wind_bearing', 'wind_speed', 'wind_gust', 'pressure', 'uv_index', 'ozone', 'precip_intensity', 'icon']\n"
     ]
    }
   ],
   "source": [
    "#Variables for training\n",
    "cols = list(df)[1:]\n",
    "print(cols)"
   ]
  },
  {
   "cell_type": "code",
   "execution_count": 11,
   "metadata": {
    "ExecuteTime": {
     "end_time": "2021-12-14T17:18:32.446377Z",
     "start_time": "2021-12-14T17:18:32.426379Z"
    }
   },
   "outputs": [],
   "source": [
    "#New dataframe with only training data - 5 columns\n",
    "df_for_training = df[cols].astype(float)"
   ]
  },
  {
   "cell_type": "code",
   "execution_count": 12,
   "metadata": {
    "ExecuteTime": {
     "end_time": "2021-12-14T17:18:33.020951Z",
     "start_time": "2021-12-14T17:18:32.826381Z"
    }
   },
   "outputs": [
    {
     "data": {
      "text/plain": [
       "<matplotlib.legend.Legend at 0x195136c0520>"
      ]
     },
     "execution_count": 12,
     "metadata": {},
     "output_type": "execute_result"
    },
    {
     "data": {
      "image/png": "[encoded data removed]",
      "text/plain": [
       "<Figure size 432x288 with 1 Axes>"
      ]
     },
     "metadata": {
      "needs_background": "light"
     },
     "output_type": "display_data"
    }
   ],
   "source": [
    "#descriptive plots\n",
    "df_for_training['temperature'].plot.line()\n",
    "df_for_training['wind_speed'].plot.line()\n",
    "df_for_training['dew_point'].plot.line()\n",
    "plt.legend()"
   ]
  },
  {
   "cell_type": "code",
   "execution_count": 13,
   "metadata": {
    "ExecuteTime": {
     "end_time": "2021-12-14T17:18:33.683072Z",
     "start_time": "2021-12-14T17:18:33.250076Z"
    }
   },
   "outputs": [
    {
     "data": {
      "image/png": "[encoded data removed]",
      "text/plain": [
       "<Figure size 432x288 with 4 Axes>"
      ]
     },
     "metadata": {
      "needs_background": "light"
     },
     "output_type": "display_data"
    }
   ],
   "source": [
    "#target variable easonality check\n",
    "from statsmodels.tsa.seasonal import seasonal_decompose\n",
    "results = seasonal_decompose(df['temperature'], period = 24)\n",
    "results.plot();"
   ]
  },
  {
   "cell_type": "markdown",
   "metadata": {},
   "source": [
    "## Data preparation"
   ]
  },
  {
   "cell_type": "code",
   "execution_count": 14,
   "metadata": {
    "ExecuteTime": {
     "end_time": "2021-12-14T17:18:33.761688Z",
     "start_time": "2021-12-14T17:18:33.749075Z"
    }
   },
   "outputs": [],
   "source": [
    "#LSTM uses sigmoid and tanh that are sensitive to magnitude so values need to be normalized\n",
    "# normalize the dataset\n",
    "scaler = StandardScaler()\n",
    "scaler = scaler.fit(df_for_training)\n",
    "df_for_training_scaled = scaler.transform(df_for_training)"
   ]
  },
  {
   "cell_type": "code",
   "execution_count": 15,
   "metadata": {
    "ExecuteTime": {
     "end_time": "2021-12-14T17:18:34.205273Z",
     "start_time": "2021-12-14T17:18:34.201312Z"
    }
   },
   "outputs": [],
   "source": [
    "n_future = 12   # Number of days we want to look into the future based on the past days.\n",
    "n_past = 96     # Number of past days we want to use to predict the future."
   ]
  },
  {
   "cell_type": "code",
   "execution_count": 16,
   "metadata": {
    "ExecuteTime": {
     "end_time": "2021-12-14T17:18:34.631841Z",
     "start_time": "2021-12-14T17:18:34.615825Z"
    }
   },
   "outputs": [],
   "source": [
    "#Empty lists to be populated using formatted training data\n",
    "trainX = []\n",
    "trainY = []"
   ]
  },
  {
   "cell_type": "code",
   "execution_count": 17,
   "metadata": {
    "ExecuteTime": {
     "end_time": "2021-12-14T17:18:35.044822Z",
     "start_time": "2021-12-14T17:18:35.034826Z"
    }
   },
   "outputs": [],
   "source": [
    "#Reformat input data into a shape: (n_samples x timesteps x n_features)\n",
    "#In my example, my df_for_training_scaled has a shape (12823, 5)\n",
    "#12823 refers to the number of data points and 5 refers to the columns (multi-variables).\n",
    "for i in range(n_past, len(df_for_training_scaled) - n_future +1):\n",
    "    trainX.append(df_for_training_scaled[i - n_past:i, 0:df_for_training.shape[1]])\n",
    "    trainY.append(df_for_training_scaled[i + n_future - 1:i + n_future, 0])"
   ]
  },
  {
   "cell_type": "code",
   "execution_count": 18,
   "metadata": {
    "ExecuteTime": {
     "end_time": "2021-12-14T17:18:35.504023Z",
     "start_time": "2021-12-14T17:18:35.491829Z"
    }
   },
   "outputs": [
    {
     "name": "stdout",
     "output_type": "stream",
     "text": [
      "trainX shape == (392, 96, 11).\n",
      "trainY shape == (392, 1).\n"
     ]
    }
   ],
   "source": [
    "trainX, trainY = np.array(trainX), np.array(trainY)\n",
    "\n",
    "print('trainX shape == {}.'.format(trainX.shape))\n",
    "print('trainY shape == {}.'.format(trainY.shape))"
   ]
  },
  {
   "cell_type": "markdown",
   "metadata": {},
   "source": [
    "## Multivariate LSTM model development"
   ]
  },
  {
   "cell_type": "code",
   "execution_count": 19,
   "metadata": {
    "ExecuteTime": {
     "end_time": "2021-12-14T17:19:39.286586Z",
     "start_time": "2021-12-14T17:18:36.470580Z"
    }
   },
   "outputs": [
    {
     "name": "stdout",
     "output_type": "stream",
     "text": [
      "Epoch 1/20\n",
      "35/35 [==============================] - 8s 89ms/step - loss: 0.3045 - rmse: 0.5518 - val_loss: 0.1234 - val_rmse: 0.3513\n",
      "Epoch 2/20\n",
      "35/35 [==============================] - 2s 55ms/step - loss: 0.0557 - rmse: 0.2360 - val_loss: 0.1058 - val_rmse: 0.3253\n",
      "Epoch 3/20\n",
      "35/35 [==============================] - 2s 54ms/step - loss: 0.0364 - rmse: 0.1908 - val_loss: 0.1085 - val_rmse: 0.3293\n",
      "Epoch 4/20\n",
      "35/35 [==============================] - 2s 70ms/step - loss: 0.0256 - rmse: 0.1600 - val_loss: 0.0976 - val_rmse: 0.3124\n",
      "Epoch 5/20\n",
      "35/35 [==============================] - 3s 88ms/step - loss: 0.0186 - rmse: 0.1364 - val_loss: 0.0991 - val_rmse: 0.3148\n",
      "Epoch 6/20\n",
      "35/35 [==============================] - 3s 87ms/step - loss: 0.0158 - rmse: 0.1256 - val_loss: 0.1100 - val_rmse: 0.3317\n",
      "Epoch 7/20\n",
      "35/35 [==============================] - 3s 86ms/step - loss: 0.0175 - rmse: 0.1322 - val_loss: 0.0954 - val_rmse: 0.3088\n",
      "Epoch 8/20\n",
      "35/35 [==============================] - 3s 85ms/step - loss: 0.0159 - rmse: 0.1262 - val_loss: 0.0982 - val_rmse: 0.3133\n",
      "Epoch 9/20\n",
      "35/35 [==============================] - 3s 84ms/step - loss: 0.0147 - rmse: 0.1214 - val_loss: 0.1038 - val_rmse: 0.3222\n",
      "Epoch 10/20\n",
      "35/35 [==============================] - 3s 83ms/step - loss: 0.0174 - rmse: 0.1319 - val_loss: 0.1052 - val_rmse: 0.3243\n",
      "Epoch 11/20\n",
      "35/35 [==============================] - 3s 84ms/step - loss: 0.0222 - rmse: 0.1490 - val_loss: 0.0936 - val_rmse: 0.3060\n",
      "Epoch 12/20\n",
      "35/35 [==============================] - 3s 83ms/step - loss: 0.0178 - rmse: 0.1336 - val_loss: 0.1083 - val_rmse: 0.3290\n",
      "Epoch 13/20\n",
      "35/35 [==============================] - 3s 90ms/step - loss: 0.0155 - rmse: 0.1245 - val_loss: 0.1075 - val_rmse: 0.3279\n",
      "Epoch 14/20\n",
      "35/35 [==============================] - 3s 85ms/step - loss: 0.0160 - rmse: 0.1265 - val_loss: 0.0989 - val_rmse: 0.3145\n",
      "Epoch 15/20\n",
      "35/35 [==============================] - 3s 84ms/step - loss: 0.0160 - rmse: 0.1266 - val_loss: 0.1043 - val_rmse: 0.3230\n",
      "Epoch 16/20\n",
      "35/35 [==============================] - 3s 89ms/step - loss: 0.0154 - rmse: 0.1243 - val_loss: 0.1085 - val_rmse: 0.3295\n",
      "Epoch 17/20\n",
      "35/35 [==============================] - 3s 90ms/step - loss: 0.0161 - rmse: 0.1268 - val_loss: 0.1056 - val_rmse: 0.3249\n",
      "Epoch 18/20\n",
      "35/35 [==============================] - 3s 88ms/step - loss: 0.0160 - rmse: 0.1265 - val_loss: 0.1091 - val_rmse: 0.3303\n",
      "Epoch 19/20\n",
      "35/35 [==============================] - 3s 84ms/step - loss: 0.0130 - rmse: 0.1140 - val_loss: 0.1044 - val_rmse: 0.3230\n",
      "Epoch 20/20\n",
      "35/35 [==============================] - 3s 84ms/step - loss: 0.0137 - rmse: 0.1170 - val_loss: 0.1120 - val_rmse: 0.3347\n"
     ]
    }
   ],
   "source": [
    "seed(321)\n",
    "tensorflow.random.set_seed(123)\n",
    "\n",
    "# define the LSTM model\n",
    "model = Sequential()\n",
    "model.add(Bidirectional(LSTM(64, activation='tanh', input_shape=(trainX.shape[1], trainX.shape[2]), return_sequences=True)))\n",
    "model.add(Bidirectional(LSTM(32, activation='tanh', return_sequences=False)))\n",
    "model.add(Dropout(0.05))\n",
    "model.add(Dense(trainY.shape[1]))\n",
    "\n",
    "model.compile(optimizer='adam', loss='mse', metrics=[tensorflow.keras.metrics.RootMeanSquaredError(name='rmse')])\n",
    "\n",
    "# fit the model\n",
    "history = model.fit(trainX, trainY, epochs=20, batch_size=8, validation_split=0.3, verbose=1)"
   ]
  },
  {
   "cell_type": "code",
   "execution_count": 20,
   "metadata": {
    "ExecuteTime": {
     "end_time": "2021-12-14T17:19:39.395555Z",
     "start_time": "2021-12-14T17:19:39.382542Z"
    }
   },
   "outputs": [
    {
     "data": {
      "text/plain": [
       "0.32381250858306887"
      ]
     },
     "execution_count": 20,
     "metadata": {},
     "output_type": "execute_result"
    }
   ],
   "source": [
    "np.mean(history.history['val_rmse'])"
   ]
  },
  {
   "cell_type": "code",
   "execution_count": 21,
   "metadata": {
    "ExecuteTime": {
     "end_time": "2021-12-14T17:19:39.696616Z",
     "start_time": "2021-12-14T17:19:39.493541Z"
    }
   },
   "outputs": [
    {
     "data": {
      "text/plain": [
       "<matplotlib.legend.Legend at 0x1952206abb0>"
      ]
     },
     "execution_count": 21,
     "metadata": {},
     "output_type": "execute_result"
    },
    {
     "data": {
      "image/png": "[encoded data removed]",
      "text/plain": [
       "<Figure size 432x288 with 1 Axes>"
      ]
     },
     "metadata": {
      "needs_background": "light"
     },
     "output_type": "display_data"
    }
   ],
   "source": [
    "plt.plot(history.history['loss'], label='Training loss')\n",
    "plt.plot(history.history['val_loss'], label='Validation loss')\n",
    "plt.legend()"
   ]
  },
  {
   "cell_type": "code",
   "execution_count": 22,
   "metadata": {
    "ExecuteTime": {
     "end_time": "2021-12-14T17:19:39.807090Z",
     "start_time": "2021-12-14T17:19:39.793540Z"
    }
   },
   "outputs": [],
   "source": [
    "n_past = 96 #start position (min = 1)\n",
    "n_days_for_prediction=168 #horizon"
   ]
  },
  {
   "cell_type": "code",
   "execution_count": 23,
   "metadata": {
    "ExecuteTime": {
     "end_time": "2021-12-14T17:19:39.902087Z",
     "start_time": "2021-12-14T17:19:39.888088Z"
    }
   },
   "outputs": [],
   "source": [
    "predict_period_dates = pd.date_range(list(train_dates)[-n_past], periods=n_days_for_prediction, freq=\"H\").tolist()"
   ]
  },
  {
   "cell_type": "code",
   "execution_count": 24,
   "metadata": {
    "ExecuteTime": {
     "end_time": "2021-12-14T17:19:41.397131Z",
     "start_time": "2021-12-14T17:19:40.001092Z"
    }
   },
   "outputs": [],
   "source": [
    "prediction1 = model.predict(trainX[-n_days_for_prediction:]) #shape = (n, 1) where n is the n_days_for_prediction"
   ]
  },
  {
   "cell_type": "code",
   "execution_count": 25,
   "metadata": {
    "ExecuteTime": {
     "end_time": "2021-12-14T17:19:41.509093Z",
     "start_time": "2021-12-14T17:19:41.496091Z"
    }
   },
   "outputs": [],
   "source": [
    "#Perform inverse transformation to rescale back to original range\n",
    "#Since we used 5 variables for transform, the inverse expects same dimensions\n",
    "#Therefore, let us copy our values 5 times and discard them after inverse transform\n",
    "prediction_copies1 = np.repeat(prediction1, df_for_training.shape[1], axis=-1)\n",
    "y_pred_future1 = scaler.inverse_transform(prediction_copies1)[:,0]"
   ]
  },
  {
   "cell_type": "code",
   "execution_count": 26,
   "metadata": {
    "ExecuteTime": {
     "end_time": "2021-12-14T17:19:41.875170Z",
     "start_time": "2021-12-14T17:19:41.608096Z"
    },
    "scrolled": true
   },
   "outputs": [
    {
     "name": "stderr",
     "output_type": "stream",
     "text": [
      "<ipython-input-26-18001af04d72>:10: SettingWithCopyWarning: \n",
      "A value is trying to be set on a copy of a slice from a DataFrame.\n",
      "Try using .loc[row_indexer,col_indexer] = value instead\n",
      "\n",
      "See the caveats in the documentation: https://pandas.pydata.org/pandas-docs/stable/user_guide/indexing.html#returning-a-view-versus-a-copy\n",
      "  original['datetime_local']=pd.to_datetime(original['datetime_local'])\n"
     ]
    },
    {
     "data": {
      "text/plain": [
       "<matplotlib.axes._subplots.AxesSubplot at 0x1952334a1f0>"
      ]
     },
     "execution_count": 26,
     "metadata": {},
     "output_type": "execute_result"
    },
    {
     "data": {
      "image/png": "[encoded data removed]",
      "text/plain": [
       "<Figure size 432x288 with 1 Axes>"
      ]
     },
     "metadata": {
      "needs_background": "light"
     },
     "output_type": "display_data"
    }
   ],
   "source": [
    "forecast_dates = []\n",
    "for time_i in predict_period_dates:\n",
    "    forecast_dates.append(time_i)\n",
    "    \n",
    "df_forecast = pd.DataFrame({'datetime_local':np.array(forecast_dates), 'temperature':y_pred_future1})\n",
    "#df_forecast['datetime_local']=pd.to_datetime(df_forecast['datetime_local'], format = '%d/%m/%Y %H:%M')\n",
    "\n",
    "\n",
    "original = df[['datetime_local', 'temperature']]\n",
    "original['datetime_local']=pd.to_datetime(original['datetime_local'])\n",
    "original = original.loc[original['datetime_local'] >= '2019-10-01']\n",
    "\n",
    "sns.lineplot(original['datetime_local'], original['temperature'])\n",
    "sns.lineplot(df_forecast['datetime_local'], df_forecast['temperature'])"
   ]
  },
  {
   "cell_type": "code",
   "execution_count": 27,
   "metadata": {
    "ExecuteTime": {
     "end_time": "2021-12-14T17:19:42.016130Z",
     "start_time": "2021-12-14T17:19:42.002091Z"
    }
   },
   "outputs": [
    {
     "name": "stdout",
     "output_type": "stream",
     "text": [
      "Test RSME Score: 1.23 Celsius\n"
     ]
    }
   ],
   "source": [
    "testScore1 = math.sqrt(mean_squared_error(df['temperature'][499-168:], y_pred_future1))\n",
    "print('Test RSME Score: %.2f Celsius' %(testScore1))"
   ]
  },
  {
   "cell_type": "markdown",
   "metadata": {},
   "source": [
    "## Model tuning"
   ]
  },
  {
   "cell_type": "code",
   "execution_count": 376,
   "metadata": {
    "ExecuteTime": {
     "end_time": "2021-12-11T12:28:36.350550Z",
     "start_time": "2021-12-11T12:28:26.750543Z"
    },
    "collapsed": true
   },
   "outputs": [
    {
     "name": "stdout",
     "output_type": "stream",
     "text": [
      "24 12 4 4\n",
      "Epoch 1/15\n",
      "41/41 [==============================] - 7s 47ms/step - loss: 1.0819 - val_loss: 1.0917\n",
      "Epoch 2/15\n",
      "41/41 [==============================] - 1s 18ms/step - loss: 0.8737 - val_loss: 0.9378\n",
      "Epoch 3/15\n",
      "41/41 [==============================] - 1s 19ms/step - loss: 0.6766 - val_loss: 0.7744\n",
      "Epoch 4/15\n",
      "41/41 [==============================] - 1s 19ms/step - loss: 0.4533 - val_loss: 0.6092\n",
      "Epoch 5/15\n",
      "26/41 [==================>...........] - ETA: 0s - loss: 0.2953"
     ]
    },
    {
     "ename": "KeyboardInterrupt",
     "evalue": "",
     "output_type": "error",
     "traceback": [
      "\u001b[1;31m---------------------------------------------------------------------------\u001b[0m",
      "\u001b[1;31mKeyboardInterrupt\u001b[0m                         Traceback (most recent call last)",
      "\u001b[1;32m<ipython-input-376-b8ec58d144d1>\u001b[0m in \u001b[0;36m<module>\u001b[1;34m\u001b[0m\n\u001b[0;32m     20\u001b[0m                 \u001b[0mmodel\u001b[0m\u001b[1;33m.\u001b[0m\u001b[0mcompile\u001b[0m\u001b[1;33m(\u001b[0m\u001b[0moptimizer\u001b[0m\u001b[1;33m=\u001b[0m\u001b[1;34m'adam'\u001b[0m\u001b[1;33m,\u001b[0m \u001b[0mloss\u001b[0m\u001b[1;33m=\u001b[0m\u001b[1;34m'mse'\u001b[0m\u001b[1;33m)\u001b[0m\u001b[1;33m\u001b[0m\u001b[1;33m\u001b[0m\u001b[0m\n\u001b[0;32m     21\u001b[0m                 \u001b[0mprint\u001b[0m\u001b[1;33m(\u001b[0m\u001b[0mpast\u001b[0m\u001b[1;33m,\u001b[0m \u001b[0mfuture\u001b[0m\u001b[1;33m,\u001b[0m \u001b[0mn1\u001b[0m\u001b[1;33m,\u001b[0m\u001b[0mn2\u001b[0m\u001b[1;33m)\u001b[0m\u001b[1;33m\u001b[0m\u001b[1;33m\u001b[0m\u001b[0m\n\u001b[1;32m---> 22\u001b[1;33m                 \u001b[0mhistory\u001b[0m \u001b[1;33m=\u001b[0m \u001b[0mmodel\u001b[0m\u001b[1;33m.\u001b[0m\u001b[0mfit\u001b[0m\u001b[1;33m(\u001b[0m\u001b[0mtrainX\u001b[0m\u001b[1;33m,\u001b[0m \u001b[0mtrainY\u001b[0m\u001b[1;33m,\u001b[0m \u001b[0mepochs\u001b[0m\u001b[1;33m=\u001b[0m\u001b[1;36m15\u001b[0m\u001b[1;33m,\u001b[0m \u001b[0mbatch_size\u001b[0m\u001b[1;33m=\u001b[0m\u001b[1;36m8\u001b[0m\u001b[1;33m,\u001b[0m \u001b[0mvalidation_split\u001b[0m\u001b[1;33m=\u001b[0m\u001b[1;36m0.3\u001b[0m\u001b[1;33m,\u001b[0m \u001b[0mverbose\u001b[0m\u001b[1;33m=\u001b[0m\u001b[1;36m1\u001b[0m\u001b[1;33m)\u001b[0m\u001b[1;33m\u001b[0m\u001b[1;33m\u001b[0m\u001b[0m\n\u001b[0m\u001b[0;32m     23\u001b[0m                 \u001b[0mmse_list_2\u001b[0m\u001b[1;33m.\u001b[0m\u001b[0mappend\u001b[0m\u001b[1;33m(\u001b[0m\u001b[1;33m[\u001b[0m\u001b[0mpast\u001b[0m\u001b[1;33m,\u001b[0m \u001b[0mfuture\u001b[0m\u001b[1;33m,\u001b[0m \u001b[0mn1\u001b[0m\u001b[1;33m,\u001b[0m\u001b[0mn2\u001b[0m\u001b[1;33m,\u001b[0m\u001b[0mnp\u001b[0m\u001b[1;33m.\u001b[0m\u001b[0mmean\u001b[0m\u001b[1;33m(\u001b[0m\u001b[0mhistory\u001b[0m\u001b[1;33m.\u001b[0m\u001b[0mhistory\u001b[0m\u001b[1;33m[\u001b[0m\u001b[1;34m'val_loss'\u001b[0m\u001b[1;33m]\u001b[0m\u001b[1;33m)\u001b[0m\u001b[1;33m]\u001b[0m\u001b[1;33m)\u001b[0m\u001b[1;33m\u001b[0m\u001b[1;33m\u001b[0m\u001b[0m\n",
      "\u001b[1;32m~\\anaconda3\\lib\\site-packages\\keras\\utils\\traceback_utils.py\u001b[0m in \u001b[0;36merror_handler\u001b[1;34m(*args, **kwargs)\u001b[0m\n\u001b[0;32m     62\u001b[0m     \u001b[0mfiltered_tb\u001b[0m \u001b[1;33m=\u001b[0m \u001b[1;32mNone\u001b[0m\u001b[1;33m\u001b[0m\u001b[1;33m\u001b[0m\u001b[0m\n\u001b[0;32m     63\u001b[0m     \u001b[1;32mtry\u001b[0m\u001b[1;33m:\u001b[0m\u001b[1;33m\u001b[0m\u001b[1;33m\u001b[0m\u001b[0m\n\u001b[1;32m---> 64\u001b[1;33m       \u001b[1;32mreturn\u001b[0m \u001b[0mfn\u001b[0m\u001b[1;33m(\u001b[0m\u001b[1;33m*\u001b[0m\u001b[0margs\u001b[0m\u001b[1;33m,\u001b[0m \u001b[1;33m**\u001b[0m\u001b[0mkwargs\u001b[0m\u001b[1;33m)\u001b[0m\u001b[1;33m\u001b[0m\u001b[1;33m\u001b[0m\u001b[0m\n\u001b[0m\u001b[0;32m     65\u001b[0m     \u001b[1;32mexcept\u001b[0m \u001b[0mException\u001b[0m \u001b[1;32mas\u001b[0m \u001b[0me\u001b[0m\u001b[1;33m:\u001b[0m  \u001b[1;31m# pylint: disable=broad-except\u001b[0m\u001b[1;33m\u001b[0m\u001b[1;33m\u001b[0m\u001b[0m\n\u001b[0;32m     66\u001b[0m       \u001b[0mfiltered_tb\u001b[0m \u001b[1;33m=\u001b[0m \u001b[0m_process_traceback_frames\u001b[0m\u001b[1;33m(\u001b[0m\u001b[0me\u001b[0m\u001b[1;33m.\u001b[0m\u001b[0m__traceback__\u001b[0m\u001b[1;33m)\u001b[0m\u001b[1;33m\u001b[0m\u001b[1;33m\u001b[0m\u001b[0m\n",
      "\u001b[1;32m~\\anaconda3\\lib\\site-packages\\keras\\engine\\training.py\u001b[0m in \u001b[0;36mfit\u001b[1;34m(self, x, y, batch_size, epochs, verbose, callbacks, validation_split, validation_data, shuffle, class_weight, sample_weight, initial_epoch, steps_per_epoch, validation_steps, validation_batch_size, validation_freq, max_queue_size, workers, use_multiprocessing)\u001b[0m\n\u001b[0;32m   1214\u001b[0m                 _r=1):\n\u001b[0;32m   1215\u001b[0m               \u001b[0mcallbacks\u001b[0m\u001b[1;33m.\u001b[0m\u001b[0mon_train_batch_begin\u001b[0m\u001b[1;33m(\u001b[0m\u001b[0mstep\u001b[0m\u001b[1;33m)\u001b[0m\u001b[1;33m\u001b[0m\u001b[1;33m\u001b[0m\u001b[0m\n\u001b[1;32m-> 1216\u001b[1;33m               \u001b[0mtmp_logs\u001b[0m \u001b[1;33m=\u001b[0m \u001b[0mself\u001b[0m\u001b[1;33m.\u001b[0m\u001b[0mtrain_function\u001b[0m\u001b[1;33m(\u001b[0m\u001b[0miterator\u001b[0m\u001b[1;33m)\u001b[0m\u001b[1;33m\u001b[0m\u001b[1;33m\u001b[0m\u001b[0m\n\u001b[0m\u001b[0;32m   1217\u001b[0m               \u001b[1;32mif\u001b[0m \u001b[0mdata_handler\u001b[0m\u001b[1;33m.\u001b[0m\u001b[0mshould_sync\u001b[0m\u001b[1;33m:\u001b[0m\u001b[1;33m\u001b[0m\u001b[1;33m\u001b[0m\u001b[0m\n\u001b[0;32m   1218\u001b[0m                 \u001b[0mcontext\u001b[0m\u001b[1;33m.\u001b[0m\u001b[0masync_wait\u001b[0m\u001b[1;33m(\u001b[0m\u001b[1;33m)\u001b[0m\u001b[1;33m\u001b[0m\u001b[1;33m\u001b[0m\u001b[0m\n",
      "\u001b[1;32m~\\anaconda3\\lib\\site-packages\\tensorflow\\python\\util\\traceback_utils.py\u001b[0m in \u001b[0;36merror_handler\u001b[1;34m(*args, **kwargs)\u001b[0m\n\u001b[0;32m    148\u001b[0m     \u001b[0mfiltered_tb\u001b[0m \u001b[1;33m=\u001b[0m \u001b[1;32mNone\u001b[0m\u001b[1;33m\u001b[0m\u001b[1;33m\u001b[0m\u001b[0m\n\u001b[0;32m    149\u001b[0m     \u001b[1;32mtry\u001b[0m\u001b[1;33m:\u001b[0m\u001b[1;33m\u001b[0m\u001b[1;33m\u001b[0m\u001b[0m\n\u001b[1;32m--> 150\u001b[1;33m       \u001b[1;32mreturn\u001b[0m \u001b[0mfn\u001b[0m\u001b[1;33m(\u001b[0m\u001b[1;33m*\u001b[0m\u001b[0margs\u001b[0m\u001b[1;33m,\u001b[0m \u001b[1;33m**\u001b[0m\u001b[0mkwargs\u001b[0m\u001b[1;33m)\u001b[0m\u001b[1;33m\u001b[0m\u001b[1;33m\u001b[0m\u001b[0m\n\u001b[0m\u001b[0;32m    151\u001b[0m     \u001b[1;32mexcept\u001b[0m \u001b[0mException\u001b[0m \u001b[1;32mas\u001b[0m \u001b[0me\u001b[0m\u001b[1;33m:\u001b[0m\u001b[1;33m\u001b[0m\u001b[1;33m\u001b[0m\u001b[0m\n\u001b[0;32m    152\u001b[0m       \u001b[0mfiltered_tb\u001b[0m \u001b[1;33m=\u001b[0m \u001b[0m_process_traceback_frames\u001b[0m\u001b[1;33m(\u001b[0m\u001b[0me\u001b[0m\u001b[1;33m.\u001b[0m\u001b[0m__traceback__\u001b[0m\u001b[1;33m)\u001b[0m\u001b[1;33m\u001b[0m\u001b[1;33m\u001b[0m\u001b[0m\n",
      "\u001b[1;32m~\\anaconda3\\lib\\site-packages\\tensorflow\\python\\eager\\def_function.py\u001b[0m in \u001b[0;36m__call__\u001b[1;34m(self, *args, **kwds)\u001b[0m\n\u001b[0;32m    908\u001b[0m \u001b[1;33m\u001b[0m\u001b[0m\n\u001b[0;32m    909\u001b[0m       \u001b[1;32mwith\u001b[0m \u001b[0mOptionalXlaContext\u001b[0m\u001b[1;33m(\u001b[0m\u001b[0mself\u001b[0m\u001b[1;33m.\u001b[0m\u001b[0m_jit_compile\u001b[0m\u001b[1;33m)\u001b[0m\u001b[1;33m:\u001b[0m\u001b[1;33m\u001b[0m\u001b[1;33m\u001b[0m\u001b[0m\n\u001b[1;32m--> 910\u001b[1;33m         \u001b[0mresult\u001b[0m \u001b[1;33m=\u001b[0m \u001b[0mself\u001b[0m\u001b[1;33m.\u001b[0m\u001b[0m_call\u001b[0m\u001b[1;33m(\u001b[0m\u001b[1;33m*\u001b[0m\u001b[0margs\u001b[0m\u001b[1;33m,\u001b[0m \u001b[1;33m**\u001b[0m\u001b[0mkwds\u001b[0m\u001b[1;33m)\u001b[0m\u001b[1;33m\u001b[0m\u001b[1;33m\u001b[0m\u001b[0m\n\u001b[0m\u001b[0;32m    911\u001b[0m \u001b[1;33m\u001b[0m\u001b[0m\n\u001b[0;32m    912\u001b[0m       \u001b[0mnew_tracing_count\u001b[0m \u001b[1;33m=\u001b[0m \u001b[0mself\u001b[0m\u001b[1;33m.\u001b[0m\u001b[0mexperimental_get_tracing_count\u001b[0m\u001b[1;33m(\u001b[0m\u001b[1;33m)\u001b[0m\u001b[1;33m\u001b[0m\u001b[1;33m\u001b[0m\u001b[0m\n",
      "\u001b[1;32m~\\anaconda3\\lib\\site-packages\\tensorflow\\python\\eager\\def_function.py\u001b[0m in \u001b[0;36m_call\u001b[1;34m(self, *args, **kwds)\u001b[0m\n\u001b[0;32m    940\u001b[0m       \u001b[1;31m# In this case we have created variables on the first call, so we run the\u001b[0m\u001b[1;33m\u001b[0m\u001b[1;33m\u001b[0m\u001b[1;33m\u001b[0m\u001b[0m\n\u001b[0;32m    941\u001b[0m       \u001b[1;31m# defunned version which is guaranteed to never create variables.\u001b[0m\u001b[1;33m\u001b[0m\u001b[1;33m\u001b[0m\u001b[1;33m\u001b[0m\u001b[0m\n\u001b[1;32m--> 942\u001b[1;33m       \u001b[1;32mreturn\u001b[0m \u001b[0mself\u001b[0m\u001b[1;33m.\u001b[0m\u001b[0m_stateless_fn\u001b[0m\u001b[1;33m(\u001b[0m\u001b[1;33m*\u001b[0m\u001b[0margs\u001b[0m\u001b[1;33m,\u001b[0m \u001b[1;33m**\u001b[0m\u001b[0mkwds\u001b[0m\u001b[1;33m)\u001b[0m  \u001b[1;31m# pylint: disable=not-callable\u001b[0m\u001b[1;33m\u001b[0m\u001b[1;33m\u001b[0m\u001b[0m\n\u001b[0m\u001b[0;32m    943\u001b[0m     \u001b[1;32melif\u001b[0m \u001b[0mself\u001b[0m\u001b[1;33m.\u001b[0m\u001b[0m_stateful_fn\u001b[0m \u001b[1;32mis\u001b[0m \u001b[1;32mnot\u001b[0m \u001b[1;32mNone\u001b[0m\u001b[1;33m:\u001b[0m\u001b[1;33m\u001b[0m\u001b[1;33m\u001b[0m\u001b[0m\n\u001b[0;32m    944\u001b[0m       \u001b[1;31m# Release the lock early so that multiple threads can perform the call\u001b[0m\u001b[1;33m\u001b[0m\u001b[1;33m\u001b[0m\u001b[1;33m\u001b[0m\u001b[0m\n",
      "\u001b[1;32m~\\anaconda3\\lib\\site-packages\\tensorflow\\python\\eager\\function.py\u001b[0m in \u001b[0;36m__call__\u001b[1;34m(self, *args, **kwargs)\u001b[0m\n\u001b[0;32m   3128\u001b[0m       (graph_function,\n\u001b[0;32m   3129\u001b[0m        filtered_flat_args) = self._maybe_define_function(args, kwargs)\n\u001b[1;32m-> 3130\u001b[1;33m     return graph_function._call_flat(\n\u001b[0m\u001b[0;32m   3131\u001b[0m         filtered_flat_args, captured_inputs=graph_function.captured_inputs)  # pylint: disable=protected-access\n\u001b[0;32m   3132\u001b[0m \u001b[1;33m\u001b[0m\u001b[0m\n",
      "\u001b[1;32m~\\anaconda3\\lib\\site-packages\\tensorflow\\python\\eager\\function.py\u001b[0m in \u001b[0;36m_call_flat\u001b[1;34m(self, args, captured_inputs, cancellation_manager)\u001b[0m\n\u001b[0;32m   1957\u001b[0m         and executing_eagerly):\n\u001b[0;32m   1958\u001b[0m       \u001b[1;31m# No tape is watching; skip to running the function.\u001b[0m\u001b[1;33m\u001b[0m\u001b[1;33m\u001b[0m\u001b[1;33m\u001b[0m\u001b[0m\n\u001b[1;32m-> 1959\u001b[1;33m       return self._build_call_outputs(self._inference_function.call(\n\u001b[0m\u001b[0;32m   1960\u001b[0m           ctx, args, cancellation_manager=cancellation_manager))\n\u001b[0;32m   1961\u001b[0m     forward_backward = self._select_forward_and_backward_functions(\n",
      "\u001b[1;32m~\\anaconda3\\lib\\site-packages\\tensorflow\\python\\eager\\function.py\u001b[0m in \u001b[0;36mcall\u001b[1;34m(self, ctx, args, cancellation_manager)\u001b[0m\n\u001b[0;32m    596\u001b[0m       \u001b[1;32mwith\u001b[0m \u001b[0m_InterpolateFunctionError\u001b[0m\u001b[1;33m(\u001b[0m\u001b[0mself\u001b[0m\u001b[1;33m)\u001b[0m\u001b[1;33m:\u001b[0m\u001b[1;33m\u001b[0m\u001b[1;33m\u001b[0m\u001b[0m\n\u001b[0;32m    597\u001b[0m         \u001b[1;32mif\u001b[0m \u001b[0mcancellation_manager\u001b[0m \u001b[1;32mis\u001b[0m \u001b[1;32mNone\u001b[0m\u001b[1;33m:\u001b[0m\u001b[1;33m\u001b[0m\u001b[1;33m\u001b[0m\u001b[0m\n\u001b[1;32m--> 598\u001b[1;33m           outputs = execute.execute(\n\u001b[0m\u001b[0;32m    599\u001b[0m               \u001b[0mstr\u001b[0m\u001b[1;33m(\u001b[0m\u001b[0mself\u001b[0m\u001b[1;33m.\u001b[0m\u001b[0msignature\u001b[0m\u001b[1;33m.\u001b[0m\u001b[0mname\u001b[0m\u001b[1;33m)\u001b[0m\u001b[1;33m,\u001b[0m\u001b[1;33m\u001b[0m\u001b[1;33m\u001b[0m\u001b[0m\n\u001b[0;32m    600\u001b[0m               \u001b[0mnum_outputs\u001b[0m\u001b[1;33m=\u001b[0m\u001b[0mself\u001b[0m\u001b[1;33m.\u001b[0m\u001b[0m_num_outputs\u001b[0m\u001b[1;33m,\u001b[0m\u001b[1;33m\u001b[0m\u001b[1;33m\u001b[0m\u001b[0m\n",
      "\u001b[1;32m~\\anaconda3\\lib\\site-packages\\tensorflow\\python\\eager\\execute.py\u001b[0m in \u001b[0;36mquick_execute\u001b[1;34m(op_name, num_outputs, inputs, attrs, ctx, name)\u001b[0m\n\u001b[0;32m     56\u001b[0m   \u001b[1;32mtry\u001b[0m\u001b[1;33m:\u001b[0m\u001b[1;33m\u001b[0m\u001b[1;33m\u001b[0m\u001b[0m\n\u001b[0;32m     57\u001b[0m     \u001b[0mctx\u001b[0m\u001b[1;33m.\u001b[0m\u001b[0mensure_initialized\u001b[0m\u001b[1;33m(\u001b[0m\u001b[1;33m)\u001b[0m\u001b[1;33m\u001b[0m\u001b[1;33m\u001b[0m\u001b[0m\n\u001b[1;32m---> 58\u001b[1;33m     tensors = pywrap_tfe.TFE_Py_Execute(ctx._handle, device_name, op_name,\n\u001b[0m\u001b[0;32m     59\u001b[0m                                         inputs, attrs, num_outputs)\n\u001b[0;32m     60\u001b[0m   \u001b[1;32mexcept\u001b[0m \u001b[0mcore\u001b[0m\u001b[1;33m.\u001b[0m\u001b[0m_NotOkStatusException\u001b[0m \u001b[1;32mas\u001b[0m \u001b[0me\u001b[0m\u001b[1;33m:\u001b[0m\u001b[1;33m\u001b[0m\u001b[1;33m\u001b[0m\u001b[0m\n",
      "\u001b[1;31mKeyboardInterrupt\u001b[0m: "
     ]
    }
   ],
   "source": [
    "mse_list_2 = []\n",
    "for past in [24,48,96,168]:\n",
    "    for future in [12, 24, 36, 48]:\n",
    "        for n1 in [4,8, 12, 16, 32, 64]:\n",
    "            for n2 in [4,8, 12, 16, 32, 64]:\n",
    "                n_future = future \n",
    "                n_past = past\n",
    "                trainX = []\n",
    "                trainY = []\n",
    "                for i in range(n_past, len(df_for_training_scaled) - n_future +1):\n",
    "                    trainX.append(df_for_training_scaled[i - n_past:i, 0:df_for_training.shape[1]])\n",
    "                    trainY.append(df_for_training_scaled[i + n_future - 1:i + n_future, 0])\n",
    "                trainX, trainY = np.array(trainX), np.array(trainY)\n",
    "                seed(321)\n",
    "                tensorflow.random.set_seed(123)\n",
    "                model = Sequential()\n",
    "                model.add(Bidirectional(LSTM(n1, activation='tanh', input_shape=(trainX.shape[1], trainX.shape[2]), return_sequences=True)))\n",
    "                model.add(Bidirectional(LSTM(n2, activation='tanh', return_sequences=False)))\n",
    "                model.add(Dense(trainY.shape[1]))\n",
    "                model.compile(optimizer='adam', loss='mse')\n",
    "                print(past, future, n1,n2)\n",
    "                history = model.fit(trainX, trainY, epochs=15, batch_size=8, validation_split=0.3, verbose=1)\n",
    "                mse_list_2.append([past, future, n1,n2,np.mean(history.history['val_loss'])])"
   ]
  },
  {
   "cell_type": "code",
   "execution_count": 273,
   "metadata": {
    "ExecuteTime": {
     "end_time": "2021-12-11T09:43:00.387742Z",
     "start_time": "2021-12-11T09:43:00.380811Z"
    }
   },
   "outputs": [],
   "source": [
    "#df_mse_2 = pd.DataFrame(mse_list_2, columns = ['past', 'future', 'n1', 'n2', 'mse'])"
   ]
  },
  {
   "cell_type": "code",
   "execution_count": 274,
   "metadata": {
    "ExecuteTime": {
     "end_time": "2021-12-11T09:43:05.791238Z",
     "start_time": "2021-12-11T09:43:05.776235Z"
    }
   },
   "outputs": [
    {
     "data": {
      "text/html": [
       "<div>\n",
       "<style scoped>\n",
       "    .dataframe tbody tr th:only-of-type {\n",
       "        vertical-align: middle;\n",
       "    }\n",
       "\n",
       "    .dataframe tbody tr th {\n",
       "        vertical-align: top;\n",
       "    }\n",
       "\n",
       "    .dataframe thead th {\n",
       "        text-align: right;\n",
       "    }\n",
       "</style>\n",
       "<table border=\"1\" class=\"dataframe\">\n",
       "  <thead>\n",
       "    <tr style=\"text-align: right;\">\n",
       "      <th></th>\n",
       "      <th>past</th>\n",
       "      <th>future</th>\n",
       "      <th>n1</th>\n",
       "      <th>n2</th>\n",
       "      <th>mse</th>\n",
       "    </tr>\n",
       "  </thead>\n",
       "  <tbody>\n",
       "    <tr>\n",
       "      <th>322</th>\n",
       "      <td>96</td>\n",
       "      <td>12</td>\n",
       "      <td>64</td>\n",
       "      <td>32</td>\n",
       "      <td>0.096346</td>\n",
       "    </tr>\n",
       "    <tr>\n",
       "      <th>316</th>\n",
       "      <td>96</td>\n",
       "      <td>12</td>\n",
       "      <td>32</td>\n",
       "      <td>32</td>\n",
       "      <td>0.103543</td>\n",
       "    </tr>\n",
       "    <tr>\n",
       "      <th>269</th>\n",
       "      <td>48</td>\n",
       "      <td>48</td>\n",
       "      <td>12</td>\n",
       "      <td>64</td>\n",
       "      <td>0.109995</td>\n",
       "    </tr>\n",
       "    <tr>\n",
       "      <th>311</th>\n",
       "      <td>96</td>\n",
       "      <td>12</td>\n",
       "      <td>16</td>\n",
       "      <td>64</td>\n",
       "      <td>0.112496</td>\n",
       "    </tr>\n",
       "    <tr>\n",
       "      <th>340</th>\n",
       "      <td>96</td>\n",
       "      <td>24</td>\n",
       "      <td>12</td>\n",
       "      <td>32</td>\n",
       "      <td>0.118890</td>\n",
       "    </tr>\n",
       "    <tr>\n",
       "      <th>...</th>\n",
       "      <td>...</td>\n",
       "      <td>...</td>\n",
       "      <td>...</td>\n",
       "      <td>...</td>\n",
       "      <td>...</td>\n",
       "    </tr>\n",
       "    <tr>\n",
       "      <th>511</th>\n",
       "      <td>168</td>\n",
       "      <td>36</td>\n",
       "      <td>8</td>\n",
       "      <td>8</td>\n",
       "      <td>1.040022</td>\n",
       "    </tr>\n",
       "    <tr>\n",
       "      <th>512</th>\n",
       "      <td>168</td>\n",
       "      <td>36</td>\n",
       "      <td>8</td>\n",
       "      <td>12</td>\n",
       "      <td>1.051751</td>\n",
       "    </tr>\n",
       "    <tr>\n",
       "      <th>361</th>\n",
       "      <td>96</td>\n",
       "      <td>36</td>\n",
       "      <td>4</td>\n",
       "      <td>8</td>\n",
       "      <td>1.091092</td>\n",
       "    </tr>\n",
       "    <tr>\n",
       "      <th>505</th>\n",
       "      <td>168</td>\n",
       "      <td>36</td>\n",
       "      <td>4</td>\n",
       "      <td>8</td>\n",
       "      <td>1.118387</td>\n",
       "    </tr>\n",
       "    <tr>\n",
       "      <th>504</th>\n",
       "      <td>168</td>\n",
       "      <td>36</td>\n",
       "      <td>4</td>\n",
       "      <td>4</td>\n",
       "      <td>1.207530</td>\n",
       "    </tr>\n",
       "  </tbody>\n",
       "</table>\n",
       "<p>576 rows × 5 columns</p>\n",
       "</div>"
      ],
      "text/plain": [
       "     past  future  n1  n2       mse\n",
       "322    96      12  64  32  0.096346\n",
       "316    96      12  32  32  0.103543\n",
       "269    48      48  12  64  0.109995\n",
       "311    96      12  16  64  0.112496\n",
       "340    96      24  12  32  0.118890\n",
       "..    ...     ...  ..  ..       ...\n",
       "511   168      36   8   8  1.040022\n",
       "512   168      36   8  12  1.051751\n",
       "361    96      36   4   8  1.091092\n",
       "505   168      36   4   8  1.118387\n",
       "504   168      36   4   4  1.207530\n",
       "\n",
       "[576 rows x 5 columns]"
      ]
     },
     "execution_count": 274,
     "metadata": {},
     "output_type": "execute_result"
    }
   ],
   "source": [
    "df_mse_2.sort_values('mse')"
   ]
  },
  {
   "cell_type": "code",
   "execution_count": 291,
   "metadata": {
    "ExecuteTime": {
     "end_time": "2021-12-11T11:50:00.846082Z",
     "start_time": "2021-12-11T10:49:54.011000Z"
    }
   },
   "outputs": [
    {
     "name": "stdout",
     "output_type": "stream",
     "text": [
      "0 4\n",
      "Epoch 1/20\n",
      "49/49 [==============================] - 14s 191ms/step - loss: 0.2913 - val_loss: 0.1290\n",
      "Epoch 2/20\n",
      "49/49 [==============================] - 8s 171ms/step - loss: 0.0380 - val_loss: 0.1129\n",
      "Epoch 3/20\n",
      "49/49 [==============================] - 8s 160ms/step - loss: 0.0239 - val_loss: 0.1229\n",
      "Epoch 4/20\n",
      "49/49 [==============================] - 8s 160ms/step - loss: 0.0195 - val_loss: 0.1211\n",
      "Epoch 5/20\n",
      "49/49 [==============================] - 8s 160ms/step - loss: 0.0133 - val_loss: 0.1232\n",
      "Epoch 6/20\n",
      "49/49 [==============================] - 8s 160ms/step - loss: 0.0117 - val_loss: 0.1309\n",
      "Epoch 7/20\n",
      "49/49 [==============================] - 8s 168ms/step - loss: 0.0109 - val_loss: 0.1152\n",
      "Epoch 8/20\n",
      "49/49 [==============================] - 8s 161ms/step - loss: 0.0105 - val_loss: 0.1107\n",
      "Epoch 9/20\n",
      "49/49 [==============================] - 8s 174ms/step - loss: 0.0099 - val_loss: 0.1124\n",
      "Epoch 10/20\n",
      "49/49 [==============================] - 10s 198ms/step - loss: 0.0123 - val_loss: 0.1124\n",
      "Epoch 11/20\n",
      "49/49 [==============================] - 9s 179ms/step - loss: 0.0133 - val_loss: 0.1465\n",
      "Epoch 12/20\n",
      "49/49 [==============================] - 9s 179ms/step - loss: 0.0120 - val_loss: 0.1321\n",
      "Epoch 13/20\n",
      "49/49 [==============================] - 9s 181ms/step - loss: 0.0127 - val_loss: 0.1242\n",
      "Epoch 14/20\n",
      "49/49 [==============================] - 9s 184ms/step - loss: 0.0145 - val_loss: 0.1238\n",
      "Epoch 15/20\n",
      "49/49 [==============================] - 9s 182ms/step - loss: 0.0108 - val_loss: 0.0979\n",
      "Epoch 16/20\n",
      "49/49 [==============================] - 10s 196ms/step - loss: 0.0114 - val_loss: 0.1065\n",
      "Epoch 17/20\n",
      "49/49 [==============================] - 9s 187ms/step - loss: 0.0116 - val_loss: 0.1067\n",
      "Epoch 18/20\n",
      "49/49 [==============================] - 9s 183ms/step - loss: 0.0086 - val_loss: 0.1168\n",
      "Epoch 19/20\n",
      "49/49 [==============================] - 9s 184ms/step - loss: 0.0093 - val_loss: 0.1106\n",
      "Epoch 20/20\n",
      "49/49 [==============================] - 9s 183ms/step - loss: 0.0109 - val_loss: 0.1420\n",
      "0 8\n",
      "Epoch 1/20\n",
      "25/25 [==============================] - 13s 282ms/step - loss: 0.3757 - val_loss: 0.1560\n",
      "Epoch 2/20\n",
      "25/25 [==============================] - 5s 214ms/step - loss: 0.0716 - val_loss: 0.1058\n",
      "Epoch 3/20\n",
      "25/25 [==============================] - 5s 214ms/step - loss: 0.0300 - val_loss: 0.1169\n",
      "Epoch 4/20\n",
      "25/25 [==============================] - 5s 213ms/step - loss: 0.0197 - val_loss: 0.1126\n",
      "Epoch 5/20\n",
      "25/25 [==============================] - 5s 215ms/step - loss: 0.0141 - val_loss: 0.1096\n",
      "Epoch 6/20\n",
      "25/25 [==============================] - 5s 210ms/step - loss: 0.0118 - val_loss: 0.1174\n",
      "Epoch 7/20\n",
      "25/25 [==============================] - 5s 211ms/step - loss: 0.0116 - val_loss: 0.1132\n",
      "Epoch 8/20\n",
      "25/25 [==============================] - 5s 210ms/step - loss: 0.0117 - val_loss: 0.0973\n",
      "Epoch 9/20\n",
      "25/25 [==============================] - 5s 213ms/step - loss: 0.0104 - val_loss: 0.1121\n",
      "Epoch 10/20\n",
      "25/25 [==============================] - 5s 210ms/step - loss: 0.0101 - val_loss: 0.1151\n",
      "Epoch 11/20\n",
      "25/25 [==============================] - 5s 214ms/step - loss: 0.0104 - val_loss: 0.1159\n",
      "Epoch 12/20\n",
      "25/25 [==============================] - 5s 213ms/step - loss: 0.0124 - val_loss: 0.1096\n",
      "Epoch 13/20\n",
      "25/25 [==============================] - 5s 211ms/step - loss: 0.0130 - val_loss: 0.1142\n",
      "Epoch 14/20\n",
      "25/25 [==============================] - 5s 215ms/step - loss: 0.0110 - val_loss: 0.1038\n",
      "Epoch 15/20\n",
      "25/25 [==============================] - 5s 217ms/step - loss: 0.0085 - val_loss: 0.0988\n",
      "Epoch 16/20\n",
      "25/25 [==============================] - 5s 214ms/step - loss: 0.0077 - val_loss: 0.1089\n",
      "Epoch 17/20\n",
      "25/25 [==============================] - 5s 219ms/step - loss: 0.0081 - val_loss: 0.1089\n",
      "Epoch 18/20\n",
      "25/25 [==============================] - 5s 215ms/step - loss: 0.0067 - val_loss: 0.1062\n",
      "Epoch 19/20\n",
      "25/25 [==============================] - 5s 214ms/step - loss: 0.0078 - val_loss: 0.0987\n",
      "Epoch 20/20\n",
      "25/25 [==============================] - 6s 232ms/step - loss: 0.0075 - val_loss: 0.1008\n",
      "0 16\n",
      "Epoch 1/20\n",
      "13/13 [==============================] - 10s 346ms/step - loss: 0.4918 - val_loss: 0.1918\n",
      "Epoch 2/20\n",
      "13/13 [==============================] - 3s 265ms/step - loss: 0.1202 - val_loss: 0.1243\n",
      "Epoch 3/20\n",
      "13/13 [==============================] - 3s 268ms/step - loss: 0.0549 - val_loss: 0.1200\n",
      "Epoch 4/20\n",
      "13/13 [==============================] - 4s 327ms/step - loss: 0.0300 - val_loss: 0.1044\n",
      "Epoch 5/20\n",
      "13/13 [==============================] - 4s 309ms/step - loss: 0.0209 - val_loss: 0.1223\n",
      "Epoch 6/20\n",
      "13/13 [==============================] - 4s 328ms/step - loss: 0.0218 - val_loss: 0.1048\n",
      "Epoch 7/20\n",
      "13/13 [==============================] - 4s 305ms/step - loss: 0.0160 - val_loss: 0.1048\n",
      "Epoch 8/20\n",
      "13/13 [==============================] - 4s 301ms/step - loss: 0.0168 - val_loss: 0.1158\n",
      "Epoch 9/20\n",
      "13/13 [==============================] - 4s 297ms/step - loss: 0.0151 - val_loss: 0.1164\n",
      "Epoch 10/20\n",
      "13/13 [==============================] - 4s 301ms/step - loss: 0.0127 - val_loss: 0.1103\n",
      "Epoch 11/20\n",
      "13/13 [==============================] - 4s 297ms/step - loss: 0.0120 - val_loss: 0.1079\n",
      "Epoch 12/20\n",
      "13/13 [==============================] - 4s 302ms/step - loss: 0.0093 - val_loss: 0.1080\n",
      "Epoch 13/20\n",
      "13/13 [==============================] - 4s 298ms/step - loss: 0.0099 - val_loss: 0.1102\n",
      "Epoch 14/20\n",
      "13/13 [==============================] - 4s 301ms/step - loss: 0.0095 - val_loss: 0.1038\n",
      "Epoch 15/20\n",
      "13/13 [==============================] - 4s 313ms/step - loss: 0.0102 - val_loss: 0.1142\n",
      "Epoch 16/20\n",
      "13/13 [==============================] - 4s 303ms/step - loss: 0.0096 - val_loss: 0.1102\n",
      "Epoch 17/20\n",
      "13/13 [==============================] - 4s 299ms/step - loss: 0.0080 - val_loss: 0.1125\n",
      "Epoch 18/20\n",
      "13/13 [==============================] - 4s 302ms/step - loss: 0.0071 - val_loss: 0.1068\n",
      "Epoch 19/20\n",
      "13/13 [==============================] - 4s 297ms/step - loss: 0.0067 - val_loss: 0.1036\n",
      "Epoch 20/20\n",
      "13/13 [==============================] - 4s 301ms/step - loss: 0.0071 - val_loss: 0.1084\n",
      "0 32\n",
      "Epoch 1/20\n",
      "7/7 [==============================] - 10s 546ms/step - loss: 0.6578 - val_loss: 0.3647\n",
      "Epoch 2/20\n",
      "7/7 [==============================] - 2s 356ms/step - loss: 0.1918 - val_loss: 0.1523\n",
      "Epoch 3/20\n",
      "7/7 [==============================] - 2s 345ms/step - loss: 0.1348 - val_loss: 0.1501\n",
      "Epoch 4/20\n",
      "7/7 [==============================] - 2s 356ms/step - loss: 0.0876 - val_loss: 0.1268\n",
      "Epoch 5/20\n",
      "7/7 [==============================] - 2s 346ms/step - loss: 0.0522 - val_loss: 0.1134\n",
      "Epoch 6/20\n",
      "7/7 [==============================] - 2s 353ms/step - loss: 0.0430 - val_loss: 0.1058\n",
      "Epoch 7/20\n",
      "7/7 [==============================] - 2s 345ms/step - loss: 0.0266 - val_loss: 0.1087\n",
      "Epoch 8/20\n",
      "7/7 [==============================] - 2s 353ms/step - loss: 0.0223 - val_loss: 0.1133\n",
      "Epoch 9/20\n",
      "7/7 [==============================] - 2s 355ms/step - loss: 0.0191 - val_loss: 0.1149\n",
      "Epoch 10/20\n",
      "7/7 [==============================] - 2s 348ms/step - loss: 0.0181 - val_loss: 0.1195\n",
      "Epoch 11/20\n",
      "7/7 [==============================] - 2s 360ms/step - loss: 0.0143 - val_loss: 0.1127\n",
      "Epoch 12/20\n",
      "7/7 [==============================] - 2s 349ms/step - loss: 0.0133 - val_loss: 0.1095\n",
      "Epoch 13/20\n",
      "7/7 [==============================] - 2s 356ms/step - loss: 0.0124 - val_loss: 0.1092\n",
      "Epoch 14/20\n",
      "7/7 [==============================] - 2s 348ms/step - loss: 0.0120 - val_loss: 0.1075\n",
      "Epoch 15/20\n",
      "7/7 [==============================] - 2s 351ms/step - loss: 0.0105 - val_loss: 0.1152\n",
      "Epoch 16/20\n",
      "7/7 [==============================] - 2s 355ms/step - loss: 0.0115 - val_loss: 0.1247\n",
      "Epoch 17/20\n",
      "7/7 [==============================] - 2s 357ms/step - loss: 0.0095 - val_loss: 0.1158\n",
      "Epoch 18/20\n",
      "7/7 [==============================] - 2s 352ms/step - loss: 0.0088 - val_loss: 0.1150\n",
      "Epoch 19/20\n",
      "7/7 [==============================] - 2s 349ms/step - loss: 0.0086 - val_loss: 0.1147\n",
      "Epoch 20/20\n",
      "7/7 [==============================] - 2s 351ms/step - loss: 0.0085 - val_loss: 0.1096\n",
      "0 64\n",
      "Epoch 1/20\n",
      "4/4 [==============================] - 9s 1s/step - loss: 0.8058 - val_loss: 0.5825\n",
      "Epoch 2/20\n",
      "4/4 [==============================] - 2s 647ms/step - loss: 0.4000 - val_loss: 0.2958\n",
      "Epoch 3/20\n",
      "4/4 [==============================] - 2s 639ms/step - loss: 0.2008 - val_loss: 0.1886\n",
      "Epoch 4/20\n",
      "4/4 [==============================] - 2s 637ms/step - loss: 0.1430 - val_loss: 0.1703\n",
      "Epoch 5/20\n",
      "4/4 [==============================] - 2s 628ms/step - loss: 0.1427 - val_loss: 0.1555\n",
      "Epoch 6/20\n",
      "4/4 [==============================] - 2s 633ms/step - loss: 0.1143 - val_loss: 0.1339\n",
      "Epoch 7/20\n",
      "4/4 [==============================] - 2s 630ms/step - loss: 0.0811 - val_loss: 0.1155\n",
      "Epoch 8/20\n",
      "4/4 [==============================] - 2s 642ms/step - loss: 0.0556 - val_loss: 0.1144\n",
      "Epoch 9/20\n",
      "4/4 [==============================] - 2s 632ms/step - loss: 0.0493 - val_loss: 0.1135\n",
      "Epoch 10/20\n",
      "4/4 [==============================] - 2s 633ms/step - loss: 0.0439 - val_loss: 0.1121\n",
      "Epoch 11/20\n",
      "4/4 [==============================] - 2s 639ms/step - loss: 0.0341 - val_loss: 0.1173\n",
      "Epoch 12/20\n",
      "4/4 [==============================] - 2s 631ms/step - loss: 0.0324 - val_loss: 0.1140\n",
      "Epoch 13/20\n",
      "4/4 [==============================] - 2s 632ms/step - loss: 0.0276 - val_loss: 0.1073\n",
      "Epoch 14/20\n",
      "4/4 [==============================] - 2s 648ms/step - loss: 0.0232 - val_loss: 0.1087\n",
      "Epoch 15/20\n",
      "4/4 [==============================] - 2s 633ms/step - loss: 0.0233 - val_loss: 0.1210\n",
      "Epoch 16/20\n",
      "4/4 [==============================] - 2s 636ms/step - loss: 0.0211 - val_loss: 0.1558\n",
      "Epoch 17/20\n",
      "4/4 [==============================] - 2s 632ms/step - loss: 0.0269 - val_loss: 0.1475\n",
      "Epoch 18/20\n",
      "4/4 [==============================] - 2s 625ms/step - loss: 0.0200 - val_loss: 0.1113\n",
      "Epoch 19/20\n",
      "4/4 [==============================] - 2s 640ms/step - loss: 0.0213 - val_loss: 0.1004\n",
      "Epoch 20/20\n",
      "4/4 [==============================] - 2s 625ms/step - loss: 0.0210 - val_loss: 0.1022\n",
      "0.05 4\n",
      "Epoch 1/20\n",
      "49/49 [==============================] - 16s 215ms/step - loss: 0.2931 - val_loss: 0.1344\n",
      "Epoch 2/20\n",
      "49/49 [==============================] - 9s 191ms/step - loss: 0.0452 - val_loss: 0.1240\n",
      "Epoch 3/20\n",
      "49/49 [==============================] - 9s 191ms/step - loss: 0.0288 - val_loss: 0.1200\n",
      "Epoch 4/20\n",
      "49/49 [==============================] - 9s 194ms/step - loss: 0.0282 - val_loss: 0.1190\n",
      "Epoch 5/20\n",
      "49/49 [==============================] - 9s 193ms/step - loss: 0.0192 - val_loss: 0.1121\n",
      "Epoch 6/20\n",
      "49/49 [==============================] - 9s 193ms/step - loss: 0.0158 - val_loss: 0.1291\n",
      "Epoch 7/20\n",
      "49/49 [==============================] - 9s 192ms/step - loss: 0.0167 - val_loss: 0.1194\n",
      "Epoch 8/20\n",
      "49/49 [==============================] - 10s 202ms/step - loss: 0.0177 - val_loss: 0.1174\n",
      "Epoch 9/20\n",
      "49/49 [==============================] - 9s 192ms/step - loss: 0.0162 - val_loss: 0.1046\n",
      "Epoch 10/20\n",
      "49/49 [==============================] - 10s 201ms/step - loss: 0.0203 - val_loss: 0.1141\n",
      "Epoch 11/20\n",
      "49/49 [==============================] - 10s 198ms/step - loss: 0.0203 - val_loss: 0.1385\n",
      "Epoch 12/20\n",
      "49/49 [==============================] - 10s 197ms/step - loss: 0.0168 - val_loss: 0.1462\n",
      "Epoch 13/20\n",
      "49/49 [==============================] - 9s 191ms/step - loss: 0.0178 - val_loss: 0.1353\n",
      "Epoch 14/20\n",
      "49/49 [==============================] - 9s 193ms/step - loss: 0.0172 - val_loss: 0.1181\n",
      "Epoch 15/20\n",
      "49/49 [==============================] - 9s 191ms/step - loss: 0.0150 - val_loss: 0.1040\n",
      "Epoch 16/20\n",
      "49/49 [==============================] - 9s 193ms/step - loss: 0.0116 - val_loss: 0.1069\n",
      "Epoch 17/20\n",
      "49/49 [==============================] - 9s 192ms/step - loss: 0.0133 - val_loss: 0.1034\n",
      "Epoch 18/20\n",
      "49/49 [==============================] - 9s 193ms/step - loss: 0.0129 - val_loss: 0.1123\n",
      "Epoch 19/20\n",
      "49/49 [==============================] - 9s 192ms/step - loss: 0.0147 - val_loss: 0.1180\n",
      "Epoch 20/20\n",
      "49/49 [==============================] - 9s 193ms/step - loss: 0.0138 - val_loss: 0.1251\n",
      "0.05 8\n",
      "Epoch 1/20\n",
      "25/25 [==============================] - 13s 273ms/step - loss: 0.3773 - val_loss: 0.1613\n",
      "Epoch 2/20\n",
      "25/25 [==============================] - 5s 218ms/step - loss: 0.0793 - val_loss: 0.1069\n",
      "Epoch 3/20\n",
      "25/25 [==============================] - 5s 220ms/step - loss: 0.0349 - val_loss: 0.1160\n",
      "Epoch 4/20\n",
      "25/25 [==============================] - 5s 221ms/step - loss: 0.0276 - val_loss: 0.1009\n",
      "Epoch 5/20\n",
      "25/25 [==============================] - 5s 220ms/step - loss: 0.0178 - val_loss: 0.1029\n",
      "Epoch 6/20\n",
      "25/25 [==============================] - 5s 220ms/step - loss: 0.0205 - val_loss: 0.1142\n",
      "Epoch 7/20\n",
      "25/25 [==============================] - 5s 220ms/step - loss: 0.0166 - val_loss: 0.1130\n",
      "Epoch 8/20\n",
      "25/25 [==============================] - 5s 219ms/step - loss: 0.0170 - val_loss: 0.0925\n",
      "Epoch 9/20\n",
      "25/25 [==============================] - 5s 218ms/step - loss: 0.0175 - val_loss: 0.1056\n",
      "Epoch 10/20\n",
      "25/25 [==============================] - 5s 216ms/step - loss: 0.0161 - val_loss: 0.1011\n",
      "Epoch 11/20\n",
      "25/25 [==============================] - 5s 219ms/step - loss: 0.0177 - val_loss: 0.1025\n",
      "Epoch 12/20\n",
      "25/25 [==============================] - 5s 220ms/step - loss: 0.0206 - val_loss: 0.1135\n",
      "Epoch 13/20\n",
      "25/25 [==============================] - 5s 216ms/step - loss: 0.0170 - val_loss: 0.1178\n",
      "Epoch 14/20\n",
      "25/25 [==============================] - 5s 215ms/step - loss: 0.0168 - val_loss: 0.0960\n",
      "Epoch 15/20\n",
      "25/25 [==============================] - 5s 220ms/step - loss: 0.0140 - val_loss: 0.0912\n",
      "Epoch 16/20\n",
      "25/25 [==============================] - 5s 219ms/step - loss: 0.0121 - val_loss: 0.0973\n",
      "Epoch 17/20\n",
      "25/25 [==============================] - 5s 219ms/step - loss: 0.0153 - val_loss: 0.1163\n",
      "Epoch 18/20\n",
      "25/25 [==============================] - 6s 223ms/step - loss: 0.0131 - val_loss: 0.1094\n",
      "Epoch 19/20\n",
      "25/25 [==============================] - 5s 220ms/step - loss: 0.0139 - val_loss: 0.0994\n",
      "Epoch 20/20\n",
      "25/25 [==============================] - 5s 221ms/step - loss: 0.0114 - val_loss: 0.0976\n",
      "0.05 16\n",
      "Epoch 1/20\n",
      "13/13 [==============================] - 10s 375ms/step - loss: 0.4910 - val_loss: 0.1935\n",
      "Epoch 2/20\n",
      "13/13 [==============================] - 4s 296ms/step - loss: 0.1207 - val_loss: 0.1221\n",
      "Epoch 3/20\n",
      "13/13 [==============================] - 4s 299ms/step - loss: 0.0566 - val_loss: 0.1206\n",
      "Epoch 4/20\n",
      "13/13 [==============================] - 4s 301ms/step - loss: 0.0371 - val_loss: 0.1078\n",
      "Epoch 5/20\n",
      "13/13 [==============================] - 4s 300ms/step - loss: 0.0274 - val_loss: 0.1188\n",
      "Epoch 6/20\n",
      "13/13 [==============================] - 4s 307ms/step - loss: 0.0255 - val_loss: 0.1010\n",
      "Epoch 7/20\n",
      "13/13 [==============================] - 4s 300ms/step - loss: 0.0197 - val_loss: 0.1106\n",
      "Epoch 8/20\n",
      "13/13 [==============================] - 4s 301ms/step - loss: 0.0213 - val_loss: 0.1105\n",
      "Epoch 9/20\n",
      "13/13 [==============================] - 4s 302ms/step - loss: 0.0203 - val_loss: 0.1082\n",
      "Epoch 10/20\n",
      "13/13 [==============================] - 4s 302ms/step - loss: 0.0164 - val_loss: 0.1014\n",
      "Epoch 11/20\n",
      "13/13 [==============================] - 4s 325ms/step - loss: 0.0168 - val_loss: 0.1052\n",
      "Epoch 12/20\n",
      "13/13 [==============================] - 4s 323ms/step - loss: 0.0149 - val_loss: 0.1150\n",
      "Epoch 13/20\n",
      "13/13 [==============================] - 4s 305ms/step - loss: 0.0147 - val_loss: 0.1101\n",
      "Epoch 14/20\n",
      "13/13 [==============================] - 4s 303ms/step - loss: 0.0152 - val_loss: 0.1084\n",
      "Epoch 15/20\n",
      "13/13 [==============================] - 4s 302ms/step - loss: 0.0134 - val_loss: 0.1177\n",
      "Epoch 16/20\n",
      "13/13 [==============================] - 4s 316ms/step - loss: 0.0158 - val_loss: 0.1081\n",
      "Epoch 17/20\n",
      "13/13 [==============================] - 4s 302ms/step - loss: 0.0138 - val_loss: 0.1179\n",
      "Epoch 18/20\n",
      "13/13 [==============================] - 5s 363ms/step - loss: 0.0117 - val_loss: 0.1067\n",
      "Epoch 19/20\n",
      "13/13 [==============================] - 4s 280ms/step - loss: 0.0113 - val_loss: 0.1098\n",
      "Epoch 20/20\n",
      "13/13 [==============================] - 4s 319ms/step - loss: 0.0126 - val_loss: 0.1059\n",
      "0.05 32\n",
      "Epoch 1/20\n",
      "7/7 [==============================] - 9s 541ms/step - loss: 0.6556 - val_loss: 0.3633\n",
      "Epoch 2/20\n",
      "7/7 [==============================] - 2s 333ms/step - loss: 0.1924 - val_loss: 0.1501\n",
      "Epoch 3/20\n",
      "7/7 [==============================] - 2s 353ms/step - loss: 0.1377 - val_loss: 0.1435\n",
      "Epoch 4/20\n",
      "7/7 [==============================] - 2s 333ms/step - loss: 0.0901 - val_loss: 0.1209\n",
      "Epoch 5/20\n",
      "7/7 [==============================] - 2s 340ms/step - loss: 0.0573 - val_loss: 0.1069\n",
      "Epoch 6/20\n",
      "7/7 [==============================] - 2s 341ms/step - loss: 0.0430 - val_loss: 0.0983\n",
      "Epoch 7/20\n",
      "7/7 [==============================] - 2s 337ms/step - loss: 0.0315 - val_loss: 0.1017\n",
      "Epoch 8/20\n",
      "7/7 [==============================] - 2s 345ms/step - loss: 0.0276 - val_loss: 0.1084\n",
      "Epoch 9/20\n",
      "7/7 [==============================] - 2s 369ms/step - loss: 0.0246 - val_loss: 0.1061\n",
      "Epoch 10/20\n",
      "7/7 [==============================] - 2s 349ms/step - loss: 0.0217 - val_loss: 0.1052\n",
      "Epoch 11/20\n",
      "7/7 [==============================] - 2s 329ms/step - loss: 0.0192 - val_loss: 0.1020\n",
      "Epoch 12/20\n",
      "7/7 [==============================] - 2s 323ms/step - loss: 0.0181 - val_loss: 0.1064\n",
      "Epoch 13/20\n",
      "7/7 [==============================] - 2s 320ms/step - loss: 0.0189 - val_loss: 0.1161\n",
      "Epoch 14/20\n",
      "7/7 [==============================] - 2s 323ms/step - loss: 0.0173 - val_loss: 0.1066\n",
      "Epoch 15/20\n",
      "7/7 [==============================] - 2s 326ms/step - loss: 0.0146 - val_loss: 0.1153\n",
      "Epoch 16/20\n",
      "7/7 [==============================] - 2s 319ms/step - loss: 0.0172 - val_loss: 0.1233\n",
      "Epoch 17/20\n",
      "7/7 [==============================] - 2s 322ms/step - loss: 0.0125 - val_loss: 0.1163\n",
      "Epoch 18/20\n",
      "7/7 [==============================] - 2s 320ms/step - loss: 0.0150 - val_loss: 0.1171\n",
      "Epoch 19/20\n",
      "7/7 [==============================] - 2s 322ms/step - loss: 0.0124 - val_loss: 0.1123\n",
      "Epoch 20/20\n",
      "7/7 [==============================] - 2s 321ms/step - loss: 0.0161 - val_loss: 0.1144\n",
      "0.05 64\n",
      "Epoch 1/20\n",
      "4/4 [==============================] - 8s 938ms/step - loss: 0.8062 - val_loss: 0.5840\n",
      "Epoch 2/20\n",
      "4/4 [==============================] - 2s 621ms/step - loss: 0.4021 - val_loss: 0.2969\n",
      "Epoch 3/20\n",
      "4/4 [==============================] - 2s 621ms/step - loss: 0.2027 - val_loss: 0.1867\n",
      "Epoch 4/20\n",
      "4/4 [==============================] - 2s 620ms/step - loss: 0.1473 - val_loss: 0.1660\n",
      "Epoch 5/20\n",
      "4/4 [==============================] - 2s 623ms/step - loss: 0.1487 - val_loss: 0.1513\n",
      "Epoch 6/20\n",
      "4/4 [==============================] - 2s 632ms/step - loss: 0.1167 - val_loss: 0.1277\n",
      "Epoch 7/20\n",
      "4/4 [==============================] - 2s 624ms/step - loss: 0.0874 - val_loss: 0.1088\n",
      "Epoch 8/20\n",
      "4/4 [==============================] - 2s 625ms/step - loss: 0.0543 - val_loss: 0.1105\n",
      "Epoch 9/20\n",
      "4/4 [==============================] - 2s 619ms/step - loss: 0.0523 - val_loss: 0.1112\n",
      "Epoch 10/20\n",
      "4/4 [==============================] - 2s 639ms/step - loss: 0.0470 - val_loss: 0.1087\n",
      "Epoch 11/20\n",
      "4/4 [==============================] - 2s 634ms/step - loss: 0.0376 - val_loss: 0.1106\n",
      "Epoch 12/20\n",
      "4/4 [==============================] - 2s 625ms/step - loss: 0.0363 - val_loss: 0.1059\n",
      "Epoch 13/20\n",
      "4/4 [==============================] - 2s 632ms/step - loss: 0.0313 - val_loss: 0.1069\n",
      "Epoch 14/20\n",
      "4/4 [==============================] - 2s 628ms/step - loss: 0.0278 - val_loss: 0.1111\n",
      "Epoch 15/20\n",
      "4/4 [==============================] - 2s 637ms/step - loss: 0.0295 - val_loss: 0.1210\n",
      "Epoch 16/20\n",
      "4/4 [==============================] - 2s 646ms/step - loss: 0.0250 - val_loss: 0.1494\n",
      "Epoch 17/20\n",
      "4/4 [==============================] - 2s 639ms/step - loss: 0.0290 - val_loss: 0.1436\n",
      "Epoch 18/20\n",
      "4/4 [==============================] - 2s 626ms/step - loss: 0.0264 - val_loss: 0.1133\n",
      "Epoch 19/20\n",
      "4/4 [==============================] - 2s 651ms/step - loss: 0.0263 - val_loss: 0.1002\n",
      "Epoch 20/20\n",
      "4/4 [==============================] - 3s 706ms/step - loss: 0.0303 - val_loss: 0.1000\n",
      "0.1 4\n",
      "Epoch 1/20\n",
      "49/49 [==============================] - 14s 204ms/step - loss: 0.2969 - val_loss: 0.1282\n",
      "Epoch 2/20\n",
      "49/49 [==============================] - 9s 181ms/step - loss: 0.0536 - val_loss: 0.1229\n",
      "Epoch 3/20\n",
      "49/49 [==============================] - 9s 175ms/step - loss: 0.0335 - val_loss: 0.1155\n",
      "Epoch 4/20\n",
      "49/49 [==============================] - 9s 174ms/step - loss: 0.0330 - val_loss: 0.1191\n",
      "Epoch 5/20\n",
      "49/49 [==============================] - 10s 200ms/step - loss: 0.0239 - val_loss: 0.1269\n",
      "Epoch 6/20\n",
      "49/49 [==============================] - 10s 212ms/step - loss: 0.0232 - val_loss: 0.1585\n",
      "Epoch 7/20\n",
      "49/49 [==============================] - 11s 234ms/step - loss: 0.0237 - val_loss: 0.1271\n",
      "Epoch 8/20\n",
      "49/49 [==============================] - 9s 193ms/step - loss: 0.0248 - val_loss: 0.1242\n",
      "Epoch 9/20\n",
      "49/49 [==============================] - 9s 182ms/step - loss: 0.0238 - val_loss: 0.0997\n",
      "Epoch 10/20\n",
      "49/49 [==============================] - 9s 175ms/step - loss: 0.0234 - val_loss: 0.1024\n",
      "Epoch 11/20\n",
      "49/49 [==============================] - 9s 184ms/step - loss: 0.0213 - val_loss: 0.1182\n",
      "Epoch 12/20\n",
      "49/49 [==============================] - 9s 182ms/step - loss: 0.0252 - val_loss: 0.1181\n",
      "Epoch 13/20\n",
      "49/49 [==============================] - 9s 175ms/step - loss: 0.0180 - val_loss: 0.1356\n",
      "Epoch 14/20\n",
      "49/49 [==============================] - 9s 178ms/step - loss: 0.0162 - val_loss: 0.1168\n",
      "Epoch 15/20\n",
      "49/49 [==============================] - 9s 181ms/step - loss: 0.0220 - val_loss: 0.0963\n",
      "Epoch 16/20\n",
      "49/49 [==============================] - 9s 177ms/step - loss: 0.0200 - val_loss: 0.1076\n",
      "Epoch 17/20\n",
      "49/49 [==============================] - 8s 172ms/step - loss: 0.0188 - val_loss: 0.1029\n",
      "Epoch 18/20\n",
      "49/49 [==============================] - 9s 176ms/step - loss: 0.0170 - val_loss: 0.1042\n",
      "Epoch 19/20\n",
      "49/49 [==============================] - 9s 179ms/step - loss: 0.0163 - val_loss: 0.1150\n",
      "Epoch 20/20\n",
      "49/49 [==============================] - 9s 176ms/step - loss: 0.0144 - val_loss: 0.1121\n",
      "0.1 8\n",
      "Epoch 1/20\n",
      "25/25 [==============================] - 11s 247ms/step - loss: 0.3777 - val_loss: 0.1647\n",
      "Epoch 2/20\n",
      "25/25 [==============================] - 5s 202ms/step - loss: 0.0882 - val_loss: 0.1207\n",
      "Epoch 3/20\n",
      "25/25 [==============================] - 5s 203ms/step - loss: 0.0426 - val_loss: 0.1126\n",
      "Epoch 4/20\n",
      "25/25 [==============================] - 5s 202ms/step - loss: 0.0383 - val_loss: 0.0978\n",
      "Epoch 5/20\n",
      "25/25 [==============================] - 5s 209ms/step - loss: 0.0233 - val_loss: 0.1091\n",
      "Epoch 6/20\n",
      "25/25 [==============================] - 5s 210ms/step - loss: 0.0258 - val_loss: 0.1121\n",
      "Epoch 7/20\n",
      "25/25 [==============================] - 5s 218ms/step - loss: 0.0230 - val_loss: 0.1151\n",
      "Epoch 8/20\n",
      "25/25 [==============================] - 5s 220ms/step - loss: 0.0224 - val_loss: 0.0997\n",
      "Epoch 9/20\n",
      "25/25 [==============================] - 5s 203ms/step - loss: 0.0216 - val_loss: 0.1068\n",
      "Epoch 10/20\n",
      "25/25 [==============================] - 6s 242ms/step - loss: 0.0206 - val_loss: 0.1059\n",
      "Epoch 11/20\n",
      "25/25 [==============================] - 7s 301ms/step - loss: 0.0218 - val_loss: 0.0949\n",
      "Epoch 12/20\n",
      "25/25 [==============================] - 5s 203ms/step - loss: 0.0270 - val_loss: 0.1277\n",
      "Epoch 13/20\n",
      "25/25 [==============================] - 5s 210ms/step - loss: 0.0207 - val_loss: 0.1363\n",
      "Epoch 14/20\n",
      "25/25 [==============================] - 5s 197ms/step - loss: 0.0218 - val_loss: 0.0988\n",
      "Epoch 15/20\n",
      "25/25 [==============================] - 5s 212ms/step - loss: 0.0176 - val_loss: 0.0915\n",
      "Epoch 16/20\n",
      "25/25 [==============================] - 5s 207ms/step - loss: 0.0173 - val_loss: 0.0987\n",
      "Epoch 17/20\n",
      "25/25 [==============================] - 5s 202ms/step - loss: 0.0174 - val_loss: 0.1121\n",
      "Epoch 18/20\n",
      "25/25 [==============================] - 5s 216ms/step - loss: 0.0178 - val_loss: 0.1042\n",
      "Epoch 19/20\n",
      "25/25 [==============================] - 5s 202ms/step - loss: 0.0180 - val_loss: 0.1025\n",
      "Epoch 20/20\n",
      "25/25 [==============================] - 5s 204ms/step - loss: 0.0167 - val_loss: 0.0994\n",
      "0.1 16\n",
      "Epoch 1/20\n",
      "13/13 [==============================] - 11s 422ms/step - loss: 0.4853 - val_loss: 0.1942\n",
      "Epoch 2/20\n",
      "13/13 [==============================] - 4s 339ms/step - loss: 0.1351 - val_loss: 0.1229\n",
      "Epoch 3/20\n",
      "13/13 [==============================] - 4s 315ms/step - loss: 0.0631 - val_loss: 0.1238\n",
      "Epoch 4/20\n",
      "13/13 [==============================] - 4s 311ms/step - loss: 0.0464 - val_loss: 0.1111\n",
      "Epoch 5/20\n",
      "13/13 [==============================] - 4s 309ms/step - loss: 0.0326 - val_loss: 0.1238\n",
      "Epoch 6/20\n",
      "13/13 [==============================] - 4s 305ms/step - loss: 0.0310 - val_loss: 0.1043\n",
      "Epoch 7/20\n",
      "13/13 [==============================] - 4s 305ms/step - loss: 0.0287 - val_loss: 0.1142\n",
      "Epoch 8/20\n",
      "13/13 [==============================] - 4s 325ms/step - loss: 0.0260 - val_loss: 0.1232\n",
      "Epoch 9/20\n",
      "13/13 [==============================] - 4s 306ms/step - loss: 0.0230 - val_loss: 0.1125\n",
      "Epoch 10/20\n",
      "13/13 [==============================] - 4s 304ms/step - loss: 0.0240 - val_loss: 0.1101\n",
      "Epoch 11/20\n",
      "13/13 [==============================] - 4s 309ms/step - loss: 0.0237 - val_loss: 0.1062\n",
      "Epoch 12/20\n",
      "13/13 [==============================] - 4s 309ms/step - loss: 0.0224 - val_loss: 0.1158\n",
      "Epoch 13/20\n",
      "13/13 [==============================] - 4s 315ms/step - loss: 0.0202 - val_loss: 0.1210\n",
      "Epoch 14/20\n",
      "13/13 [==============================] - 4s 316ms/step - loss: 0.0193 - val_loss: 0.1081\n",
      "Epoch 15/20\n",
      "13/13 [==============================] - 4s 327ms/step - loss: 0.0184 - val_loss: 0.1185\n",
      "Epoch 16/20\n",
      "13/13 [==============================] - 4s 325ms/step - loss: 0.0191 - val_loss: 0.1096\n",
      "Epoch 17/20\n",
      "13/13 [==============================] - 4s 333ms/step - loss: 0.0180 - val_loss: 0.1272\n",
      "Epoch 18/20\n",
      "13/13 [==============================] - 4s 309ms/step - loss: 0.0176 - val_loss: 0.1063\n",
      "Epoch 19/20\n",
      "13/13 [==============================] - 4s 316ms/step - loss: 0.0168 - val_loss: 0.1174\n",
      "Epoch 20/20\n",
      "13/13 [==============================] - 4s 318ms/step - loss: 0.0188 - val_loss: 0.1107\n",
      "0.1 32\n",
      "Epoch 1/20\n",
      "7/7 [==============================] - 9s 514ms/step - loss: 0.6600 - val_loss: 0.3683\n",
      "Epoch 2/20\n",
      "7/7 [==============================] - 2s 333ms/step - loss: 0.2020 - val_loss: 0.1502\n",
      "Epoch 3/20\n",
      "7/7 [==============================] - 2s 333ms/step - loss: 0.1444 - val_loss: 0.1378\n",
      "Epoch 4/20\n",
      "7/7 [==============================] - 2s 347ms/step - loss: 0.0957 - val_loss: 0.1262\n",
      "Epoch 5/20\n",
      "7/7 [==============================] - 2s 356ms/step - loss: 0.0601 - val_loss: 0.1157\n",
      "Epoch 6/20\n",
      "7/7 [==============================] - 2s 336ms/step - loss: 0.0475 - val_loss: 0.1015\n",
      "Epoch 7/20\n",
      "7/7 [==============================] - 2s 333ms/step - loss: 0.0364 - val_loss: 0.1051\n",
      "Epoch 8/20\n",
      "7/7 [==============================] - 2s 340ms/step - loss: 0.0327 - val_loss: 0.1115\n",
      "Epoch 9/20\n",
      "7/7 [==============================] - 2s 349ms/step - loss: 0.0277 - val_loss: 0.1147\n",
      "Epoch 10/20\n",
      "7/7 [==============================] - 2s 343ms/step - loss: 0.0258 - val_loss: 0.1104\n",
      "Epoch 11/20\n",
      "7/7 [==============================] - 2s 338ms/step - loss: 0.0236 - val_loss: 0.1136\n",
      "Epoch 12/20\n",
      "7/7 [==============================] - 2s 344ms/step - loss: 0.0223 - val_loss: 0.1144\n",
      "Epoch 13/20\n",
      "7/7 [==============================] - 2s 342ms/step - loss: 0.0216 - val_loss: 0.1218\n",
      "Epoch 14/20\n",
      "7/7 [==============================] - 2s 335ms/step - loss: 0.0219 - val_loss: 0.1110\n",
      "Epoch 15/20\n",
      "7/7 [==============================] - 2s 336ms/step - loss: 0.0187 - val_loss: 0.1185\n",
      "Epoch 16/20\n",
      "7/7 [==============================] - 2s 336ms/step - loss: 0.0215 - val_loss: 0.1263\n",
      "Epoch 17/20\n",
      "7/7 [==============================] - 2s 348ms/step - loss: 0.0170 - val_loss: 0.1307\n",
      "Epoch 18/20\n",
      "7/7 [==============================] - 2s 333ms/step - loss: 0.0196 - val_loss: 0.1281\n",
      "Epoch 19/20\n",
      "7/7 [==============================] - 2s 348ms/step - loss: 0.0189 - val_loss: 0.1169\n",
      "Epoch 20/20\n",
      "7/7 [==============================] - 2s 331ms/step - loss: 0.0217 - val_loss: 0.1155\n",
      "0.1 64\n",
      "Epoch 1/20\n",
      "4/4 [==============================] - 8s 952ms/step - loss: 0.8086 - val_loss: 0.5866\n",
      "Epoch 2/20\n",
      "4/4 [==============================] - 2s 630ms/step - loss: 0.4082 - val_loss: 0.3014\n",
      "Epoch 3/20\n",
      "4/4 [==============================] - 2s 624ms/step - loss: 0.2127 - val_loss: 0.1871\n",
      "Epoch 4/20\n",
      "4/4 [==============================] - 2s 631ms/step - loss: 0.1519 - val_loss: 0.1653\n",
      "Epoch 5/20\n",
      "4/4 [==============================] - 2s 615ms/step - loss: 0.1487 - val_loss: 0.1596\n",
      "Epoch 6/20\n",
      "4/4 [==============================] - 2s 608ms/step - loss: 0.1246 - val_loss: 0.1383\n",
      "Epoch 7/20\n",
      "4/4 [==============================] - 2s 613ms/step - loss: 0.0900 - val_loss: 0.1126\n",
      "Epoch 8/20\n",
      "4/4 [==============================] - 2s 612ms/step - loss: 0.0624 - val_loss: 0.1087\n",
      "Epoch 9/20\n",
      "4/4 [==============================] - 2s 634ms/step - loss: 0.0570 - val_loss: 0.1085\n",
      "Epoch 10/20\n",
      "4/4 [==============================] - 2s 636ms/step - loss: 0.0554 - val_loss: 0.1078\n",
      "Epoch 11/20\n",
      "4/4 [==============================] - 2s 643ms/step - loss: 0.0444 - val_loss: 0.1153\n",
      "Epoch 12/20\n",
      "4/4 [==============================] - 2s 625ms/step - loss: 0.0420 - val_loss: 0.1142\n",
      "Epoch 13/20\n",
      "4/4 [==============================] - 2s 619ms/step - loss: 0.0356 - val_loss: 0.1137\n",
      "Epoch 14/20\n",
      "4/4 [==============================] - 2s 637ms/step - loss: 0.0323 - val_loss: 0.1143\n",
      "Epoch 15/20\n",
      "4/4 [==============================] - 2s 639ms/step - loss: 0.0351 - val_loss: 0.1228\n",
      "Epoch 16/20\n",
      "4/4 [==============================] - 2s 627ms/step - loss: 0.0287 - val_loss: 0.1505\n",
      "Epoch 17/20\n",
      "4/4 [==============================] - 2s 621ms/step - loss: 0.0313 - val_loss: 0.1492\n",
      "Epoch 18/20\n",
      "4/4 [==============================] - 2s 619ms/step - loss: 0.0301 - val_loss: 0.1244\n",
      "Epoch 19/20\n",
      "4/4 [==============================] - 2s 615ms/step - loss: 0.0321 - val_loss: 0.1105\n",
      "Epoch 20/20\n",
      "4/4 [==============================] - 2s 629ms/step - loss: 0.0325 - val_loss: 0.1067\n",
      "0.2 4\n",
      "Epoch 1/20\n",
      "49/49 [==============================] - 15s 220ms/step - loss: 0.3051 - val_loss: 0.1240\n",
      "Epoch 2/20\n",
      "49/49 [==============================] - 10s 198ms/step - loss: 0.0709 - val_loss: 0.1354\n",
      "Epoch 3/20\n",
      "49/49 [==============================] - 10s 199ms/step - loss: 0.0483 - val_loss: 0.1044\n",
      "Epoch 4/20\n",
      "49/49 [==============================] - 10s 199ms/step - loss: 0.0411 - val_loss: 0.1426\n",
      "Epoch 5/20\n",
      "49/49 [==============================] - 10s 198ms/step - loss: 0.0291 - val_loss: 0.1167\n",
      "Epoch 6/20\n",
      "49/49 [==============================] - 11s 227ms/step - loss: 0.0303 - val_loss: 0.1580\n",
      "Epoch 7/20\n",
      "49/49 [==============================] - 11s 218ms/step - loss: 0.0327 - val_loss: 0.1229\n",
      "Epoch 8/20\n",
      "49/49 [==============================] - 10s 205ms/step - loss: 0.0357 - val_loss: 0.1391\n",
      "Epoch 9/20\n",
      "49/49 [==============================] - 10s 202ms/step - loss: 0.0286 - val_loss: 0.1064\n",
      "Epoch 10/20\n",
      "49/49 [==============================] - 10s 197ms/step - loss: 0.0317 - val_loss: 0.1152\n",
      "Epoch 11/20\n",
      "49/49 [==============================] - 10s 197ms/step - loss: 0.0249 - val_loss: 0.1330\n",
      "Epoch 12/20\n",
      "49/49 [==============================] - 10s 201ms/step - loss: 0.0303 - val_loss: 0.1307\n",
      "Epoch 13/20\n",
      "49/49 [==============================] - 10s 200ms/step - loss: 0.0232 - val_loss: 0.1455\n",
      "Epoch 14/20\n",
      "49/49 [==============================] - 9s 194ms/step - loss: 0.0314 - val_loss: 0.1374\n",
      "Epoch 15/20\n",
      "49/49 [==============================] - 10s 199ms/step - loss: 0.0304 - val_loss: 0.1008\n",
      "Epoch 16/20\n",
      "49/49 [==============================] - 10s 199ms/step - loss: 0.0248 - val_loss: 0.1166\n",
      "Epoch 17/20\n",
      "49/49 [==============================] - 10s 203ms/step - loss: 0.0241 - val_loss: 0.1242\n",
      "Epoch 18/20\n",
      "49/49 [==============================] - 10s 200ms/step - loss: 0.0246 - val_loss: 0.1153\n",
      "Epoch 19/20\n",
      "49/49 [==============================] - 10s 202ms/step - loss: 0.0228 - val_loss: 0.1246\n",
      "Epoch 20/20\n",
      "49/49 [==============================] - 10s 197ms/step - loss: 0.0187 - val_loss: 0.1237\n",
      "0.2 8\n",
      "Epoch 1/20\n",
      "25/25 [==============================] - 11s 250ms/step - loss: 0.3807 - val_loss: 0.1644\n",
      "Epoch 2/20\n",
      "25/25 [==============================] - 5s 210ms/step - loss: 0.1173 - val_loss: 0.1359\n",
      "Epoch 3/20\n",
      "25/25 [==============================] - 5s 214ms/step - loss: 0.0581 - val_loss: 0.0983\n",
      "Epoch 4/20\n",
      "25/25 [==============================] - 5s 218ms/step - loss: 0.0531 - val_loss: 0.0989\n",
      "Epoch 5/20\n",
      "25/25 [==============================] - 5s 213ms/step - loss: 0.0327 - val_loss: 0.1365\n",
      "Epoch 6/20\n",
      "25/25 [==============================] - 5s 210ms/step - loss: 0.0359 - val_loss: 0.1182\n",
      "Epoch 7/20\n",
      "25/25 [==============================] - 5s 210ms/step - loss: 0.0333 - val_loss: 0.1146\n",
      "Epoch 8/20\n",
      "25/25 [==============================] - 5s 221ms/step - loss: 0.0334 - val_loss: 0.0916\n",
      "Epoch 9/20\n",
      "25/25 [==============================] - 5s 220ms/step - loss: 0.0313 - val_loss: 0.1281\n",
      "Epoch 10/20\n",
      "25/25 [==============================] - 5s 217ms/step - loss: 0.0321 - val_loss: 0.1158\n",
      "Epoch 11/20\n",
      "25/25 [==============================] - 5s 215ms/step - loss: 0.0277 - val_loss: 0.1006\n",
      "Epoch 12/20\n",
      "25/25 [==============================] - 5s 215ms/step - loss: 0.0325 - val_loss: 0.1255\n",
      "Epoch 13/20\n",
      "25/25 [==============================] - 5s 214ms/step - loss: 0.0273 - val_loss: 0.1279\n",
      "Epoch 14/20\n",
      "25/25 [==============================] - 5s 218ms/step - loss: 0.0297 - val_loss: 0.1027\n",
      "Epoch 15/20\n",
      "25/25 [==============================] - 5s 219ms/step - loss: 0.0271 - val_loss: 0.0966\n",
      "Epoch 16/20\n",
      "25/25 [==============================] - 5s 212ms/step - loss: 0.0239 - val_loss: 0.0982\n",
      "Epoch 17/20\n",
      "25/25 [==============================] - 5s 210ms/step - loss: 0.0241 - val_loss: 0.1151\n",
      "Epoch 18/20\n",
      "25/25 [==============================] - 5s 215ms/step - loss: 0.0236 - val_loss: 0.1091\n",
      "Epoch 19/20\n",
      "25/25 [==============================] - 5s 221ms/step - loss: 0.0250 - val_loss: 0.1020\n",
      "Epoch 20/20\n",
      "25/25 [==============================] - 6s 227ms/step - loss: 0.0213 - val_loss: 0.1012\n",
      "0.2 16\n",
      "Epoch 1/20\n",
      "13/13 [==============================] - 10s 393ms/step - loss: 0.4961 - val_loss: 0.2016\n",
      "Epoch 2/20\n",
      "13/13 [==============================] - 3s 266ms/step - loss: 0.1617 - val_loss: 0.1315\n",
      "Epoch 3/20\n",
      "13/13 [==============================] - 3s 265ms/step - loss: 0.0807 - val_loss: 0.1213\n",
      "Epoch 4/20\n",
      "13/13 [==============================] - 3s 265ms/step - loss: 0.0664 - val_loss: 0.1227\n",
      "Epoch 5/20\n",
      "13/13 [==============================] - 3s 267ms/step - loss: 0.0428 - val_loss: 0.1355\n",
      "Epoch 6/20\n",
      "13/13 [==============================] - 3s 261ms/step - loss: 0.0372 - val_loss: 0.1086\n",
      "Epoch 7/20\n",
      "13/13 [==============================] - 3s 262ms/step - loss: 0.0389 - val_loss: 0.1071\n",
      "Epoch 8/20\n",
      "13/13 [==============================] - 3s 263ms/step - loss: 0.0349 - val_loss: 0.1114\n",
      "Epoch 9/20\n",
      "13/13 [==============================] - 3s 262ms/step - loss: 0.0324 - val_loss: 0.1061\n",
      "Epoch 10/20\n",
      "13/13 [==============================] - 3s 266ms/step - loss: 0.0373 - val_loss: 0.1344\n",
      "Epoch 11/20\n",
      "13/13 [==============================] - 3s 259ms/step - loss: 0.0373 - val_loss: 0.1042\n",
      "Epoch 12/20\n",
      "13/13 [==============================] - 3s 271ms/step - loss: 0.0309 - val_loss: 0.1055\n",
      "Epoch 13/20\n",
      "13/13 [==============================] - 3s 261ms/step - loss: 0.0294 - val_loss: 0.1219\n",
      "Epoch 14/20\n",
      "13/13 [==============================] - 3s 257ms/step - loss: 0.0322 - val_loss: 0.1204\n",
      "Epoch 15/20\n",
      "13/13 [==============================] - 3s 262ms/step - loss: 0.0275 - val_loss: 0.1091\n",
      "Epoch 16/20\n",
      "13/13 [==============================] - 3s 259ms/step - loss: 0.0256 - val_loss: 0.1094\n",
      "Epoch 17/20\n",
      "13/13 [==============================] - 3s 261ms/step - loss: 0.0243 - val_loss: 0.1249\n",
      "Epoch 18/20\n",
      "13/13 [==============================] - 3s 257ms/step - loss: 0.0241 - val_loss: 0.1052\n",
      "Epoch 19/20\n",
      "13/13 [==============================] - 3s 259ms/step - loss: 0.0248 - val_loss: 0.1165\n",
      "Epoch 20/20\n",
      "13/13 [==============================] - 3s 266ms/step - loss: 0.0256 - val_loss: 0.0965\n",
      "0.2 32\n",
      "Epoch 1/20\n",
      "7/7 [==============================] - 8s 481ms/step - loss: 0.6517 - val_loss: 0.3792\n",
      "Epoch 2/20\n",
      "7/7 [==============================] - 2s 334ms/step - loss: 0.2117 - val_loss: 0.1577\n",
      "Epoch 3/20\n",
      "7/7 [==============================] - 2s 330ms/step - loss: 0.1554 - val_loss: 0.1516\n",
      "Epoch 4/20\n",
      "7/7 [==============================] - 2s 334ms/step - loss: 0.1241 - val_loss: 0.1364\n",
      "Epoch 5/20\n",
      "7/7 [==============================] - 2s 336ms/step - loss: 0.0727 - val_loss: 0.1245\n",
      "Epoch 6/20\n",
      "7/7 [==============================] - 2s 334ms/step - loss: 0.0615 - val_loss: 0.1134\n",
      "Epoch 7/20\n",
      "7/7 [==============================] - 2s 335ms/step - loss: 0.0471 - val_loss: 0.1094\n",
      "Epoch 8/20\n",
      "7/7 [==============================] - 2s 346ms/step - loss: 0.0461 - val_loss: 0.1094\n",
      "Epoch 9/20\n",
      "7/7 [==============================] - 2s 351ms/step - loss: 0.0414 - val_loss: 0.1046\n",
      "Epoch 10/20\n",
      "7/7 [==============================] - 2s 336ms/step - loss: 0.0415 - val_loss: 0.1116\n",
      "Epoch 11/20\n",
      "7/7 [==============================] - 2s 329ms/step - loss: 0.0348 - val_loss: 0.1205\n",
      "Epoch 12/20\n",
      "7/7 [==============================] - 2s 331ms/step - loss: 0.0379 - val_loss: 0.1133\n",
      "Epoch 13/20\n",
      "7/7 [==============================] - 2s 339ms/step - loss: 0.0332 - val_loss: 0.1218\n",
      "Epoch 14/20\n",
      "7/7 [==============================] - 2s 333ms/step - loss: 0.0376 - val_loss: 0.1222\n",
      "Epoch 15/20\n",
      "7/7 [==============================] - 2s 338ms/step - loss: 0.0316 - val_loss: 0.1287\n",
      "Epoch 16/20\n",
      "7/7 [==============================] - 2s 345ms/step - loss: 0.0323 - val_loss: 0.1242\n",
      "Epoch 17/20\n",
      "7/7 [==============================] - 2s 343ms/step - loss: 0.0291 - val_loss: 0.1297\n",
      "Epoch 18/20\n",
      "7/7 [==============================] - 2s 334ms/step - loss: 0.0308 - val_loss: 0.1331\n",
      "Epoch 19/20\n",
      "7/7 [==============================] - 2s 334ms/step - loss: 0.0257 - val_loss: 0.1094\n",
      "Epoch 20/20\n",
      "7/7 [==============================] - 2s 333ms/step - loss: 0.0293 - val_loss: 0.0990\n",
      "0.2 64\n",
      "Epoch 1/20\n",
      "4/4 [==============================] - 9s 968ms/step - loss: 0.8112 - val_loss: 0.5942\n",
      "Epoch 2/20\n",
      "4/4 [==============================] - 2s 666ms/step - loss: 0.4159 - val_loss: 0.3149\n",
      "Epoch 3/20\n",
      "4/4 [==============================] - 2s 655ms/step - loss: 0.2376 - val_loss: 0.2004\n",
      "Epoch 4/20\n",
      "4/4 [==============================] - 2s 635ms/step - loss: 0.1772 - val_loss: 0.1723\n",
      "Epoch 5/20\n",
      "4/4 [==============================] - 2s 637ms/step - loss: 0.1493 - val_loss: 0.1574\n",
      "Epoch 6/20\n",
      "4/4 [==============================] - 2s 646ms/step - loss: 0.1279 - val_loss: 0.1380\n",
      "Epoch 7/20\n",
      "4/4 [==============================] - 3s 664ms/step - loss: 0.1053 - val_loss: 0.1189\n",
      "Epoch 8/20\n",
      "4/4 [==============================] - 3s 676ms/step - loss: 0.0854 - val_loss: 0.1207\n",
      "Epoch 9/20\n",
      "4/4 [==============================] - 2s 654ms/step - loss: 0.0759 - val_loss: 0.1169\n",
      "Epoch 10/20\n",
      "4/4 [==============================] - 3s 707ms/step - loss: 0.0637 - val_loss: 0.1142\n",
      "Epoch 11/20\n",
      "4/4 [==============================] - 2s 670ms/step - loss: 0.0547 - val_loss: 0.1211\n",
      "Epoch 12/20\n",
      "4/4 [==============================] - 2s 656ms/step - loss: 0.0576 - val_loss: 0.1231\n",
      "Epoch 13/20\n",
      "4/4 [==============================] - 3s 683ms/step - loss: 0.0591 - val_loss: 0.1166\n",
      "Epoch 14/20\n",
      "4/4 [==============================] - 2s 646ms/step - loss: 0.0444 - val_loss: 0.1120\n",
      "Epoch 15/20\n",
      "4/4 [==============================] - 2s 655ms/step - loss: 0.0519 - val_loss: 0.1187\n",
      "Epoch 16/20\n",
      "4/4 [==============================] - 2s 645ms/step - loss: 0.0416 - val_loss: 0.1447\n",
      "Epoch 17/20\n",
      "4/4 [==============================] - 2s 653ms/step - loss: 0.0428 - val_loss: 0.1560\n",
      "Epoch 18/20\n",
      "4/4 [==============================] - 2s 664ms/step - loss: 0.0443 - val_loss: 0.1406\n",
      "Epoch 19/20\n",
      "4/4 [==============================] - 2s 653ms/step - loss: 0.0376 - val_loss: 0.1235\n",
      "Epoch 20/20\n",
      "4/4 [==============================] - 2s 667ms/step - loss: 0.0365 - val_loss: 0.1094\n",
      "0.3 4\n",
      "Epoch 1/20\n",
      "49/49 [==============================] - 15s 226ms/step - loss: 0.3280 - val_loss: 0.1368\n",
      "Epoch 2/20\n",
      "49/49 [==============================] - 10s 205ms/step - loss: 0.0894 - val_loss: 0.1526\n",
      "Epoch 3/20\n",
      "49/49 [==============================] - 10s 204ms/step - loss: 0.0604 - val_loss: 0.0975\n",
      "Epoch 4/20\n",
      "49/49 [==============================] - 10s 208ms/step - loss: 0.0561 - val_loss: 0.1409\n",
      "Epoch 5/20\n",
      "49/49 [==============================] - 11s 218ms/step - loss: 0.0504 - val_loss: 0.1361\n",
      "Epoch 6/20\n",
      "49/49 [==============================] - 10s 215ms/step - loss: 0.0401 - val_loss: 0.1507\n",
      "Epoch 7/20\n",
      "49/49 [==============================] - 10s 205ms/step - loss: 0.0436 - val_loss: 0.1056\n",
      "Epoch 8/20\n",
      "49/49 [==============================] - 10s 201ms/step - loss: 0.0523 - val_loss: 0.1153\n",
      "Epoch 9/20\n",
      "49/49 [==============================] - 10s 211ms/step - loss: 0.0398 - val_loss: 0.0768\n",
      "Epoch 10/20\n",
      "49/49 [==============================] - 10s 206ms/step - loss: 0.0493 - val_loss: 0.1234\n",
      "Epoch 11/20\n",
      "49/49 [==============================] - 10s 209ms/step - loss: 0.0367 - val_loss: 0.1310\n",
      "Epoch 12/20\n",
      "49/49 [==============================] - 10s 211ms/step - loss: 0.0397 - val_loss: 0.1454\n",
      "Epoch 13/20\n",
      "49/49 [==============================] - 10s 210ms/step - loss: 0.0331 - val_loss: 0.1371\n",
      "Epoch 14/20\n",
      "49/49 [==============================] - 10s 210ms/step - loss: 0.0336 - val_loss: 0.1179\n",
      "Epoch 15/20\n",
      "49/49 [==============================] - 10s 201ms/step - loss: 0.0304 - val_loss: 0.1072\n",
      "Epoch 16/20\n",
      "49/49 [==============================] - 10s 210ms/step - loss: 0.0309 - val_loss: 0.1197\n",
      "Epoch 17/20\n",
      "49/49 [==============================] - 10s 206ms/step - loss: 0.0294 - val_loss: 0.1082\n",
      "Epoch 18/20\n",
      "49/49 [==============================] - 10s 211ms/step - loss: 0.0292 - val_loss: 0.1135\n",
      "Epoch 19/20\n",
      "49/49 [==============================] - 10s 205ms/step - loss: 0.0312 - val_loss: 0.1170\n",
      "Epoch 20/20\n",
      "49/49 [==============================] - 10s 204ms/step - loss: 0.0226 - val_loss: 0.1206\n",
      "0.3 8\n",
      "Epoch 1/20\n",
      "25/25 [==============================] - 11s 248ms/step - loss: 0.3970 - val_loss: 0.1657\n",
      "Epoch 2/20\n",
      "25/25 [==============================] - 5s 210ms/step - loss: 0.1365 - val_loss: 0.1378\n",
      "Epoch 3/20\n",
      "25/25 [==============================] - 5s 207ms/step - loss: 0.0715 - val_loss: 0.0945\n",
      "Epoch 4/20\n",
      "25/25 [==============================] - 5s 216ms/step - loss: 0.0681 - val_loss: 0.1033\n",
      "Epoch 5/20\n",
      "25/25 [==============================] - 5s 209ms/step - loss: 0.0407 - val_loss: 0.1297\n",
      "Epoch 6/20\n",
      "25/25 [==============================] - 5s 217ms/step - loss: 0.0513 - val_loss: 0.1407\n",
      "Epoch 7/20\n",
      "25/25 [==============================] - 5s 215ms/step - loss: 0.0427 - val_loss: 0.1184\n",
      "Epoch 8/20\n",
      "25/25 [==============================] - 5s 221ms/step - loss: 0.0569 - val_loss: 0.0900\n",
      "Epoch 9/20\n",
      "25/25 [==============================] - 5s 210ms/step - loss: 0.0423 - val_loss: 0.1457\n",
      "Epoch 10/20\n",
      "25/25 [==============================] - 5s 214ms/step - loss: 0.0452 - val_loss: 0.1244\n",
      "Epoch 11/20\n",
      "25/25 [==============================] - 5s 220ms/step - loss: 0.0364 - val_loss: 0.1035\n",
      "Epoch 12/20\n",
      "25/25 [==============================] - 5s 217ms/step - loss: 0.0450 - val_loss: 0.1124\n",
      "Epoch 13/20\n",
      "25/25 [==============================] - 5s 215ms/step - loss: 0.0391 - val_loss: 0.1097\n",
      "Epoch 14/20\n",
      "25/25 [==============================] - 5s 220ms/step - loss: 0.0341 - val_loss: 0.1117\n",
      "Epoch 15/20\n",
      "25/25 [==============================] - 5s 222ms/step - loss: 0.0337 - val_loss: 0.1033\n",
      "Epoch 16/20\n",
      "25/25 [==============================] - 5s 213ms/step - loss: 0.0313 - val_loss: 0.1129\n",
      "Epoch 17/20\n",
      "25/25 [==============================] - 5s 221ms/step - loss: 0.0290 - val_loss: 0.1277\n",
      "Epoch 18/20\n",
      "25/25 [==============================] - 5s 218ms/step - loss: 0.0314 - val_loss: 0.1024\n",
      "Epoch 19/20\n",
      "25/25 [==============================] - 5s 217ms/step - loss: 0.0352 - val_loss: 0.1029\n",
      "Epoch 20/20\n",
      "25/25 [==============================] - 5s 220ms/step - loss: 0.0351 - val_loss: 0.1050\n",
      "0.3 16\n",
      "Epoch 1/20\n",
      "13/13 [==============================] - 10s 416ms/step - loss: 0.5052 - val_loss: 0.2143\n",
      "Epoch 2/20\n",
      "13/13 [==============================] - 4s 287ms/step - loss: 0.1790 - val_loss: 0.1267\n",
      "Epoch 3/20\n",
      "13/13 [==============================] - 4s 282ms/step - loss: 0.0963 - val_loss: 0.1203\n",
      "Epoch 4/20\n",
      "13/13 [==============================] - 3s 272ms/step - loss: 0.0815 - val_loss: 0.1226\n",
      "Epoch 5/20\n",
      "13/13 [==============================] - 4s 275ms/step - loss: 0.0497 - val_loss: 0.1241\n",
      "Epoch 6/20\n",
      "13/13 [==============================] - 4s 290ms/step - loss: 0.0434 - val_loss: 0.1065\n",
      "Epoch 7/20\n",
      "13/13 [==============================] - 4s 286ms/step - loss: 0.0522 - val_loss: 0.1159\n",
      "Epoch 8/20\n",
      "13/13 [==============================] - 4s 287ms/step - loss: 0.0455 - val_loss: 0.1139\n",
      "Epoch 9/20\n",
      "13/13 [==============================] - 4s 291ms/step - loss: 0.0408 - val_loss: 0.1131\n",
      "Epoch 10/20\n",
      "13/13 [==============================] - 4s 291ms/step - loss: 0.0512 - val_loss: 0.1455\n",
      "Epoch 11/20\n",
      "13/13 [==============================] - 4s 296ms/step - loss: 0.0403 - val_loss: 0.1079\n",
      "Epoch 12/20\n",
      "13/13 [==============================] - 3s 272ms/step - loss: 0.0442 - val_loss: 0.1044\n",
      "Epoch 13/20\n",
      "13/13 [==============================] - 4s 284ms/step - loss: 0.0342 - val_loss: 0.1286\n",
      "Epoch 14/20\n",
      "13/13 [==============================] - 4s 292ms/step - loss: 0.0443 - val_loss: 0.1287\n",
      "Epoch 15/20\n",
      "13/13 [==============================] - 3s 273ms/step - loss: 0.0359 - val_loss: 0.1125\n",
      "Epoch 16/20\n",
      "13/13 [==============================] - 3s 270ms/step - loss: 0.0375 - val_loss: 0.1148\n",
      "Epoch 17/20\n",
      "13/13 [==============================] - 4s 279ms/step - loss: 0.0309 - val_loss: 0.1485\n",
      "Epoch 18/20\n",
      "13/13 [==============================] - 3s 274ms/step - loss: 0.0331 - val_loss: 0.1003\n",
      "Epoch 19/20\n",
      "13/13 [==============================] - 4s 292ms/step - loss: 0.0303 - val_loss: 0.1097\n",
      "Epoch 20/20\n",
      "13/13 [==============================] - 4s 288ms/step - loss: 0.0301 - val_loss: 0.1089\n",
      "0.3 32\n",
      "Epoch 1/20\n",
      "7/7 [==============================] - 14s 835ms/step - loss: 0.6515 - val_loss: 0.3866\n",
      "Epoch 2/20\n",
      "7/7 [==============================] - 3s 515ms/step - loss: 0.2297 - val_loss: 0.1649\n",
      "Epoch 3/20\n",
      "7/7 [==============================] - 3s 520ms/step - loss: 0.1608 - val_loss: 0.1498\n",
      "Epoch 4/20\n",
      "7/7 [==============================] - 4s 525ms/step - loss: 0.1462 - val_loss: 0.1338\n",
      "Epoch 5/20\n",
      "7/7 [==============================] - 3s 510ms/step - loss: 0.0890 - val_loss: 0.1212\n",
      "Epoch 6/20\n",
      "7/7 [==============================] - 3s 503ms/step - loss: 0.0671 - val_loss: 0.1067\n",
      "Epoch 7/20\n",
      "7/7 [==============================] - 4s 538ms/step - loss: 0.0608 - val_loss: 0.1052\n",
      "Epoch 8/20\n",
      "7/7 [==============================] - 3s 380ms/step - loss: 0.0586 - val_loss: 0.1102\n",
      "Epoch 9/20\n",
      "7/7 [==============================] - 3s 468ms/step - loss: 0.0591 - val_loss: 0.1145\n",
      "Epoch 10/20\n",
      "7/7 [==============================] - 3s 516ms/step - loss: 0.0504 - val_loss: 0.1157\n",
      "Epoch 11/20\n",
      "7/7 [==============================] - 3s 509ms/step - loss: 0.0464 - val_loss: 0.1211\n",
      "Epoch 12/20\n",
      "7/7 [==============================] - 4s 537ms/step - loss: 0.0448 - val_loss: 0.1104\n",
      "Epoch 13/20\n",
      "7/7 [==============================] - 4s 517ms/step - loss: 0.0365 - val_loss: 0.1101\n",
      "Epoch 14/20\n",
      "7/7 [==============================] - 4s 539ms/step - loss: 0.0492 - val_loss: 0.1160\n",
      "Epoch 15/20\n",
      "7/7 [==============================] - 3s 505ms/step - loss: 0.0392 - val_loss: 0.1229\n",
      "Epoch 16/20\n",
      "7/7 [==============================] - 3s 500ms/step - loss: 0.0423 - val_loss: 0.1237\n",
      "Epoch 17/20\n",
      "7/7 [==============================] - 3s 511ms/step - loss: 0.0389 - val_loss: 0.1370\n",
      "Epoch 18/20\n",
      "7/7 [==============================] - 3s 504ms/step - loss: 0.0400 - val_loss: 0.1268\n",
      "Epoch 19/20\n",
      "7/7 [==============================] - 3s 375ms/step - loss: 0.0282 - val_loss: 0.1005\n",
      "Epoch 20/20\n",
      "7/7 [==============================] - 2s 346ms/step - loss: 0.0356 - val_loss: 0.1073\n",
      "0.3 64\n",
      "Epoch 1/20\n",
      "4/4 [==============================] - 9s 957ms/step - loss: 0.8119 - val_loss: 0.5993\n",
      "Epoch 2/20\n",
      "4/4 [==============================] - 2s 629ms/step - loss: 0.4350 - val_loss: 0.3230\n",
      "Epoch 3/20\n",
      "4/4 [==============================] - 2s 615ms/step - loss: 0.2447 - val_loss: 0.2050\n",
      "Epoch 4/20\n",
      "4/4 [==============================] - 2s 611ms/step - loss: 0.1909 - val_loss: 0.1701\n",
      "Epoch 5/20\n",
      "4/4 [==============================] - 2s 677ms/step - loss: 0.1599 - val_loss: 0.1512\n",
      "Epoch 6/20\n",
      "4/4 [==============================] - 2s 613ms/step - loss: 0.1310 - val_loss: 0.1315\n",
      "Epoch 7/20\n",
      "4/4 [==============================] - 2s 621ms/step - loss: 0.1211 - val_loss: 0.1141\n",
      "Epoch 8/20\n",
      "4/4 [==============================] - 2s 632ms/step - loss: 0.1058 - val_loss: 0.1154\n",
      "Epoch 9/20\n",
      "4/4 [==============================] - 2s 654ms/step - loss: 0.0839 - val_loss: 0.1123\n",
      "Epoch 10/20\n",
      "4/4 [==============================] - 2s 625ms/step - loss: 0.0749 - val_loss: 0.1140\n",
      "Epoch 11/20\n",
      "4/4 [==============================] - 2s 656ms/step - loss: 0.0659 - val_loss: 0.1244\n",
      "Epoch 12/20\n",
      "4/4 [==============================] - 2s 606ms/step - loss: 0.0632 - val_loss: 0.1354\n",
      "Epoch 13/20\n",
      "4/4 [==============================] - 2s 621ms/step - loss: 0.0708 - val_loss: 0.1209\n",
      "Epoch 14/20\n",
      "4/4 [==============================] - 2s 608ms/step - loss: 0.0541 - val_loss: 0.1084\n",
      "Epoch 15/20\n",
      "4/4 [==============================] - 2s 649ms/step - loss: 0.0776 - val_loss: 0.1189\n",
      "Epoch 16/20\n",
      "4/4 [==============================] - 2s 630ms/step - loss: 0.0560 - val_loss: 0.1422\n",
      "Epoch 17/20\n",
      "4/4 [==============================] - 2s 662ms/step - loss: 0.0587 - val_loss: 0.1483\n",
      "Epoch 18/20\n",
      "4/4 [==============================] - 3s 738ms/step - loss: 0.0527 - val_loss: 0.1282\n",
      "Epoch 19/20\n",
      "4/4 [==============================] - 3s 750ms/step - loss: 0.0427 - val_loss: 0.1158\n",
      "Epoch 20/20\n",
      "4/4 [==============================] - 4s 974ms/step - loss: 0.0511 - val_loss: 0.1077\n",
      "0.4 4\n",
      "Epoch 1/20\n",
      "49/49 [==============================] - 22s 311ms/step - loss: 0.3427 - val_loss: 0.1407\n",
      "Epoch 2/20\n",
      "49/49 [==============================] - 14s 279ms/step - loss: 0.1192 - val_loss: 0.1559\n",
      "Epoch 3/20\n",
      "49/49 [==============================] - 14s 292ms/step - loss: 0.0842 - val_loss: 0.1125\n",
      "Epoch 4/20\n",
      "49/49 [==============================] - 14s 288ms/step - loss: 0.0751 - val_loss: 0.1241\n",
      "Epoch 5/20\n",
      "49/49 [==============================] - 16s 335ms/step - loss: 0.0629 - val_loss: 0.1452\n",
      "Epoch 6/20\n",
      "49/49 [==============================] - 16s 335ms/step - loss: 0.0536 - val_loss: 0.1372\n",
      "Epoch 7/20\n",
      "49/49 [==============================] - 15s 315ms/step - loss: 0.0482 - val_loss: 0.1115\n",
      "Epoch 8/20\n",
      "49/49 [==============================] - 16s 320ms/step - loss: 0.0644 - val_loss: 0.1190\n",
      "Epoch 9/20\n",
      "49/49 [==============================] - 15s 300ms/step - loss: 0.0544 - val_loss: 0.0813\n",
      "Epoch 10/20\n",
      "49/49 [==============================] - 13s 276ms/step - loss: 0.0653 - val_loss: 0.1394\n",
      "Epoch 11/20\n",
      "49/49 [==============================] - 11s 225ms/step - loss: 0.0432 - val_loss: 0.1308\n",
      "Epoch 12/20\n",
      "49/49 [==============================] - 10s 208ms/step - loss: 0.0466 - val_loss: 0.1432\n",
      "Epoch 13/20\n",
      "49/49 [==============================] - 10s 204ms/step - loss: 0.0366 - val_loss: 0.1387\n",
      "Epoch 14/20\n",
      "49/49 [==============================] - 10s 210ms/step - loss: 0.0371 - val_loss: 0.1079\n",
      "Epoch 15/20\n",
      "49/49 [==============================] - 11s 216ms/step - loss: 0.0405 - val_loss: 0.1143\n",
      "Epoch 16/20\n",
      "49/49 [==============================] - 11s 228ms/step - loss: 0.0361 - val_loss: 0.1184\n",
      "Epoch 17/20\n",
      "49/49 [==============================] - 12s 236ms/step - loss: 0.0385 - val_loss: 0.1248\n",
      "Epoch 18/20\n",
      "49/49 [==============================] - 11s 232ms/step - loss: 0.0348 - val_loss: 0.1099\n",
      "Epoch 19/20\n",
      "49/49 [==============================] - 11s 225ms/step - loss: 0.0408 - val_loss: 0.1277\n",
      "Epoch 20/20\n",
      "49/49 [==============================] - 10s 203ms/step - loss: 0.0277 - val_loss: 0.1229\n",
      "0.4 8\n",
      "Epoch 1/20\n",
      "25/25 [==============================] - 12s 258ms/step - loss: 0.4078 - val_loss: 0.1703\n",
      "Epoch 2/20\n",
      "25/25 [==============================] - 5s 215ms/step - loss: 0.1655 - val_loss: 0.1413\n",
      "Epoch 3/20\n",
      "25/25 [==============================] - 5s 215ms/step - loss: 0.0987 - val_loss: 0.1013\n",
      "Epoch 4/20\n",
      "25/25 [==============================] - 5s 216ms/step - loss: 0.0869 - val_loss: 0.1064\n",
      "Epoch 5/20\n",
      "25/25 [==============================] - 5s 215ms/step - loss: 0.0605 - val_loss: 0.1370\n",
      "Epoch 6/20\n",
      "25/25 [==============================] - 5s 214ms/step - loss: 0.0563 - val_loss: 0.1111\n",
      "Epoch 7/20\n",
      "25/25 [==============================] - 5s 214ms/step - loss: 0.0486 - val_loss: 0.1061\n",
      "Epoch 8/20\n",
      "25/25 [==============================] - 5s 221ms/step - loss: 0.0614 - val_loss: 0.1064\n",
      "Epoch 9/20\n",
      "25/25 [==============================] - 5s 217ms/step - loss: 0.0466 - val_loss: 0.1325\n",
      "Epoch 10/20\n",
      "25/25 [==============================] - 6s 234ms/step - loss: 0.0553 - val_loss: 0.1427\n",
      "Epoch 11/20\n",
      "25/25 [==============================] - 6s 237ms/step - loss: 0.0472 - val_loss: 0.0923\n",
      "Epoch 12/20\n",
      "25/25 [==============================] - 6s 231ms/step - loss: 0.0454 - val_loss: 0.1060\n",
      "Epoch 13/20\n",
      "25/25 [==============================] - 6s 230ms/step - loss: 0.0450 - val_loss: 0.1165\n",
      "Epoch 14/20\n",
      "25/25 [==============================] - 5s 211ms/step - loss: 0.0349 - val_loss: 0.1096\n",
      "Epoch 15/20\n",
      "25/25 [==============================] - 6s 233ms/step - loss: 0.0430 - val_loss: 0.0978\n",
      "Epoch 16/20\n",
      "25/25 [==============================] - 6s 239ms/step - loss: 0.0397 - val_loss: 0.1182\n",
      "Epoch 17/20\n",
      "25/25 [==============================] - 6s 245ms/step - loss: 0.0362 - val_loss: 0.1342\n",
      "Epoch 18/20\n",
      "25/25 [==============================] - 6s 224ms/step - loss: 0.0436 - val_loss: 0.1033\n",
      "Epoch 19/20\n",
      "25/25 [==============================] - 5s 213ms/step - loss: 0.0424 - val_loss: 0.1166\n",
      "Epoch 20/20\n",
      "25/25 [==============================] - 5s 213ms/step - loss: 0.0359 - val_loss: 0.1102\n",
      "0.4 16\n",
      "Epoch 1/20\n",
      "13/13 [==============================] - 11s 398ms/step - loss: 0.5162 - val_loss: 0.2209\n",
      "Epoch 2/20\n",
      "13/13 [==============================] - 4s 294ms/step - loss: 0.2011 - val_loss: 0.1314\n",
      "Epoch 3/20\n",
      "13/13 [==============================] - 3s 269ms/step - loss: 0.1090 - val_loss: 0.1194\n",
      "Epoch 4/20\n",
      "13/13 [==============================] - 4s 276ms/step - loss: 0.0955 - val_loss: 0.1295\n",
      "Epoch 5/20\n",
      "13/13 [==============================] - 3s 270ms/step - loss: 0.0681 - val_loss: 0.1396\n",
      "Epoch 6/20\n",
      "13/13 [==============================] - 3s 273ms/step - loss: 0.0571 - val_loss: 0.0951\n",
      "Epoch 7/20\n",
      "13/13 [==============================] - 3s 274ms/step - loss: 0.0686 - val_loss: 0.1131\n",
      "Epoch 8/20\n",
      "13/13 [==============================] - 3s 273ms/step - loss: 0.0670 - val_loss: 0.1264\n",
      "Epoch 9/20\n",
      "13/13 [==============================] - 3s 263ms/step - loss: 0.0545 - val_loss: 0.1044\n",
      "Epoch 10/20\n",
      "13/13 [==============================] - 3s 264ms/step - loss: 0.0588 - val_loss: 0.1377\n",
      "Epoch 11/20\n",
      "13/13 [==============================] - 4s 274ms/step - loss: 0.0556 - val_loss: 0.1097\n",
      "Epoch 12/20\n",
      "13/13 [==============================] - 4s 280ms/step - loss: 0.0490 - val_loss: 0.1052\n",
      "Epoch 13/20\n",
      "13/13 [==============================] - 4s 275ms/step - loss: 0.0430 - val_loss: 0.1491\n",
      "Epoch 14/20\n",
      "13/13 [==============================] - 4s 328ms/step - loss: 0.0420 - val_loss: 0.1378\n",
      "Epoch 15/20\n",
      "13/13 [==============================] - 5s 344ms/step - loss: 0.0448 - val_loss: 0.1162\n",
      "Epoch 16/20\n",
      "13/13 [==============================] - 5s 376ms/step - loss: 0.0427 - val_loss: 0.1393\n",
      "Epoch 17/20\n",
      "13/13 [==============================] - 5s 376ms/step - loss: 0.0387 - val_loss: 0.1538\n",
      "Epoch 18/20\n",
      "13/13 [==============================] - 5s 398ms/step - loss: 0.0402 - val_loss: 0.1255\n",
      "Epoch 19/20\n",
      "13/13 [==============================] - 6s 444ms/step - loss: 0.0348 - val_loss: 0.1122\n",
      "Epoch 20/20\n",
      "13/13 [==============================] - 5s 413ms/step - loss: 0.0355 - val_loss: 0.1213\n",
      "0.4 32\n",
      "Epoch 1/20\n",
      "7/7 [==============================] - 13s 703ms/step - loss: 0.6542 - val_loss: 0.4010\n",
      "Epoch 2/20\n",
      "7/7 [==============================] - 3s 503ms/step - loss: 0.2649 - val_loss: 0.1705\n",
      "Epoch 3/20\n",
      "7/7 [==============================] - 3s 504ms/step - loss: 0.1826 - val_loss: 0.1539\n",
      "Epoch 4/20\n",
      "7/7 [==============================] - 3s 507ms/step - loss: 0.1627 - val_loss: 0.1369\n",
      "Epoch 5/20\n",
      "7/7 [==============================] - 3s 498ms/step - loss: 0.1133 - val_loss: 0.1307\n",
      "Epoch 6/20\n",
      "7/7 [==============================] - 3s 506ms/step - loss: 0.0821 - val_loss: 0.1217\n",
      "Epoch 7/20\n",
      "7/7 [==============================] - 3s 461ms/step - loss: 0.0796 - val_loss: 0.1104\n",
      "Epoch 8/20\n",
      "7/7 [==============================] - 3s 485ms/step - loss: 0.0748 - val_loss: 0.1160\n",
      "Epoch 9/20\n",
      "7/7 [==============================] - 3s 501ms/step - loss: 0.0671 - val_loss: 0.1204\n",
      "Epoch 10/20\n",
      "7/7 [==============================] - 3s 449ms/step - loss: 0.0725 - val_loss: 0.1129\n",
      "Epoch 11/20\n",
      "7/7 [==============================] - 3s 456ms/step - loss: 0.0582 - val_loss: 0.1171\n",
      "Epoch 12/20\n",
      "7/7 [==============================] - 3s 462ms/step - loss: 0.0629 - val_loss: 0.1130\n",
      "Epoch 13/20\n",
      "7/7 [==============================] - 3s 458ms/step - loss: 0.0476 - val_loss: 0.1176\n",
      "Epoch 14/20\n",
      "7/7 [==============================] - 3s 490ms/step - loss: 0.0517 - val_loss: 0.1267\n",
      "Epoch 15/20\n",
      "7/7 [==============================] - 4s 504ms/step - loss: 0.0514 - val_loss: 0.1296\n",
      "Epoch 16/20\n",
      "7/7 [==============================] - 3s 456ms/step - loss: 0.0598 - val_loss: 0.1385\n",
      "Epoch 17/20\n",
      "7/7 [==============================] - 3s 498ms/step - loss: 0.0486 - val_loss: 0.1450\n",
      "Epoch 18/20\n",
      "7/7 [==============================] - 4s 528ms/step - loss: 0.0478 - val_loss: 0.1463\n",
      "Epoch 19/20\n",
      "7/7 [==============================] - 3s 502ms/step - loss: 0.0374 - val_loss: 0.1269\n",
      "Epoch 20/20\n",
      "7/7 [==============================] - 3s 489ms/step - loss: 0.0488 - val_loss: 0.1165\n",
      "0.4 64\n",
      "Epoch 1/20\n",
      "4/4 [==============================] - 14s 2s/step - loss: 0.8025 - val_loss: 0.6073\n",
      "Epoch 2/20\n",
      "4/4 [==============================] - 3s 890ms/step - loss: 0.4643 - val_loss: 0.3360\n",
      "Epoch 3/20\n",
      "4/4 [==============================] - 3s 838ms/step - loss: 0.2632 - val_loss: 0.2110\n",
      "Epoch 4/20\n",
      "4/4 [==============================] - 3s 875ms/step - loss: 0.1986 - val_loss: 0.1741\n",
      "Epoch 5/20\n",
      "4/4 [==============================] - 3s 894ms/step - loss: 0.1686 - val_loss: 0.1584\n",
      "Epoch 6/20\n",
      "4/4 [==============================] - 3s 856ms/step - loss: 0.1378 - val_loss: 0.1411\n",
      "Epoch 7/20\n",
      "4/4 [==============================] - 3s 891ms/step - loss: 0.1379 - val_loss: 0.1248\n",
      "Epoch 8/20\n",
      "4/4 [==============================] - 3s 887ms/step - loss: 0.1311 - val_loss: 0.1264\n",
      "Epoch 9/20\n",
      "4/4 [==============================] - 3s 913ms/step - loss: 0.0931 - val_loss: 0.1243\n",
      "Epoch 10/20\n",
      "4/4 [==============================] - 4s 1s/step - loss: 0.0950 - val_loss: 0.1236\n",
      "Epoch 11/20\n",
      "4/4 [==============================] - 3s 911ms/step - loss: 0.0831 - val_loss: 0.1334\n",
      "Epoch 12/20\n",
      "4/4 [==============================] - 3s 887ms/step - loss: 0.0794 - val_loss: 0.1484\n",
      "Epoch 13/20\n",
      "4/4 [==============================] - 3s 686ms/step - loss: 0.0965 - val_loss: 0.1334\n",
      "Epoch 14/20\n",
      "4/4 [==============================] - 2s 659ms/step - loss: 0.0720 - val_loss: 0.1143\n",
      "Epoch 15/20\n",
      "4/4 [==============================] - 2s 611ms/step - loss: 0.0920 - val_loss: 0.1215\n",
      "Epoch 16/20\n",
      "4/4 [==============================] - 2s 598ms/step - loss: 0.0820 - val_loss: 0.1391\n",
      "Epoch 17/20\n",
      "4/4 [==============================] - 2s 673ms/step - loss: 0.0685 - val_loss: 0.1492\n",
      "Epoch 18/20\n",
      "4/4 [==============================] - 3s 701ms/step - loss: 0.0595 - val_loss: 0.1477\n",
      "Epoch 19/20\n",
      "4/4 [==============================] - 3s 663ms/step - loss: 0.0573 - val_loss: 0.1525\n",
      "Epoch 20/20\n",
      "4/4 [==============================] - 2s 601ms/step - loss: 0.0652 - val_loss: 0.1476\n",
      "0.5 4\n",
      "Epoch 1/20\n",
      "49/49 [==============================] - 15s 218ms/step - loss: 0.3608 - val_loss: 0.1438\n",
      "Epoch 2/20\n",
      "49/49 [==============================] - 10s 203ms/step - loss: 0.1466 - val_loss: 0.1317\n",
      "Epoch 3/20\n",
      "49/49 [==============================] - 10s 196ms/step - loss: 0.1012 - val_loss: 0.1152\n",
      "Epoch 4/20\n",
      "49/49 [==============================] - 9s 179ms/step - loss: 0.0983 - val_loss: 0.1126\n",
      "Epoch 5/20\n",
      "49/49 [==============================] - 9s 177ms/step - loss: 0.0747 - val_loss: 0.0916\n",
      "Epoch 6/20\n",
      "49/49 [==============================] - 9s 185ms/step - loss: 0.0743 - val_loss: 0.1589\n",
      "Epoch 7/20\n",
      "49/49 [==============================] - 9s 182ms/step - loss: 0.0639 - val_loss: 0.1040\n",
      "Epoch 8/20\n",
      "49/49 [==============================] - 9s 176ms/step - loss: 0.0826 - val_loss: 0.1192\n",
      "Epoch 9/20\n",
      "49/49 [==============================] - 9s 188ms/step - loss: 0.0668 - val_loss: 0.0808\n",
      "Epoch 10/20\n",
      "49/49 [==============================] - 9s 192ms/step - loss: 0.0754 - val_loss: 0.1319\n",
      "Epoch 11/20\n",
      "49/49 [==============================] - 9s 194ms/step - loss: 0.0535 - val_loss: 0.1072\n",
      "Epoch 12/20\n",
      "49/49 [==============================] - 10s 201ms/step - loss: 0.0655 - val_loss: 0.1609\n",
      "Epoch 13/20\n",
      "49/49 [==============================] - 10s 201ms/step - loss: 0.0494 - val_loss: 0.1305\n",
      "Epoch 14/20\n",
      "49/49 [==============================] - 10s 200ms/step - loss: 0.0455 - val_loss: 0.1095\n",
      "Epoch 15/20\n",
      "49/49 [==============================] - 10s 199ms/step - loss: 0.0522 - val_loss: 0.1175\n",
      "Epoch 16/20\n",
      "49/49 [==============================] - 10s 206ms/step - loss: 0.0431 - val_loss: 0.1281\n",
      "Epoch 17/20\n",
      "49/49 [==============================] - 10s 201ms/step - loss: 0.0481 - val_loss: 0.1330\n",
      "Epoch 18/20\n",
      "49/49 [==============================] - 10s 200ms/step - loss: 0.0477 - val_loss: 0.1062\n",
      "Epoch 19/20\n",
      "49/49 [==============================] - 10s 201ms/step - loss: 0.0537 - val_loss: 0.1220\n",
      "Epoch 20/20\n",
      "49/49 [==============================] - 10s 202ms/step - loss: 0.0369 - val_loss: 0.1163\n",
      "0.5 8\n",
      "Epoch 1/20\n",
      "25/25 [==============================] - 13s 245ms/step - loss: 0.4407 - val_loss: 0.1732\n",
      "Epoch 2/20\n",
      "25/25 [==============================] - 5s 213ms/step - loss: 0.1788 - val_loss: 0.1442\n",
      "Epoch 3/20\n",
      "25/25 [==============================] - 6s 226ms/step - loss: 0.1115 - val_loss: 0.1015\n",
      "Epoch 4/20\n",
      "25/25 [==============================] - 6s 226ms/step - loss: 0.1068 - val_loss: 0.1292\n",
      "Epoch 5/20\n",
      "25/25 [==============================] - 6s 227ms/step - loss: 0.0819 - val_loss: 0.1387\n",
      "Epoch 6/20\n",
      "25/25 [==============================] - 5s 204ms/step - loss: 0.0768 - val_loss: 0.1343\n",
      "Epoch 7/20\n",
      "25/25 [==============================] - 5s 205ms/step - loss: 0.0612 - val_loss: 0.1047\n",
      "Epoch 8/20\n",
      "25/25 [==============================] - 5s 220ms/step - loss: 0.0801 - val_loss: 0.1167\n",
      "Epoch 9/20\n",
      "25/25 [==============================] - 6s 227ms/step - loss: 0.0732 - val_loss: 0.1258\n",
      "Epoch 10/20\n",
      "25/25 [==============================] - 5s 221ms/step - loss: 0.0764 - val_loss: 0.1446\n",
      "Epoch 11/20\n",
      "25/25 [==============================] - 5s 215ms/step - loss: 0.0658 - val_loss: 0.1002\n",
      "Epoch 12/20\n",
      "25/25 [==============================] - 5s 202ms/step - loss: 0.0610 - val_loss: 0.1210\n",
      "Epoch 13/20\n",
      "25/25 [==============================] - 5s 217ms/step - loss: 0.0498 - val_loss: 0.1281\n",
      "Epoch 14/20\n",
      "25/25 [==============================] - 5s 214ms/step - loss: 0.0437 - val_loss: 0.1180\n",
      "Epoch 15/20\n",
      "25/25 [==============================] - 5s 200ms/step - loss: 0.0491 - val_loss: 0.1109\n",
      "Epoch 16/20\n",
      "25/25 [==============================] - 5s 200ms/step - loss: 0.0452 - val_loss: 0.1352\n",
      "Epoch 17/20\n",
      "25/25 [==============================] - 5s 210ms/step - loss: 0.0433 - val_loss: 0.1500\n",
      "Epoch 18/20\n",
      "25/25 [==============================] - 5s 208ms/step - loss: 0.0568 - val_loss: 0.1173\n",
      "Epoch 19/20\n",
      "25/25 [==============================] - 5s 212ms/step - loss: 0.0563 - val_loss: 0.1153\n",
      "Epoch 20/20\n",
      "25/25 [==============================] - 5s 202ms/step - loss: 0.0479 - val_loss: 0.1093\n",
      "0.5 16\n",
      "Epoch 1/20\n",
      "13/13 [==============================] - 11s 366ms/step - loss: 0.5486 - val_loss: 0.2256\n",
      "Epoch 2/20\n",
      "13/13 [==============================] - 3s 268ms/step - loss: 0.2238 - val_loss: 0.1290\n",
      "Epoch 3/20\n",
      "13/13 [==============================] - 3s 261ms/step - loss: 0.1346 - val_loss: 0.1218\n",
      "Epoch 4/20\n",
      "13/13 [==============================] - 3s 261ms/step - loss: 0.1167 - val_loss: 0.1329\n",
      "Epoch 5/20\n",
      "13/13 [==============================] - 3s 258ms/step - loss: 0.0921 - val_loss: 0.1429\n",
      "Epoch 6/20\n",
      "13/13 [==============================] - 4s 285ms/step - loss: 0.0715 - val_loss: 0.0981\n",
      "Epoch 7/20\n",
      "13/13 [==============================] - 4s 306ms/step - loss: 0.0741 - val_loss: 0.1183\n",
      "Epoch 8/20\n",
      "13/13 [==============================] - 4s 291ms/step - loss: 0.0943 - val_loss: 0.1118\n",
      "Epoch 9/20\n",
      "13/13 [==============================] - 4s 313ms/step - loss: 0.0609 - val_loss: 0.1066\n",
      "Epoch 10/20\n",
      "13/13 [==============================] - 4s 285ms/step - loss: 0.0676 - val_loss: 0.1261\n",
      "Epoch 11/20\n",
      "13/13 [==============================] - 3s 271ms/step - loss: 0.0649 - val_loss: 0.1104\n",
      "Epoch 12/20\n",
      "13/13 [==============================] - 3s 270ms/step - loss: 0.0661 - val_loss: 0.1151\n",
      "Epoch 13/20\n",
      "13/13 [==============================] - 3s 269ms/step - loss: 0.0576 - val_loss: 0.1556\n",
      "Epoch 14/20\n",
      "13/13 [==============================] - 4s 302ms/step - loss: 0.0542 - val_loss: 0.1418\n",
      "Epoch 15/20\n",
      "13/13 [==============================] - 4s 283ms/step - loss: 0.0514 - val_loss: 0.1206\n",
      "Epoch 16/20\n",
      "13/13 [==============================] - 3s 267ms/step - loss: 0.0484 - val_loss: 0.1622\n",
      "Epoch 17/20\n",
      "13/13 [==============================] - 3s 271ms/step - loss: 0.0515 - val_loss: 0.1578\n",
      "Epoch 18/20\n",
      "13/13 [==============================] - 3s 271ms/step - loss: 0.0579 - val_loss: 0.1343\n",
      "Epoch 19/20\n",
      "13/13 [==============================] - 3s 275ms/step - loss: 0.0510 - val_loss: 0.1159\n",
      "Epoch 20/20\n",
      "13/13 [==============================] - 4s 287ms/step - loss: 0.0529 - val_loss: 0.1403\n",
      "0.5 32\n",
      "Epoch 1/20\n",
      "7/7 [==============================] - 9s 578ms/step - loss: 0.6729 - val_loss: 0.4138\n",
      "Epoch 2/20\n",
      "7/7 [==============================] - 2s 353ms/step - loss: 0.2884 - val_loss: 0.1741\n",
      "Epoch 3/20\n",
      "7/7 [==============================] - 2s 359ms/step - loss: 0.2023 - val_loss: 0.1649\n",
      "Epoch 4/20\n",
      "7/7 [==============================] - 2s 349ms/step - loss: 0.1989 - val_loss: 0.1628\n",
      "Epoch 5/20\n",
      "7/7 [==============================] - 2s 350ms/step - loss: 0.1509 - val_loss: 0.1558\n",
      "Epoch 6/20\n",
      "7/7 [==============================] - 2s 336ms/step - loss: 0.1160 - val_loss: 0.1344\n",
      "Epoch 7/20\n",
      "7/7 [==============================] - 2s 311ms/step - loss: 0.0848 - val_loss: 0.1180\n",
      "Epoch 8/20\n",
      "7/7 [==============================] - 2s 358ms/step - loss: 0.1010 - val_loss: 0.1173\n",
      "Epoch 9/20\n",
      "7/7 [==============================] - 2s 343ms/step - loss: 0.0856 - val_loss: 0.1207\n",
      "Epoch 10/20\n",
      "7/7 [==============================] - 2s 343ms/step - loss: 0.0856 - val_loss: 0.1120\n",
      "Epoch 11/20\n",
      "7/7 [==============================] - 2s 348ms/step - loss: 0.0697 - val_loss: 0.1195\n",
      "Epoch 12/20\n",
      "7/7 [==============================] - 2s 350ms/step - loss: 0.0863 - val_loss: 0.1247\n",
      "Epoch 13/20\n",
      "7/7 [==============================] - 2s 346ms/step - loss: 0.0635 - val_loss: 0.1246\n",
      "Epoch 14/20\n",
      "7/7 [==============================] - 2s 343ms/step - loss: 0.0574 - val_loss: 0.1304\n",
      "Epoch 15/20\n",
      "7/7 [==============================] - 2s 343ms/step - loss: 0.0652 - val_loss: 0.1448\n",
      "Epoch 16/20\n",
      "7/7 [==============================] - 2s 339ms/step - loss: 0.0698 - val_loss: 0.1505\n",
      "Epoch 17/20\n",
      "7/7 [==============================] - 2s 352ms/step - loss: 0.0625 - val_loss: 0.1468\n",
      "Epoch 18/20\n",
      "7/7 [==============================] - 2s 333ms/step - loss: 0.0656 - val_loss: 0.1441\n",
      "Epoch 19/20\n",
      "7/7 [==============================] - 2s 312ms/step - loss: 0.0545 - val_loss: 0.1293\n",
      "Epoch 20/20\n",
      "7/7 [==============================] - 2s 309ms/step - loss: 0.0635 - val_loss: 0.1375\n",
      "0.5 64\n",
      "Epoch 1/20\n",
      "4/4 [==============================] - 8s 867ms/step - loss: 0.8183 - val_loss: 0.6192\n",
      "Epoch 2/20\n",
      "4/4 [==============================] - 2s 534ms/step - loss: 0.4960 - val_loss: 0.3486\n",
      "Epoch 3/20\n",
      "4/4 [==============================] - 2s 532ms/step - loss: 0.2859 - val_loss: 0.2197\n",
      "Epoch 4/20\n",
      "4/4 [==============================] - 2s 600ms/step - loss: 0.2060 - val_loss: 0.1819\n",
      "Epoch 5/20\n",
      "4/4 [==============================] - 2s 602ms/step - loss: 0.2055 - val_loss: 0.1700\n",
      "Epoch 6/20\n",
      "4/4 [==============================] - 2s 593ms/step - loss: 0.1665 - val_loss: 0.1543\n",
      "Epoch 7/20\n",
      "4/4 [==============================] - 2s 528ms/step - loss: 0.1606 - val_loss: 0.1378\n",
      "Epoch 8/20\n",
      "4/4 [==============================] - 2s 551ms/step - loss: 0.1639 - val_loss: 0.1359\n",
      "Epoch 9/20\n",
      "4/4 [==============================] - 2s 557ms/step - loss: 0.1122 - val_loss: 0.1291\n",
      "Epoch 10/20\n",
      "4/4 [==============================] - 2s 573ms/step - loss: 0.1035 - val_loss: 0.1266\n",
      "Epoch 11/20\n",
      "4/4 [==============================] - 2s 562ms/step - loss: 0.1141 - val_loss: 0.1399\n",
      "Epoch 12/20\n",
      "4/4 [==============================] - 2s 621ms/step - loss: 0.0915 - val_loss: 0.1550\n",
      "Epoch 13/20\n",
      "4/4 [==============================] - 2s 631ms/step - loss: 0.1190 - val_loss: 0.1436\n",
      "Epoch 14/20\n",
      "4/4 [==============================] - 2s 621ms/step - loss: 0.0974 - val_loss: 0.1278\n",
      "Epoch 15/20\n",
      "4/4 [==============================] - 2s 586ms/step - loss: 0.1011 - val_loss: 0.1317\n",
      "Epoch 16/20\n",
      "4/4 [==============================] - 2s 545ms/step - loss: 0.0898 - val_loss: 0.1454\n",
      "Epoch 17/20\n",
      "4/4 [==============================] - 2s 530ms/step - loss: 0.0954 - val_loss: 0.1530\n",
      "Epoch 18/20\n",
      "4/4 [==============================] - 2s 566ms/step - loss: 0.0893 - val_loss: 0.1485\n",
      "Epoch 19/20\n",
      "4/4 [==============================] - 2s 600ms/step - loss: 0.1000 - val_loss: 0.1487\n",
      "Epoch 20/20\n",
      "4/4 [==============================] - 2s 533ms/step - loss: 0.0797 - val_loss: 0.1557\n"
     ]
    }
   ],
   "source": [
    "mse_list3 = []\n",
    "for drop in [0, 0.05, 0.1, 0.2, 0.3, 0.4, 0.5]:\n",
    "    for batch in [4, 8, 16, 32, 64]:\n",
    "        seed(321)\n",
    "        tensorflow.random.set_seed(123)\n",
    "        model = Sequential()\n",
    "        model.add(Bidirectional(LSTM(64, activation='tanh', input_shape=(trainX.shape[1], trainX.shape[2]), return_sequences=True)))\n",
    "        model.add(Bidirectional(LSTM(32, activation='tanh', return_sequences=False)))\n",
    "        model.add(Dropout(drop))\n",
    "        model.add(Dense(trainY.shape[1]))\n",
    "        model.compile(optimizer='adam', loss='mse')\n",
    "        print(drop,batch)\n",
    "        history = model.fit(trainX, trainY, epochs=20, batch_size=batch, validation_split=val, verbose=1)\n",
    "        mse_list3.append([drop, batch, np.mean(history.history['val_loss'])])"
   ]
  },
  {
   "cell_type": "code",
   "execution_count": 378,
   "metadata": {
    "ExecuteTime": {
     "end_time": "2021-12-11T12:30:15.909755Z",
     "start_time": "2021-12-11T12:30:15.904757Z"
    },
    "scrolled": true
   },
   "outputs": [],
   "source": [
    "#df_mse_3 = pd.DataFrame(mse_list3, columns = ['dropout', 'batch',  'mse'])"
   ]
  },
  {
   "cell_type": "code",
   "execution_count": 451,
   "metadata": {
    "ExecuteTime": {
     "end_time": "2021-12-11T13:21:45.400975Z",
     "start_time": "2021-12-11T13:21:45.388932Z"
    }
   },
   "outputs": [
    {
     "data": {
      "text/html": [
       "<div>\n",
       "<style scoped>\n",
       "    .dataframe tbody tr th:only-of-type {\n",
       "        vertical-align: middle;\n",
       "    }\n",
       "\n",
       "    .dataframe tbody tr th {\n",
       "        vertical-align: top;\n",
       "    }\n",
       "\n",
       "    .dataframe thead th {\n",
       "        text-align: right;\n",
       "    }\n",
       "</style>\n",
       "<table border=\"1\" class=\"dataframe\">\n",
       "  <thead>\n",
       "    <tr style=\"text-align: right;\">\n",
       "      <th></th>\n",
       "      <th>dropout</th>\n",
       "      <th>batch</th>\n",
       "      <th>mse</th>\n",
       "    </tr>\n",
       "  </thead>\n",
       "  <tbody>\n",
       "    <tr>\n",
       "      <th>6</th>\n",
       "      <td>0.05</td>\n",
       "      <td>8</td>\n",
       "      <td>0.107770</td>\n",
       "    </tr>\n",
       "    <tr>\n",
       "      <th>11</th>\n",
       "      <td>0.10</td>\n",
       "      <td>8</td>\n",
       "      <td>0.110526</td>\n",
       "    </tr>\n",
       "    <tr>\n",
       "      <th>1</th>\n",
       "      <td>0.00</td>\n",
       "      <td>8</td>\n",
       "      <td>0.111096</td>\n",
       "    </tr>\n",
       "    <tr>\n",
       "      <th>16</th>\n",
       "      <td>0.20</td>\n",
       "      <td>8</td>\n",
       "      <td>0.114065</td>\n",
       "    </tr>\n",
       "    <tr>\n",
       "      <th>7</th>\n",
       "      <td>0.05</td>\n",
       "      <td>16</td>\n",
       "      <td>0.114968</td>\n",
       "    </tr>\n",
       "  </tbody>\n",
       "</table>\n",
       "</div>"
      ],
      "text/plain": [
       "    dropout  batch       mse\n",
       "6      0.05      8  0.107770\n",
       "11     0.10      8  0.110526\n",
       "1      0.00      8  0.111096\n",
       "16     0.20      8  0.114065\n",
       "7      0.05     16  0.114968"
      ]
     },
     "execution_count": 451,
     "metadata": {},
     "output_type": "execute_result"
    }
   ],
   "source": [
    "df_mse_3.sort_values('mse').head()"
   ]
  },
  {
   "cell_type": "markdown",
   "metadata": {},
   "source": [
    "## Multivariate MLP model "
   ]
  },
  {
   "cell_type": "code",
   "execution_count": 28,
   "metadata": {
    "ExecuteTime": {
     "end_time": "2021-12-14T17:19:51.148076Z",
     "start_time": "2021-12-14T17:19:51.136078Z"
    }
   },
   "outputs": [],
   "source": [
    "X_train = df_for_training_scaled[:, 1:df_for_training.shape[1]]\n",
    "y_train = df_for_training_scaled[:, 0]"
   ]
  },
  {
   "cell_type": "code",
   "execution_count": 29,
   "metadata": {
    "ExecuteTime": {
     "end_time": "2021-12-14T17:19:51.482075Z",
     "start_time": "2021-12-14T17:19:51.466079Z"
    }
   },
   "outputs": [
    {
     "name": "stdout",
     "output_type": "stream",
     "text": [
      "trainX shape == (392, 96, 11).\n",
      "trainY shape == (392, 1).\n"
     ]
    }
   ],
   "source": [
    "X_train, y_train = np.array(X_train), np.array(y_train)\n",
    "\n",
    "print('trainX shape == {}.'.format(trainX.shape))\n",
    "print('trainY shape == {}.'.format(trainY.shape))"
   ]
  },
  {
   "cell_type": "code",
   "execution_count": 30,
   "metadata": {
    "ExecuteTime": {
     "end_time": "2021-12-14T17:19:51.878159Z",
     "start_time": "2021-12-14T17:19:51.798077Z"
    }
   },
   "outputs": [],
   "source": [
    "n_col = X_train.shape[1]\n",
    "# define model\n",
    "seed(321)\n",
    "tensorflow.random.set_seed(123)\n",
    "model2 = Sequential()\n",
    "model2.add(Dense(64, activation='tanh', input_shape= (n_col,)))\n",
    "model2.add(Dense(32, activation='tanh'))\n",
    "model2.add(Dropout(0.05))\n",
    "model2.add(Dense(1))\n",
    "model2.compile(optimizer='adam', loss='mse', metrics=[tensorflow.keras.metrics.RootMeanSquaredError(name='rmse')])"
   ]
  },
  {
   "cell_type": "code",
   "execution_count": 31,
   "metadata": {
    "ExecuteTime": {
     "end_time": "2021-12-14T17:19:55.553913Z",
     "start_time": "2021-12-14T17:19:52.337282Z"
    }
   },
   "outputs": [
    {
     "name": "stdout",
     "output_type": "stream",
     "text": [
      "Epoch 1/30\n",
      "44/44 [==============================] - 0s 4ms/step - loss: 0.3036 - rmse: 0.5510 - val_loss: 0.2609 - val_rmse: 0.5108\n",
      "Epoch 2/30\n",
      "44/44 [==============================] - 0s 2ms/step - loss: 0.1945 - rmse: 0.4410 - val_loss: 0.2870 - val_rmse: 0.5358\n",
      "Epoch 3/30\n",
      "44/44 [==============================] - 0s 2ms/step - loss: 0.1850 - rmse: 0.4302 - val_loss: 0.2653 - val_rmse: 0.5151\n",
      "Epoch 4/30\n",
      "44/44 [==============================] - 0s 2ms/step - loss: 0.1730 - rmse: 0.4159 - val_loss: 0.2974 - val_rmse: 0.5453\n",
      "Epoch 5/30\n",
      "44/44 [==============================] - 0s 2ms/step - loss: 0.1918 - rmse: 0.4379 - val_loss: 0.2576 - val_rmse: 0.5075\n",
      "Epoch 6/30\n",
      "44/44 [==============================] - 0s 2ms/step - loss: 0.1713 - rmse: 0.4138 - val_loss: 0.2509 - val_rmse: 0.5009\n",
      "Epoch 7/30\n",
      "44/44 [==============================] - 0s 2ms/step - loss: 0.1664 - rmse: 0.4079 - val_loss: 0.2423 - val_rmse: 0.4922\n",
      "Epoch 8/30\n",
      "44/44 [==============================] - 0s 2ms/step - loss: 0.1724 - rmse: 0.4152 - val_loss: 0.2389 - val_rmse: 0.4888\n",
      "Epoch 9/30\n",
      "44/44 [==============================] - 0s 2ms/step - loss: 0.1534 - rmse: 0.3916 - val_loss: 0.2778 - val_rmse: 0.5271\n",
      "Epoch 10/30\n",
      "44/44 [==============================] - 0s 2ms/step - loss: 0.1588 - rmse: 0.3985 - val_loss: 0.2371 - val_rmse: 0.4869\n",
      "Epoch 11/30\n",
      "44/44 [==============================] - 0s 3ms/step - loss: 0.1444 - rmse: 0.3801 - val_loss: 0.2363 - val_rmse: 0.4861\n",
      "Epoch 12/30\n",
      "44/44 [==============================] - 0s 2ms/step - loss: 0.1396 - rmse: 0.3736 - val_loss: 0.2536 - val_rmse: 0.5036\n",
      "Epoch 13/30\n",
      "44/44 [==============================] - 0s 2ms/step - loss: 0.1565 - rmse: 0.3955 - val_loss: 0.2525 - val_rmse: 0.5025\n",
      "Epoch 14/30\n",
      "44/44 [==============================] - 0s 2ms/step - loss: 0.1275 - rmse: 0.3571 - val_loss: 0.2332 - val_rmse: 0.4829\n",
      "Epoch 15/30\n",
      "44/44 [==============================] - 0s 2ms/step - loss: 0.1385 - rmse: 0.3722 - val_loss: 0.2417 - val_rmse: 0.4916\n",
      "Epoch 16/30\n",
      "44/44 [==============================] - 0s 2ms/step - loss: 0.1349 - rmse: 0.3672 - val_loss: 0.2618 - val_rmse: 0.5117\n",
      "Epoch 17/30\n",
      "44/44 [==============================] - 0s 2ms/step - loss: 0.1315 - rmse: 0.3626 - val_loss: 0.2447 - val_rmse: 0.4947\n",
      "Epoch 18/30\n",
      "44/44 [==============================] - 0s 2ms/step - loss: 0.1348 - rmse: 0.3671 - val_loss: 0.2626 - val_rmse: 0.5125\n",
      "Epoch 19/30\n",
      "44/44 [==============================] - 0s 2ms/step - loss: 0.1256 - rmse: 0.3544 - val_loss: 0.2475 - val_rmse: 0.4975\n",
      "Epoch 20/30\n",
      "44/44 [==============================] - 0s 2ms/step - loss: 0.1311 - rmse: 0.3621 - val_loss: 0.2590 - val_rmse: 0.5089\n",
      "Epoch 21/30\n",
      "44/44 [==============================] - 0s 2ms/step - loss: 0.1226 - rmse: 0.3502 - val_loss: 0.2633 - val_rmse: 0.5131\n",
      "Epoch 22/30\n",
      "44/44 [==============================] - 0s 2ms/step - loss: 0.1138 - rmse: 0.3374 - val_loss: 0.2444 - val_rmse: 0.4944\n",
      "Epoch 23/30\n",
      "44/44 [==============================] - 0s 2ms/step - loss: 0.1176 - rmse: 0.3429 - val_loss: 0.2513 - val_rmse: 0.5013\n",
      "Epoch 24/30\n",
      "44/44 [==============================] - 0s 2ms/step - loss: 0.1081 - rmse: 0.3287 - val_loss: 0.2364 - val_rmse: 0.4862\n",
      "Epoch 25/30\n",
      "44/44 [==============================] - 0s 2ms/step - loss: 0.1161 - rmse: 0.3407 - val_loss: 0.2525 - val_rmse: 0.5025\n",
      "Epoch 26/30\n",
      "44/44 [==============================] - 0s 2ms/step - loss: 0.1144 - rmse: 0.3382 - val_loss: 0.2579 - val_rmse: 0.5079\n",
      "Epoch 27/30\n",
      "44/44 [==============================] - 0s 2ms/step - loss: 0.1172 - rmse: 0.3423 - val_loss: 0.2422 - val_rmse: 0.4922\n",
      "Epoch 28/30\n",
      "44/44 [==============================] - 0s 2ms/step - loss: 0.1167 - rmse: 0.3417 - val_loss: 0.2443 - val_rmse: 0.4942\n",
      "Epoch 29/30\n",
      "44/44 [==============================] - 0s 2ms/step - loss: 0.1076 - rmse: 0.3281 - val_loss: 0.2210 - val_rmse: 0.4702\n",
      "Epoch 30/30\n",
      "44/44 [==============================] - 0s 2ms/step - loss: 0.1047 - rmse: 0.3236 - val_loss: 0.2412 - val_rmse: 0.4911\n"
     ]
    }
   ],
   "source": [
    "# fit the model\n",
    "history2 = model2.fit(X_train, y_train, epochs=30, batch_size=8, validation_split=0.3, verbose=1)"
   ]
  },
  {
   "cell_type": "code",
   "execution_count": 32,
   "metadata": {
    "ExecuteTime": {
     "end_time": "2021-12-14T17:19:55.821484Z",
     "start_time": "2021-12-14T17:19:55.668865Z"
    },
    "scrolled": true
   },
   "outputs": [
    {
     "data": {
      "text/plain": [
       "<matplotlib.legend.Legend at 0x1952443c340>"
      ]
     },
     "execution_count": 32,
     "metadata": {},
     "output_type": "execute_result"
    },
    {
     "data": {
      "image/png": "[encoded data removed]",
      "text/plain": [
       "<Figure size 432x288 with 1 Axes>"
      ]
     },
     "metadata": {
      "needs_background": "light"
     },
     "output_type": "display_data"
    }
   ],
   "source": [
    "plt.plot(history2.history['rmse'], label='Training loss')\n",
    "plt.plot(history2.history['val_rmse'], label='Validation loss')\n",
    "plt.legend()"
   ]
  },
  {
   "cell_type": "code",
   "execution_count": 33,
   "metadata": {
    "ExecuteTime": {
     "end_time": "2021-12-14T17:19:55.946440Z",
     "start_time": "2021-12-14T17:19:55.933545Z"
    }
   },
   "outputs": [
    {
     "data": {
      "text/plain": [
       "0.5018484562635421"
      ]
     },
     "execution_count": 33,
     "metadata": {},
     "output_type": "execute_result"
    }
   ],
   "source": [
    "np.mean(history2.history['val_rmse'])"
   ]
  },
  {
   "cell_type": "code",
   "execution_count": 35,
   "metadata": {
    "ExecuteTime": {
     "end_time": "2021-12-14T17:20:02.742774Z",
     "start_time": "2021-12-14T17:20:02.451607Z"
    },
    "scrolled": false
   },
   "outputs": [
    {
     "name": "stderr",
     "output_type": "stream",
     "text": [
      "<ipython-input-35-ff700fc49ead>:14: SettingWithCopyWarning: \n",
      "A value is trying to be set on a copy of a slice from a DataFrame.\n",
      "Try using .loc[row_indexer,col_indexer] = value instead\n",
      "\n",
      "See the caveats in the documentation: https://pandas.pydata.org/pandas-docs/stable/user_guide/indexing.html#returning-a-view-versus-a-copy\n",
      "  original['datetime_local']=pd.to_datetime(original['datetime_local'])\n"
     ]
    },
    {
     "data": {
      "text/plain": [
       "<matplotlib.axes._subplots.AxesSubplot at 0x19524557820>"
      ]
     },
     "execution_count": 35,
     "metadata": {},
     "output_type": "execute_result"
    },
    {
     "data": {
      "image/png": "[encoded data removed]",
      "text/plain": [
       "<Figure size 432x288 with 1 Axes>"
      ]
     },
     "metadata": {
      "needs_background": "light"
     },
     "output_type": "display_data"
    }
   ],
   "source": [
    "prediction2 = model2.predict(X_train[-n_days_for_prediction:]) #shape = (n, 1) where n is the n_days_for_prediction\n",
    "prediction_copies2 = np.repeat(prediction2, df_for_training.shape[1], axis=-1)\n",
    "y_pred_future2 = scaler.inverse_transform(prediction_copies2)[:,0]\n",
    "\n",
    "forecast_dates = []\n",
    "for time_i in predict_period_dates:\n",
    "    forecast_dates.append(time_i)\n",
    "    \n",
    "df_forecast = pd.DataFrame({'datetime_local':np.array(forecast_dates), 'temperature':y_pred_future2})\n",
    "#df_forecast['datetime_local']=pd.to_datetime(df_forecast['datetime_local'], format = '%d/%m/%Y %H:%M')\n",
    "\n",
    "\n",
    "original = df[['datetime_local', 'temperature']]\n",
    "original['datetime_local']=pd.to_datetime(original['datetime_local'])\n",
    "original = original.loc[original['datetime_local'] >= '2019-10-01']\n",
    "\n",
    "sns.lineplot(original['datetime_local'], original['temperature'])\n",
    "sns.lineplot(df_forecast['datetime_local'], df_forecast['temperature'])"
   ]
  },
  {
   "cell_type": "code",
   "execution_count": 36,
   "metadata": {
    "ExecuteTime": {
     "end_time": "2021-12-14T17:20:15.163048Z",
     "start_time": "2021-12-14T17:20:15.156046Z"
    }
   },
   "outputs": [
    {
     "name": "stdout",
     "output_type": "stream",
     "text": [
      "Test RSME Score: 2.02 Celsius\n"
     ]
    }
   ],
   "source": [
    "testScore2 = math.sqrt(mean_squared_error(df['temperature'][499-168:], y_pred_future2))\n",
    "print('Test RSME Score: %.2f Celsius' %(testScore2))"
   ]
  },
  {
   "cell_type": "markdown",
   "metadata": {},
   "source": [
    "## MLP model with a single variable"
   ]
  },
  {
   "cell_type": "code",
   "execution_count": 37,
   "metadata": {
    "ExecuteTime": {
     "end_time": "2021-12-14T17:20:16.682449Z",
     "start_time": "2021-12-14T17:20:16.668662Z"
    }
   },
   "outputs": [],
   "source": [
    "df_1 = pd.read_csv('D:/UW/3rd semester/ML2/Project/Time-Series Analysis Dataset.csv', usecols = [1])"
   ]
  },
  {
   "cell_type": "code",
   "execution_count": 38,
   "metadata": {
    "ExecuteTime": {
     "end_time": "2021-12-14T17:20:16.969006Z",
     "start_time": "2021-12-14T17:20:16.948440Z"
    }
   },
   "outputs": [
    {
     "data": {
      "text/html": [
       "<div>\n",
       "<style scoped>\n",
       "    .dataframe tbody tr th:only-of-type {\n",
       "        vertical-align: middle;\n",
       "    }\n",
       "\n",
       "    .dataframe tbody tr th {\n",
       "        vertical-align: top;\n",
       "    }\n",
       "\n",
       "    .dataframe thead th {\n",
       "        text-align: right;\n",
       "    }\n",
       "</style>\n",
       "<table border=\"1\" class=\"dataframe\">\n",
       "  <thead>\n",
       "    <tr style=\"text-align: right;\">\n",
       "      <th></th>\n",
       "      <th>temperature</th>\n",
       "    </tr>\n",
       "  </thead>\n",
       "  <tbody>\n",
       "    <tr>\n",
       "      <th>0</th>\n",
       "      <td>26</td>\n",
       "    </tr>\n",
       "    <tr>\n",
       "      <th>1</th>\n",
       "      <td>25</td>\n",
       "    </tr>\n",
       "    <tr>\n",
       "      <th>2</th>\n",
       "      <td>25</td>\n",
       "    </tr>\n",
       "    <tr>\n",
       "      <th>3</th>\n",
       "      <td>24</td>\n",
       "    </tr>\n",
       "    <tr>\n",
       "      <th>4</th>\n",
       "      <td>23</td>\n",
       "    </tr>\n",
       "  </tbody>\n",
       "</table>\n",
       "</div>"
      ],
      "text/plain": [
       "   temperature\n",
       "0           26\n",
       "1           25\n",
       "2           25\n",
       "3           24\n",
       "4           23"
      ]
     },
     "execution_count": 38,
     "metadata": {},
     "output_type": "execute_result"
    }
   ],
   "source": [
    "df_1.head(5)"
   ]
  },
  {
   "cell_type": "code",
   "execution_count": 39,
   "metadata": {
    "ExecuteTime": {
     "end_time": "2021-12-14T17:20:17.285038Z",
     "start_time": "2021-12-14T17:20:17.268005Z"
    }
   },
   "outputs": [],
   "source": [
    "df_1 = df_1.astype('float32')"
   ]
  },
  {
   "cell_type": "code",
   "execution_count": 40,
   "metadata": {
    "ExecuteTime": {
     "end_time": "2021-12-14T17:20:17.538121Z",
     "start_time": "2021-12-14T17:20:17.520013Z"
    }
   },
   "outputs": [],
   "source": [
    "scaler = MinMaxScaler(feature_range=(0,1))\n",
    "df_1 = scaler.fit_transform(df_1)"
   ]
  },
  {
   "cell_type": "code",
   "execution_count": 41,
   "metadata": {
    "ExecuteTime": {
     "end_time": "2021-12-14T17:20:17.759125Z",
     "start_time": "2021-12-14T17:20:17.753148Z"
    }
   },
   "outputs": [],
   "source": [
    "train_size = int(len(df_1)*0.7)\n",
    "test_size = len(df_1) - train_size\n",
    "train,test = df_1[0:train_size,:],df_1[train_size:len(df),:] "
   ]
  },
  {
   "cell_type": "code",
   "execution_count": 42,
   "metadata": {
    "ExecuteTime": {
     "end_time": "2021-12-14T17:20:17.950075Z",
     "start_time": "2021-12-14T17:20:17.936075Z"
    }
   },
   "outputs": [],
   "source": [
    "def to_sequences (df_1, seq_size = 1):\n",
    "    x = []\n",
    "    y = []\n",
    "    for i in range(len(df_1)-seq_size-1):\n",
    "        window = df_1[i:(i+seq_size),0]\n",
    "        x.append(window)\n",
    "        y.append(df_1[i+seq_size,0])\n",
    "    return np.array(x),np.array(y)"
   ]
  },
  {
   "cell_type": "code",
   "execution_count": 43,
   "metadata": {
    "ExecuteTime": {
     "end_time": "2021-12-14T17:20:18.140082Z",
     "start_time": "2021-12-14T17:20:18.127077Z"
    }
   },
   "outputs": [],
   "source": [
    "seq_size = 5"
   ]
  },
  {
   "cell_type": "code",
   "execution_count": 44,
   "metadata": {
    "ExecuteTime": {
     "end_time": "2021-12-14T17:20:18.313083Z",
     "start_time": "2021-12-14T17:20:18.300078Z"
    }
   },
   "outputs": [],
   "source": [
    "trainX, trainY = to_sequences(train, seq_size)\n",
    "testX, testY = to_sequences(test, seq_size)"
   ]
  },
  {
   "cell_type": "code",
   "execution_count": 45,
   "metadata": {
    "ExecuteTime": {
     "end_time": "2021-12-14T17:20:18.487098Z",
     "start_time": "2021-12-14T17:20:18.473077Z"
    }
   },
   "outputs": [
    {
     "name": "stdout",
     "output_type": "stream",
     "text": [
      "Shape of training set: (343, 5)\n",
      "Shape of test set: (144, 5)\n"
     ]
    }
   ],
   "source": [
    "print('Shape of training set: {}'.format (trainX.shape))\n",
    "print('Shape of test set: {}'.format (testX.shape))"
   ]
  },
  {
   "cell_type": "code",
   "execution_count": 46,
   "metadata": {
    "ExecuteTime": {
     "end_time": "2021-12-14T17:20:18.740135Z",
     "start_time": "2021-12-14T17:20:18.680115Z"
    }
   },
   "outputs": [
    {
     "name": "stdout",
     "output_type": "stream",
     "text": [
      "Model: \"sequential_2\"\n",
      "_________________________________________________________________\n",
      " Layer (type)                Output Shape              Param #   \n",
      "=================================================================\n",
      " dense_4 (Dense)             (None, 64)                384       \n",
      "                                                                 \n",
      " dense_5 (Dense)             (None, 32)                2080      \n",
      "                                                                 \n",
      " dense_6 (Dense)             (None, 1)                 33        \n",
      "                                                                 \n",
      "=================================================================\n",
      "Total params: 2,497\n",
      "Trainable params: 2,497\n",
      "Non-trainable params: 0\n",
      "_________________________________________________________________\n",
      "None\n"
     ]
    }
   ],
   "source": [
    "seed(321)\n",
    "tensorflow.random.set_seed(123)\n",
    "\n",
    "model3 = Sequential()\n",
    "model3.add(Dense(64, input_dim=seq_size, activation='tanh'))\n",
    "model3.add(Dense(32, activation='tanh'))\n",
    "model3.add(Dense(1))\n",
    "model3.compile(loss='mean_squared_error', optimizer='adam', metrics=[tensorflow.keras.metrics.RootMeanSquaredError(name='rmse')])\n",
    "print(model3.summary())"
   ]
  },
  {
   "cell_type": "code",
   "execution_count": 47,
   "metadata": {
    "ExecuteTime": {
     "end_time": "2021-12-14T17:20:20.191124Z",
     "start_time": "2021-12-14T17:20:18.901123Z"
    }
   },
   "outputs": [
    {
     "name": "stdout",
     "output_type": "stream",
     "text": [
      "Epoch 1/20\n",
      "11/11 - 0s - loss: 0.5107 - rmse: 0.7147 - val_loss: 0.0415 - val_rmse: 0.2038 - 413ms/epoch - 38ms/step\n",
      "Epoch 2/20\n",
      "11/11 - 0s - loss: 0.0608 - rmse: 0.2465 - val_loss: 0.0961 - val_rmse: 0.3100 - 42ms/epoch - 4ms/step\n",
      "Epoch 3/20\n",
      "11/11 - 0s - loss: 0.0498 - rmse: 0.2231 - val_loss: 0.0252 - val_rmse: 0.1587 - 48ms/epoch - 4ms/step\n",
      "Epoch 4/20\n",
      "11/11 - 0s - loss: 0.0247 - rmse: 0.1572 - val_loss: 0.0276 - val_rmse: 0.1661 - 45ms/epoch - 4ms/step\n",
      "Epoch 5/20\n",
      "11/11 - 0s - loss: 0.0187 - rmse: 0.1366 - val_loss: 0.0176 - val_rmse: 0.1325 - 34ms/epoch - 3ms/step\n",
      "Epoch 6/20\n",
      "11/11 - 0s - loss: 0.0137 - rmse: 0.1171 - val_loss: 0.0142 - val_rmse: 0.1193 - 36ms/epoch - 3ms/step\n",
      "Epoch 7/20\n",
      "11/11 - 0s - loss: 0.0107 - rmse: 0.1037 - val_loss: 0.0108 - val_rmse: 0.1039 - 40ms/epoch - 4ms/step\n",
      "Epoch 8/20\n",
      "11/11 - 0s - loss: 0.0081 - rmse: 0.0898 - val_loss: 0.0083 - val_rmse: 0.0909 - 39ms/epoch - 4ms/step\n",
      "Epoch 9/20\n",
      "11/11 - 0s - loss: 0.0063 - rmse: 0.0791 - val_loss: 0.0064 - val_rmse: 0.0800 - 47ms/epoch - 4ms/step\n",
      "Epoch 10/20\n",
      "11/11 - 0s - loss: 0.0049 - rmse: 0.0699 - val_loss: 0.0051 - val_rmse: 0.0711 - 39ms/epoch - 4ms/step\n",
      "Epoch 11/20\n",
      "11/11 - 0s - loss: 0.0040 - rmse: 0.0629 - val_loss: 0.0042 - val_rmse: 0.0648 - 39ms/epoch - 4ms/step\n",
      "Epoch 12/20\n",
      "11/11 - 0s - loss: 0.0033 - rmse: 0.0573 - val_loss: 0.0036 - val_rmse: 0.0602 - 47ms/epoch - 4ms/step\n",
      "Epoch 13/20\n",
      "11/11 - 0s - loss: 0.0029 - rmse: 0.0542 - val_loss: 0.0033 - val_rmse: 0.0575 - 40ms/epoch - 4ms/step\n",
      "Epoch 14/20\n",
      "11/11 - 0s - loss: 0.0027 - rmse: 0.0518 - val_loss: 0.0031 - val_rmse: 0.0557 - 41ms/epoch - 4ms/step\n",
      "Epoch 15/20\n",
      "11/11 - 0s - loss: 0.0025 - rmse: 0.0503 - val_loss: 0.0030 - val_rmse: 0.0552 - 48ms/epoch - 4ms/step\n",
      "Epoch 16/20\n",
      "11/11 - 0s - loss: 0.0025 - rmse: 0.0501 - val_loss: 0.0030 - val_rmse: 0.0547 - 40ms/epoch - 4ms/step\n",
      "Epoch 17/20\n",
      "11/11 - 0s - loss: 0.0025 - rmse: 0.0498 - val_loss: 0.0030 - val_rmse: 0.0544 - 39ms/epoch - 4ms/step\n",
      "Epoch 18/20\n",
      "11/11 - 0s - loss: 0.0024 - rmse: 0.0493 - val_loss: 0.0030 - val_rmse: 0.0544 - 41ms/epoch - 4ms/step\n",
      "Epoch 19/20\n",
      "11/11 - 0s - loss: 0.0024 - rmse: 0.0493 - val_loss: 0.0029 - val_rmse: 0.0541 - 42ms/epoch - 4ms/step\n",
      "Epoch 20/20\n",
      "11/11 - 0s - loss: 0.0024 - rmse: 0.0490 - val_loss: 0.0029 - val_rmse: 0.0540 - 36ms/epoch - 3ms/step\n"
     ]
    }
   ],
   "source": [
    "history3 = model3.fit(trainX, trainY, validation_data=(testX, testY), verbose=2, epochs=20)"
   ]
  },
  {
   "cell_type": "code",
   "execution_count": 48,
   "metadata": {
    "ExecuteTime": {
     "end_time": "2021-12-14T17:20:20.494202Z",
     "start_time": "2021-12-14T17:20:20.352154Z"
    }
   },
   "outputs": [],
   "source": [
    "trainPredict = model3.predict(trainX)\n",
    "testPredict = model3.predict(testX)"
   ]
  },
  {
   "cell_type": "code",
   "execution_count": 49,
   "metadata": {
    "ExecuteTime": {
     "end_time": "2021-12-14T17:20:20.669143Z",
     "start_time": "2021-12-14T17:20:20.656140Z"
    }
   },
   "outputs": [],
   "source": [
    "trainPredict = scaler.inverse_transform(trainPredict)\n",
    "testPredict = scaler.inverse_transform(testPredict)"
   ]
  },
  {
   "cell_type": "code",
   "execution_count": 50,
   "metadata": {
    "ExecuteTime": {
     "end_time": "2021-12-14T17:20:20.843159Z",
     "start_time": "2021-12-14T17:20:20.829143Z"
    }
   },
   "outputs": [],
   "source": [
    "testY_inverse = scaler.inverse_transform([testY])\n",
    "trainY_inverse = scaler.inverse_transform([trainY])"
   ]
  },
  {
   "cell_type": "code",
   "execution_count": 51,
   "metadata": {
    "ExecuteTime": {
     "end_time": "2021-12-14T17:20:21.032160Z",
     "start_time": "2021-12-14T17:20:21.019143Z"
    }
   },
   "outputs": [
    {
     "name": "stdout",
     "output_type": "stream",
     "text": [
      "Train Score: 0.83 RMSE\n",
      "Test Score: 0.92 RMSE\n"
     ]
    }
   ],
   "source": [
    "trainScore3 = math.sqrt(mean_squared_error(trainY_inverse[0], trainPredict[:,0]))\n",
    "print('Train Score: %.2f RMSE' %(trainScore3))\n",
    "\n",
    "testScore3 = math.sqrt(mean_squared_error(testY_inverse[0], testPredict[:,0]))\n",
    "print('Test Score: %.2f RMSE' %(testScore3))"
   ]
  },
  {
   "cell_type": "code",
   "execution_count": 52,
   "metadata": {
    "ExecuteTime": {
     "end_time": "2021-12-14T17:20:21.208145Z",
     "start_time": "2021-12-14T17:20:21.194150Z"
    }
   },
   "outputs": [],
   "source": [
    "trainPredictPlot = np.empty_like(df_1)\n",
    "trainPredictPlot[:,:] = np.nan\n",
    "trainPredictPlot[seq_size:len(trainPredict)+seq_size,:] = trainPredict"
   ]
  },
  {
   "cell_type": "code",
   "execution_count": 53,
   "metadata": {
    "ExecuteTime": {
     "end_time": "2021-12-14T17:20:21.412153Z",
     "start_time": "2021-12-14T17:20:21.400181Z"
    }
   },
   "outputs": [],
   "source": [
    "testPredictPlot = np.empty_like(df_1)\n",
    "testPredictPlot[:,:] = np.nan\n",
    "testPredictPlot[len(trainPredict)+(seq_size*2)+1:len(df_1)-1,:] = testPredict"
   ]
  },
  {
   "cell_type": "code",
   "execution_count": 54,
   "metadata": {
    "ExecuteTime": {
     "end_time": "2021-12-14T17:20:21.761187Z",
     "start_time": "2021-12-14T17:20:21.621144Z"
    }
   },
   "outputs": [
    {
     "data": {
      "text/plain": [
       "[<matplotlib.lines.Line2D at 0x19514b914f0>]"
      ]
     },
     "execution_count": 54,
     "metadata": {},
     "output_type": "execute_result"
    },
    {
     "data": {
      "image/png": "[encoded data removed]",
      "text/plain": [
       "<Figure size 432x288 with 1 Axes>"
      ]
     },
     "metadata": {
      "needs_background": "light"
     },
     "output_type": "display_data"
    }
   ],
   "source": [
    "plt.plot(scaler.inverse_transform(df_1))\n",
    "plt.plot(trainPredictPlot)\n",
    "plt.plot(testPredictPlot)"
   ]
  },
  {
   "cell_type": "markdown",
   "metadata": {
    "ExecuteTime": {
     "end_time": "2021-12-11T13:48:52.135025Z",
     "start_time": "2021-12-11T13:48:52.131014Z"
    }
   },
   "source": [
    "## LSTM with a single varibale"
   ]
  },
  {
   "cell_type": "code",
   "execution_count": 55,
   "metadata": {
    "ExecuteTime": {
     "end_time": "2021-12-14T17:20:21.980275Z",
     "start_time": "2021-12-14T17:20:21.967185Z"
    }
   },
   "outputs": [
    {
     "name": "stdout",
     "output_type": "stream",
     "text": [
      "Shape of training set: (343, 5)\n",
      "Shape of test set: (144, 5)\n"
     ]
    }
   ],
   "source": [
    "print('Shape of training set: {}'.format (trainX.shape))\n",
    "print('Shape of test set: {}'.format (testX.shape))"
   ]
  },
  {
   "cell_type": "code",
   "execution_count": 56,
   "metadata": {
    "ExecuteTime": {
     "end_time": "2021-12-14T17:20:22.188234Z",
     "start_time": "2021-12-14T17:20:22.175228Z"
    }
   },
   "outputs": [],
   "source": [
    "trainX = np.reshape(trainX, (trainX.shape[0],1,trainX.shape[1]))\n",
    "testX = np.reshape(testX, (testX.shape[0],1, testX.shape[1]))"
   ]
  },
  {
   "cell_type": "code",
   "execution_count": 57,
   "metadata": {
    "ExecuteTime": {
     "end_time": "2021-12-14T17:20:22.396232Z",
     "start_time": "2021-12-14T17:20:22.383232Z"
    }
   },
   "outputs": [
    {
     "name": "stdout",
     "output_type": "stream",
     "text": [
      "Shape of training set: (343, 1, 5)\n",
      "Shape of test set: (144, 1, 5)\n"
     ]
    }
   ],
   "source": [
    "print('Shape of training set: {}'.format (trainX.shape))\n",
    "print('Shape of test set: {}'.format (testX.shape))"
   ]
  },
  {
   "cell_type": "code",
   "execution_count": 58,
   "metadata": {
    "ExecuteTime": {
     "end_time": "2021-12-14T17:20:22.646283Z",
     "start_time": "2021-12-14T17:20:22.601228Z"
    }
   },
   "outputs": [],
   "source": [
    "seed(321)\n",
    "tensorflow.random.set_seed(123)\n",
    "\n",
    "model4 = Sequential()\n",
    "model4.add(Bidirectional(LSTM(64, activation = 'tanh',input_shape=(None, seq_size), return_sequences = True)))\n",
    "model4.add(Bidirectional(LSTM(32, activation = 'tanh',return_sequences = False)))\n",
    "model4.add(Dense(1))\n",
    "model4.compile(loss='mean_squared_error', optimizer = 'adam', metrics=[tensorflow.keras.metrics.RootMeanSquaredError(name='rmse')])"
   ]
  },
  {
   "cell_type": "code",
   "execution_count": 59,
   "metadata": {
    "ExecuteTime": {
     "end_time": "2021-12-14T17:20:30.958192Z",
     "start_time": "2021-12-14T17:20:22.977258Z"
    },
    "scrolled": true
   },
   "outputs": [
    {
     "name": "stdout",
     "output_type": "stream",
     "text": [
      "Epoch 1/20\n",
      "11/11 - 7s - loss: 0.2764 - rmse: 0.5258 - val_loss: 0.1911 - val_rmse: 0.4371 - 7s/epoch - 599ms/step\n",
      "Epoch 2/20\n",
      "11/11 - 0s - loss: 0.1346 - rmse: 0.3669 - val_loss: 0.0633 - val_rmse: 0.2517 - 77ms/epoch - 7ms/step\n",
      "Epoch 3/20\n",
      "11/11 - 0s - loss: 0.0432 - rmse: 0.2078 - val_loss: 0.0465 - val_rmse: 0.2156 - 73ms/epoch - 7ms/step\n",
      "Epoch 4/20\n",
      "11/11 - 0s - loss: 0.0340 - rmse: 0.1844 - val_loss: 0.0337 - val_rmse: 0.1834 - 73ms/epoch - 7ms/step\n",
      "Epoch 5/20\n",
      "11/11 - 0s - loss: 0.0267 - rmse: 0.1633 - val_loss: 0.0309 - val_rmse: 0.1758 - 72ms/epoch - 7ms/step\n",
      "Epoch 6/20\n",
      "11/11 - 0s - loss: 0.0246 - rmse: 0.1568 - val_loss: 0.0277 - val_rmse: 0.1666 - 74ms/epoch - 7ms/step\n",
      "Epoch 7/20\n",
      "11/11 - 0s - loss: 0.0218 - rmse: 0.1477 - val_loss: 0.0252 - val_rmse: 0.1588 - 71ms/epoch - 6ms/step\n",
      "Epoch 8/20\n",
      "11/11 - 0s - loss: 0.0194 - rmse: 0.1391 - val_loss: 0.0219 - val_rmse: 0.1479 - 67ms/epoch - 6ms/step\n",
      "Epoch 9/20\n",
      "11/11 - 0s - loss: 0.0168 - rmse: 0.1296 - val_loss: 0.0187 - val_rmse: 0.1369 - 74ms/epoch - 7ms/step\n",
      "Epoch 10/20\n",
      "11/11 - 0s - loss: 0.0141 - rmse: 0.1188 - val_loss: 0.0155 - val_rmse: 0.1246 - 72ms/epoch - 7ms/step\n",
      "Epoch 11/20\n",
      "11/11 - 0s - loss: 0.0115 - rmse: 0.1073 - val_loss: 0.0123 - val_rmse: 0.1110 - 68ms/epoch - 6ms/step\n",
      "Epoch 12/20\n",
      "11/11 - 0s - loss: 0.0088 - rmse: 0.0940 - val_loss: 0.0094 - val_rmse: 0.0969 - 71ms/epoch - 6ms/step\n",
      "Epoch 13/20\n",
      "11/11 - 0s - loss: 0.0067 - rmse: 0.0820 - val_loss: 0.0072 - val_rmse: 0.0846 - 60ms/epoch - 5ms/step\n",
      "Epoch 14/20\n",
      "11/11 - 0s - loss: 0.0050 - rmse: 0.0707 - val_loss: 0.0055 - val_rmse: 0.0742 - 59ms/epoch - 5ms/step\n",
      "Epoch 15/20\n",
      "11/11 - 0s - loss: 0.0040 - rmse: 0.0629 - val_loss: 0.0052 - val_rmse: 0.0721 - 57ms/epoch - 5ms/step\n",
      "Epoch 16/20\n",
      "11/11 - 0s - loss: 0.0035 - rmse: 0.0593 - val_loss: 0.0048 - val_rmse: 0.0692 - 62ms/epoch - 6ms/step\n",
      "Epoch 17/20\n",
      "11/11 - 0s - loss: 0.0035 - rmse: 0.0590 - val_loss: 0.0050 - val_rmse: 0.0705 - 61ms/epoch - 6ms/step\n",
      "Epoch 18/20\n",
      "11/11 - 0s - loss: 0.0034 - rmse: 0.0582 - val_loss: 0.0047 - val_rmse: 0.0686 - 61ms/epoch - 6ms/step\n",
      "Epoch 19/20\n",
      "11/11 - 0s - loss: 0.0033 - rmse: 0.0579 - val_loss: 0.0046 - val_rmse: 0.0677 - 74ms/epoch - 7ms/step\n",
      "Epoch 20/20\n",
      "11/11 - 0s - loss: 0.0033 - rmse: 0.0579 - val_loss: 0.0046 - val_rmse: 0.0682 - 68ms/epoch - 6ms/step\n"
     ]
    }
   ],
   "source": [
    "history4 = model4.fit(trainX, trainY, validation_data=(testX, testY), verbose=2, epochs=20)"
   ]
  },
  {
   "cell_type": "code",
   "execution_count": 60,
   "metadata": {
    "ExecuteTime": {
     "end_time": "2021-12-14T17:20:31.181695Z",
     "start_time": "2021-12-14T17:20:31.168149Z"
    },
    "scrolled": true
   },
   "outputs": [
    {
     "name": "stdout",
     "output_type": "stream",
     "text": [
      "Model: \"sequential_3\"\n",
      "_________________________________________________________________\n",
      " Layer (type)                Output Shape              Param #   \n",
      "=================================================================\n",
      " bidirectional_2 (Bidirectio  (None, 1, 128)           35840     \n",
      " nal)                                                            \n",
      "                                                                 \n",
      " bidirectional_3 (Bidirectio  (None, 64)               41216     \n",
      " nal)                                                            \n",
      "                                                                 \n",
      " dense_7 (Dense)             (None, 1)                 65        \n",
      "                                                                 \n",
      "=================================================================\n",
      "Total params: 77,121\n",
      "Trainable params: 77,121\n",
      "Non-trainable params: 0\n",
      "_________________________________________________________________\n"
     ]
    }
   ],
   "source": [
    "model4.summary()"
   ]
  },
  {
   "cell_type": "code",
   "execution_count": 61,
   "metadata": {
    "ExecuteTime": {
     "end_time": "2021-12-14T17:20:32.675339Z",
     "start_time": "2021-12-14T17:20:31.391770Z"
    }
   },
   "outputs": [],
   "source": [
    "trainPredict = model4.predict(trainX)\n",
    "testPredict = model4.predict(testX)"
   ]
  },
  {
   "cell_type": "code",
   "execution_count": 62,
   "metadata": {
    "ExecuteTime": {
     "end_time": "2021-12-14T17:20:32.894944Z",
     "start_time": "2021-12-14T17:20:32.881249Z"
    }
   },
   "outputs": [],
   "source": [
    "trainPredict = scaler.inverse_transform(trainPredict)\n",
    "testPredict = scaler.inverse_transform(testPredict)\n",
    "testY_inverse = scaler.inverse_transform([testY])\n",
    "trainY_inverse = scaler.inverse_transform([trainY])"
   ]
  },
  {
   "cell_type": "code",
   "execution_count": 63,
   "metadata": {
    "ExecuteTime": {
     "end_time": "2021-12-14T17:20:33.117900Z",
     "start_time": "2021-12-14T17:20:33.103931Z"
    }
   },
   "outputs": [
    {
     "name": "stdout",
     "output_type": "stream",
     "text": [
      "Train Score: 0.97 RMSE\n",
      "Test Score: 1.16 RMSE\n"
     ]
    }
   ],
   "source": [
    "trainScore4 = math.sqrt(mean_squared_error(trainY_inverse[0], trainPredict[:,0]))\n",
    "print('Train Score: %.2f RMSE' %(trainScore4))\n",
    "\n",
    "testScore4 = math.sqrt(mean_squared_error(testY_inverse[0], testPredict[:,0]))\n",
    "print('Test Score: %.2f RMSE' %(testScore4))"
   ]
  },
  {
   "cell_type": "code",
   "execution_count": 64,
   "metadata": {
    "ExecuteTime": {
     "end_time": "2021-12-14T17:20:33.323924Z",
     "start_time": "2021-12-14T17:20:33.310899Z"
    }
   },
   "outputs": [],
   "source": [
    "trainPredictPlot = np.empty_like(df_1)\n",
    "trainPredictPlot[:,:] = np.nan\n",
    "trainPredictPlot[seq_size:len(trainPredict)+seq_size,:] = trainPredict"
   ]
  },
  {
   "cell_type": "code",
   "execution_count": 65,
   "metadata": {
    "ExecuteTime": {
     "end_time": "2021-12-14T17:20:33.652897Z",
     "start_time": "2021-12-14T17:20:33.510902Z"
    }
   },
   "outputs": [
    {
     "data": {
      "text/plain": [
       "[<matplotlib.lines.Line2D at 0x1952f899fa0>]"
      ]
     },
     "execution_count": 65,
     "metadata": {},
     "output_type": "execute_result"
    },
    {
     "data": {
      "image/png": "[encoded data removed]",
      "text/plain": [
       "<Figure size 432x288 with 1 Axes>"
      ]
     },
     "metadata": {
      "needs_background": "light"
     },
     "output_type": "display_data"
    }
   ],
   "source": [
    "plt.plot(scaler.inverse_transform(df_1))\n",
    "plt.plot(trainPredictPlot)\n",
    "plt.plot(testPredictPlot)"
   ]
  },
  {
   "cell_type": "code",
   "execution_count": 66,
   "metadata": {
    "ExecuteTime": {
     "end_time": "2021-12-14T17:20:33.857943Z",
     "start_time": "2021-12-14T17:20:33.843898Z"
    }
   },
   "outputs": [],
   "source": [
    "total_score = []"
   ]
  },
  {
   "cell_type": "code",
   "execution_count": 67,
   "metadata": {
    "ExecuteTime": {
     "end_time": "2021-12-14T17:20:34.063955Z",
     "start_time": "2021-12-14T17:20:34.049899Z"
    }
   },
   "outputs": [],
   "source": [
    "total_score.append(testScore1)\n",
    "total_score.append(testScore2)\n",
    "total_score.append(testScore3)\n",
    "total_score.append(testScore4)"
   ]
  },
  {
   "cell_type": "code",
   "execution_count": 68,
   "metadata": {
    "ExecuteTime": {
     "end_time": "2021-12-14T17:20:34.268899Z",
     "start_time": "2021-12-14T17:20:34.254899Z"
    }
   },
   "outputs": [
    {
     "data": {
      "text/plain": [
       "[1.2299560524577418, 2.023306114947553, 0.9178617972068661, 1.1588988106221818]"
      ]
     },
     "execution_count": 68,
     "metadata": {},
     "output_type": "execute_result"
    }
   ],
   "source": [
    "total_score"
   ]
  },
  {
   "cell_type": "code",
   "execution_count": 69,
   "metadata": {
    "ExecuteTime": {
     "end_time": "2021-12-14T17:20:34.474898Z",
     "start_time": "2021-12-14T17:20:34.460981Z"
    }
   },
   "outputs": [
    {
     "data": {
      "text/html": [
       "<div>\n",
       "<style scoped>\n",
       "    .dataframe tbody tr th:only-of-type {\n",
       "        vertical-align: middle;\n",
       "    }\n",
       "\n",
       "    .dataframe tbody tr th {\n",
       "        vertical-align: top;\n",
       "    }\n",
       "\n",
       "    .dataframe thead th {\n",
       "        text-align: right;\n",
       "    }\n",
       "</style>\n",
       "<table border=\"1\" class=\"dataframe\">\n",
       "  <thead>\n",
       "    <tr style=\"text-align: right;\">\n",
       "      <th></th>\n",
       "      <th>RSME</th>\n",
       "    </tr>\n",
       "  </thead>\n",
       "  <tbody>\n",
       "    <tr>\n",
       "      <th>Single MLP</th>\n",
       "      <td>0.917862</td>\n",
       "    </tr>\n",
       "    <tr>\n",
       "      <th>Single LSTM</th>\n",
       "      <td>1.158899</td>\n",
       "    </tr>\n",
       "    <tr>\n",
       "      <th>Multi LSTM</th>\n",
       "      <td>1.229956</td>\n",
       "    </tr>\n",
       "    <tr>\n",
       "      <th>Multi MLP</th>\n",
       "      <td>2.023306</td>\n",
       "    </tr>\n",
       "  </tbody>\n",
       "</table>\n",
       "</div>"
      ],
      "text/plain": [
       "                 RSME\n",
       "Single MLP   0.917862\n",
       "Single LSTM  1.158899\n",
       "Multi LSTM   1.229956\n",
       "Multi MLP    2.023306"
      ]
     },
     "execution_count": 69,
     "metadata": {},
     "output_type": "execute_result"
    }
   ],
   "source": [
    "df_total = pd.DataFrame(total_score, ['Multi LSTM', 'Multi MLP',  'Single MLP', 'Single LSTM'], columns = ['RSME'])\n",
    "df_total.sort_values('RSME')"
   ]
  }
 ],
 "metadata": {
  "kernelspec": {
   "display_name": "Python 3",
   "language": "python",
   "name": "python3"
  },
  "language_info": {
   "codemirror_mode": {
    "name": "ipython",
    "version": 3
   },
   "file_extension": ".py",
   "mimetype": "text/x-python",
   "name": "python",
   "nbconvert_exporter": "python",
   "pygments_lexer": "ipython3",
   "version": "3.8.3"
  },
  "toc": {
   "base_numbering": 1,
   "nav_menu": {},
   "number_sections": true,
   "sideBar": true,
   "skip_h1_title": false,
   "title_cell": "Table of Contents",
   "title_sidebar": "Contents",
   "toc_cell": false,
   "toc_position": {},
   "toc_section_display": true,
   "toc_window_display": false
  },
  "varInspector": {
   "cols": {
    "lenName": 16,
    "lenType": 16,
    "lenVar": 40
   },
   "kernels_config": {
    "python": {
     "delete_cmd_postfix": "",
     "delete_cmd_prefix": "del ",
     "library": "var_list.py",
     "varRefreshCmd": "print(var_dic_list())"
    },
    "r": {
     "delete_cmd_postfix": ") ",
     "delete_cmd_prefix": "rm(",
     "library": "var_list.r",
     "varRefreshCmd": "cat(var_dic_list()) "
    }
   },
   "types_to_exclude": [
    "module",
    "function",
    "builtin_function_or_method",
    "instance",
    "_Feature"
   ],
   "window_display": false
  }
 },
 "nbformat": 4,
 "nbformat_minor": 4
}
